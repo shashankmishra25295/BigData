{
 "cells": [
  {
   "cell_type": "markdown",
   "metadata": {},
   "source": [
    "# Table of Contents:\n",
    "\n",
    "    1. Introduction\n",
    "    2. Apache Spark\n",
    "        2.1 Data Science tasks\n",
    "        2.2 Storage layers for Apache Spark\n",
    "        2.3 Spark Context: Role\n",
    "    3. Introduction to the problem\n",
    "        3.1 PageRank\n",
    "        3.2 PageRank Algorithm\n",
    "        3.3 Understandimg dataset\n",
    "    4. Programming with RDDs\n",
    "        4.1 What are RDDs?\n",
    "        4.2 Creating RDDs\n",
    "        4.3 Opertions on RDDs\n",
    "            4.3.1 Transformations\n",
    "            4.3.2 Actions\n",
    "        4.4 Quiz\n",
    "    5. Project\n",
    "        5.1 Introduction: Zipf's Law\n",
    "        5.2 Visualization with NumPy\n",
    "        5.3 Word Count from Project Gutenberg Free ebook Texts\n",
    "        5.4 Tasks\n",
    "        \n",
    "    6. Apache Spark Architecture\n",
    "        6.1 Why to learn underlying architecture\n",
    "        6.2 Spark Runtime architecture\n",
    "        6.3 The Driver\n",
    "        6.4 The Executor\n",
    "        6.5 Cluster manager\n",
    "        6.6 Difference between Job and Tasks\n",
    "        6.7 Summary\n",
    "        6.8 QUIZ\n",
    "        \n",
    "    7. Spark SQL\n",
    "        Part 1 - Dataframes\n",
    "        \n",
    "        7.1 Introduction: Dataframes\n",
    "        7.2 Why Dataframes are useful?\n",
    "        7.3 Create a Dataframe\n",
    "        7.4 Introduction to Dataset\n",
    "        7.5 Selecting Colums\n",
    "        7.6 Operations on Coolumns\n",
    "        7.7 User Defined functions\n",
    "        7.8 Quiz\n",
    "        \n",
    "        Part 2: SQL Queries\n",
    "        \n",
    "        7.9 Register temproary table\n",
    "        7.10 SQL Queries with Spark\n",
    "        \n",
    "        Project\n",
    "        \n",
    "    8. Power of MLlib:Apache Spark\n",
    "        \n",
    "        8.1 Machine Learning with Spark \n",
    "        8.2 Introduction to the problem \n",
    "        8.3 ML Pipelines \n",
    "        8.4 Tasks \n",
    "        8.5 Project"
   ]
  },
  {
   "cell_type": "markdown",
   "metadata": {},
   "source": [
    "## Pick up the threads\n",
    "\n",
    "In Big Data Architectures, after Data Ingestion and storage layer, there comes Data Processing layer. In the Data Processing Layer, we will discuss Aache Spark to process Big Data in a distributed and efficient manner."
   ]
  },
  {
   "cell_type": "markdown",
   "metadata": {},
   "source": [
    "# Introduction\n",
    "With the rapid growth of emerging applications like social network, semantic web, sensor networks and LBS (Location Based Service) applications, a variety of data to be processed continues to witness a quick increase. Effective management and processing of large-scale data poses an interesting but critical challenge. Once you have Data collected at one layer, next step is to take it to proccessing layer.\n",
    "\n",
    "In this concept we will learn ways to proccess big data in a distributed environment with parallel computation. Tools used in industry at this layer:\n",
    "\n",
    "**Apache Spark:**  Spark is the open standard for flexible in-memory data processing that enables batch, real-time, and advanced analytics on the Apache Hadoop platform.\n",
    "\n",
    "**Apache Flink:** Apache Flink is an open source streaming platform which provides you tremendous capabilities to run real-time data processing pipelines in a fault-tolerant way at a scale of millions of events per second. It has better support for stream processing and some significant improvements.\n",
    "\n",
    "**Apache Spark vs Apache Flink**\n",
    "\n",
    "- Flink and Spark are both general-purpose data processing platforms and top level projects of the Apache Software Foundation (ASF). While Spark is a batch oriented system that operates on chunks of data, called RDDs, Apache Flink is a stream processing system able to process row after row in real time.\n",
    "\n",
    "**Apache Sqoop:** Apache Sqoop is a tool in Hadoop ecosystem which is designed to transfer data between HDFS (Hadoop storage) and relational database servers like mysql, Oracle RDB, SQLite, Teradata, Netezza, Postgres etc. Apache Sqoop imports data from relational databases to HDFS, and exports data from HDFS to relational databases. It efficiently transfers bulk data between Hadoop and external datastores such as enterprise data warehouses, relational databases, etc.\n",
    "\n",
    "**Why Apache Sqoop?**\n",
    "\n",
    "Now, as we know that Apache Flume is a data ingestion tool for unstructured sources, but organisations store their operational data in relational databases. So, there was a need of tool which can import and export data from relational databases. This is why Apache Sqoop was born. Sqoop can easily integrate with Hadoop and dump structured data from relational databases on HDFS, complimenting the power of Hadoop. This is why Apache Flume is an important part of Hadoop Ecosystem."
   ]
  },
  {
   "cell_type": "markdown",
   "metadata": {},
   "source": [
    "# Apache Spark\n",
    "##  What is Apache Spark?\n",
    "\n",
    "**Apache Spark is a cluster computing platform designed to be fast and general-purpose.**\n",
    "\n",
    "- On the speed side, Spark extends the popular MapReduce model to efficiently support more types of computations, including interactive queries and stream processing.\n",
    "\n",
    "- One of the main features Spark offers for speed is the ability to run computations in memory, but the system is also more efficient than MapReduce for complex applications running on disk.\n",
    "\n",
    "- At its core, Spark is a **“computational engine”** that is responsible for scheduling, distributing, and monitoring applications consisting of many computational tasks across many worker machines, or a computing cluster.\n",
    "\n",
    "\n",
    "\n",
    "\n",
    "<img src = \"images/apache-spark-vs-hadoop-mapreduce.jpg\">"
   ]
  },
  {
   "cell_type": "markdown",
   "metadata": {},
   "source": [
    "## 2.1 Apache Spark: Data Science tasks\n",
    "\n",
    "- Data scientists job includes experience with SQL, statistics, predictive modeling (machine learning), and programming, usually in Python, Matlab, or R. Data scientists also have experience with techniques necessary to transform data into formats that can be analyzed for insights (sometimes referred to as data wrangling)\n",
    "\n",
    "\n",
    "- Spark’s speed and simple APIs can make their life bit easy, and its built-in libraries mean that many algorithms are available out of the box.\n",
    "\n",
    "- The Spark shell makes it easy to do interactive data analysis using Python or Scala.\n",
    "\n",
    "- Spark SQL also has a separate SQL shell that can be used to do data exploration using SQL, or Spark SQL can be used as part of a regular Spark program or in the Spark shell.\n",
    "\n",
    "- Machine learning and data analysis is supported through the MLLib libraries or you can load your own models too.\n",
    "\n",
    "- Spark provides a simple way to parallelize these applications across clusters, and hides the complexity of distributed systems programming, network communication, and fault tolerance"
   ]
  },
  {
   "cell_type": "markdown",
   "metadata": {},
   "source": [
    "## 2.2 Storage layers for Spark\n",
    "\n",
    "- Spark can create distributed datasets from any file stored in the Hadoop distributed filesystem (HDFS) or other storage systems supported by the Hadoop APIs. Some examples: **local filesystem, Amazon S3, Cassandra, Hive, HBase, etc.**\n",
    "\n",
    "**Note:** Spark does not require Hadoop; it simply has support for storage systems implementing the Hadoop APIs."
   ]
  },
  {
   "cell_type": "markdown",
   "metadata": {},
   "source": [
    "## 2.3 SparkContext\n",
    "\n",
    "Before starting on writing a spark application it's necessary to understand Spark context. Spark context sets up internal services and establishes a connection to a Spark execution environment. \n",
    "\n",
    "## Role of a Spark Context\n",
    "\n",
    "**Spark Context is the entry point. Like a key to your car.**\n",
    "\n",
    "- Tells Sparks how to access a cluster\n",
    "\n",
    "- Allocates Executors\n",
    "\n",
    "-  The context, living in your driver program, coordinates sets of processes on the cluster to run your application.\n",
    "\n",
    "- The context keeps track of live executors by sending heartbeat messages periodically. \n",
    "\n",
    "\n",
    "- Third, the context may perform dynamic resource allocation if the cluster manager permits. This increases cluster utilization in shared environments by proper scheduling of multiple applications according to their resource demands.\n",
    "\n",
    "**Example 1:**\n",
    "\n",
    "In the sense, if you want to compute a complex aggregation on spark, you need to distribute the task in the cluster.\n",
    "\n",
    "Spark context is the gateway to a Spark Cluster.\n",
    "\n",
    "**Example 2:**\n",
    "\n",
    "If you have a dataset ( simple CSV/TXT file) and want computations on this data, you want all the worker nodes to have access to this data. Use the spark context to broadcast this file to all the nodes.\n",
    "\n",
    "- It allows your Spark Application to access Spark Cluster with the help of Resource Manager. The resource manager can be one of these three- Spark Standalone, YARN, Apache Mesos\n",
    "\n",
    "<img src = \"images/sc.jpeg\">\n",
    "\n",
    "\n",
    "\n",
    "If your have Spark running then instance of `SparkContext` will be available to you. \n",
    "Also, you can use `findspark` module to get running SparkContext into your console. Initiating `SparkContext` in that case would be as follows:\n",
    "\n",
    "```python\n",
    "import findspark\n",
    "findspark.init()\n",
    "import pyspark\n",
    "sc = pyspark.SparkContext()\n",
    "```\n",
    "\n",
    "> you may need to pass `spark_home` path to `init` method call\n",
    "\n",
    "Example:\n",
    "\n",
    "`findspark.init(spark_home='path_to_spark')`\n",
    "\n",
    "Next, type `sc` to check if you have a SparkContext running: "
   ]
  },
  {
   "cell_type": "code",
   "execution_count": 1,
   "metadata": {},
   "outputs": [
    {
     "data": {
      "text/html": [
       "\n",
       "        <div>\n",
       "            <p><b>SparkContext</b></p>\n",
       "\n",
       "            <p><a href=\"http://192.168.1.107:4040\">Spark UI</a></p>\n",
       "\n",
       "            <dl>\n",
       "              <dt>Version</dt>\n",
       "                <dd><code>v2.3.0</code></dd>\n",
       "              <dt>Master</dt>\n",
       "                <dd><code>local[*]</code></dd>\n",
       "              <dt>AppName</dt>\n",
       "                <dd><code>PySparkShell</code></dd>\n",
       "            </dl>\n",
       "        </div>\n",
       "        "
      ],
      "text/plain": [
       "<SparkContext master=local[*] appName=PySparkShell>"
      ]
     },
     "execution_count": 1,
     "metadata": {},
     "output_type": "execute_result"
    }
   ],
   "source": [
    "### Test to see if you have access to `sc` variable which is `SparkContext` instance\n",
    "sc"
   ]
  },
  {
   "cell_type": "markdown",
   "metadata": {},
   "source": [
    "\n",
    "## 3 Introduction to the problem\n",
    "\n",
    "### 3.1 PageRank\n",
    "\n",
    "We live in a computer era. Internet is part of our everyday lives and information is only a click away. Just open your favorite search engine, like Google, AltaVista, Yahoo, type in the key words, and the search engine will display the pages relevant for your search. But how does a search engine really work?\n",
    "\n",
    "The usefulness of a search engine depends on the relevance of the result set it gives back. There may of course be millions of web pages that include a particular word or phrase; however some of them will be more relevant, popular, or authoritative than others. A user does not have the ability or patience to scan through all pages that contain the given query words. One expects the relevant pages to be displayed within the top 20-30 pages returned by the search engine. Modern search engines employ methods of ranking the results to provide the \"best\" results first that are more elaborate than just plain text ranking.\n",
    "\n",
    "So, our aim is to **Rank the webpages to provide best search results.**\n",
    "\n",
    "For this, we will use Page Rank Algorithm. The idea that Page Rank introduce is that, the importance of any web page can be judged by looking at the pages that link to it. Let's take an example to understand the algorithm better:\n",
    "\n",
    "<img src = \"images/pagerank.jpg\">\n",
    "\n",
    "\n",
    "### 3.2 How the Algorithm Works?\n",
    "\n",
    "The PageRank algorithm outputs a probability distribution that represents the likelihood that a person randomly clicking on web links will arrive at a particular web page. If we run the PageRank program with the input data file and indicate 20 iterations we shall get the following output: \n",
    "\n",
    " ```\n",
    " url_4 has rank: 1.3705281840649928.\n",
    " url_2 has rank: 0.4613200524321036.\n",
    " url_3 has rank: 0.7323900229505396.\n",
    " url_1 has rank: 1.4357617405523626.\n",
    " ```\n",
    "The results clearly indicates that URL_1 has the highest page rank followed by URL_4 and then URL_3 & last URL_2. The algorithm works in the following manner:\n",
    "\n",
    "If a URL (page) is referenced the most by other URLs then its rank increases, because being referenced means that it is important which is the case of URL_1.\n",
    "If an important URL like URL_1 references other URLs like URL_4 this will increase the destination’s ranking.\n",
    "\n",
    "\n",
    "\n",
    "## 3.3 Introduction to the Dataset\n",
    "\n",
    "Throughout the entire concept, we will be using MEDLINE records (abstracts in the life sciences domain). \n",
    "The links represent content-similarity links, i.e., pairs of abstracts that are similar in the words they contain. For example, consider pmid (unique identifier in the MEDLINE collection) [8709207](https://www.ncbi.nlm.nih.gov/pubmed/8709207). See the \"Related Links\" panel on the right hand side of the browser? The data provided above represent instances of graphs defined by such links.\n",
    "\n",
    "The files are tab-delimited adjacency list representations of the link between these medical records and hence their webpages. The first token on each line represents the unique id of the source node, and the rest of the tokens represent the target nodes (i.e., outlinks from the source node). If a node does not have any outlinks, its corresponding line will contain only one token (the source node id).\n",
    "\n",
    "\n",
    "### Let's get started\n",
    "\n",
    "**Treat**: The function implementing the algorithm logic will be provided :) \n",
    "\n",
    "**Task**: Read the dataset into RDDs and implement a simpler version of PageRank in PySpark."
   ]
  },
  {
   "cell_type": "markdown",
   "metadata": {},
   "source": [
    "# 4 Programming with RDDs\n",
    "\n",
    "## RDD: Resilient distributed dataset\n",
    "\n",
    "## 4.1 What are RDDs?\n",
    "\n",
    "-  RDDs stands for Resilient Distributed Dataset.\n",
    "\n",
    "- RDD is the **core abstraction** in Apache Spark.\n",
    "(In case you are thinking, What does abstraction mean in programming? then go through this excellent expalnation over stackoverflow - [Abstraction](https://stackoverflow.com/questions/21220155/what-does-abstraction-mean-in-programming)\n",
    "\n",
    "- An RDD is simply a **immutable distributed collection of elements**. \n",
    "\n",
    "- The name captures two important properties:\n",
    "    - **Resilient** means that we must be able to withstand failures and complete an ongoing computation.\n",
    "    - **Distributed** means that we must account for multiple machines having a subset of data. Formally, RDD is a read-only, partitioned collection of records\n",
    "\n",
    "- In Spark all work is expressed as either creating new RDDs, transforming existing RDDs, or calling operations on RDDs to compute a result.\n",
    "\n",
    "- The data inside a spark application is read into the form of RDDs and then Spark automatically distributes the data contained in RDDs across your cluster and parallelizes the operations you perform on them.\n",
    "\n",
    "- RDDs can contain any type of Python, Java, or Scala objects, including user-defined classes."
   ]
  },
  {
   "cell_type": "markdown",
   "metadata": {},
   "source": [
    "## 4.2 Creating RDDs\n",
    "\n",
    "Spark provides two ways to create RDDs:\n",
    "\n",
    "- Parallelizing a collection in your driver program.\n",
    "- Loading an external dataset\n",
    "\n",
    "### 4.2.1 Parallelizing a collection in your driver program:\n",
    "\n",
    "Create RDDs using parallelize() method on existing iterable or collection in your driver program:\n",
    "\n"
   ]
  },
  {
   "cell_type": "code",
   "execution_count": 2,
   "metadata": {},
   "outputs": [
    {
     "name": "stdout",
     "output_type": "stream",
     "text": [
      "<class 'pyspark.rdd.RDD'>\n",
      "Number of partitions in your RDD is  4\n"
     ]
    }
   ],
   "source": [
    "import re\n",
    "import sys\n",
    "from operator import add\n",
    "\n",
    "from pyspark.sql import SparkSession\n",
    "\n",
    "wordsList = ['cat', 'elephant', 'rat', 'rat', 'cat']\n",
    "\n",
    "#### splitting into 4 slices\n",
    "wordsRDD = sc.parallelize(wordsList, 4)\n",
    "\n",
    "#### Print out the type of wordsRDD\n",
    "print(type(wordsRDD))\n",
    "\n",
    "#### Print number of partitions in your RDD\n",
    "num_partitions = wordsRDD.getNumPartitions()\n",
    "print(\"Number of partitions in your RDD is  %s\" % (num_partitions))"
   ]
  },
  {
   "cell_type": "markdown",
   "metadata": {},
   "source": [
    "## Collecting parallelized data at one place\n",
    "\n",
    "Next, look into an RDD to check if our data is embedded correctly into it. For this, call `collect()` method on a RDD which will bring data from all the partitions at one place."
   ]
  },
  {
   "cell_type": "code",
   "execution_count": 3,
   "metadata": {},
   "outputs": [
    {
     "data": {
      "text/plain": [
       "['cat', 'elephant', 'rat', 'rat', 'cat']"
      ]
     },
     "execution_count": 3,
     "metadata": {},
     "output_type": "execute_result"
    }
   ],
   "source": [
    "wordsRDD.collect()"
   ]
  },
  {
   "cell_type": "markdown",
   "metadata": {},
   "source": [
    "Sometimes the data which is loaded in a RDD is very large and calling a collect operation on such RDD can be an expensive operation in terms of Memory. In those cases, we can call `take()` method to display a part of our RDD and not whole data. Let's call `take` on wordsRDD\":"
   ]
  },
  {
   "cell_type": "code",
   "execution_count": 4,
   "metadata": {},
   "outputs": [
    {
     "data": {
      "text/plain": [
       "['cat', 'elephant', 'rat']"
      ]
     },
     "execution_count": 4,
     "metadata": {},
     "output_type": "execute_result"
    }
   ],
   "source": [
    "wordsRDD.take(2)\n",
    "wordsRDD.take(3)"
   ]
  },
  {
   "cell_type": "markdown",
   "metadata": {},
   "source": [
    "### Task\n",
    "**Create your first RDD**\n",
    "\n",
    "In this task you will create a RDD containing the numbers in range(1,50) into 20 Partitions\n",
    "\n",
    "1. Generate a list `numbers_set` containing numbers in range(1,50)\n",
    "\n",
    "2. Parallelize the list using SparkContext into 20 partitions to create a RDD `numbers_rdd`.\n",
    "\n",
    "3. Print out number of partitions in the RDD\n",
    "\n",
    "3. Print out the first 2 elements in your RDD \n",
    "\n",
    "4. Print out the whole RDD"
   ]
  },
  {
   "cell_type": "markdown",
   "metadata": {},
   "source": [
    "## Solution:"
   ]
  },
  {
   "cell_type": "code",
   "execution_count": 5,
   "metadata": {},
   "outputs": [
    {
     "data": {
      "text/plain": [
       "[1,\n",
       " 2,\n",
       " 3,\n",
       " 4,\n",
       " 5,\n",
       " 6,\n",
       " 7,\n",
       " 8,\n",
       " 9,\n",
       " 10,\n",
       " 11,\n",
       " 12,\n",
       " 13,\n",
       " 14,\n",
       " 15,\n",
       " 16,\n",
       " 17,\n",
       " 18,\n",
       " 19,\n",
       " 20,\n",
       " 21,\n",
       " 22,\n",
       " 23,\n",
       " 24,\n",
       " 25,\n",
       " 26,\n",
       " 27,\n",
       " 28,\n",
       " 29,\n",
       " 30,\n",
       " 31,\n",
       " 32,\n",
       " 33,\n",
       " 34,\n",
       " 35,\n",
       " 36,\n",
       " 37,\n",
       " 38,\n",
       " 39,\n",
       " 40,\n",
       " 41,\n",
       " 42,\n",
       " 43,\n",
       " 44,\n",
       " 45,\n",
       " 46,\n",
       " 47,\n",
       " 48,\n",
       " 49]"
      ]
     },
     "execution_count": 5,
     "metadata": {},
     "output_type": "execute_result"
    }
   ],
   "source": [
    "#Generate a list `numbers_set` containing numbers in range(1,50)\n",
    "numbers_set = range(1,50)\n",
    "\n",
    "#Parallelize the list using SparkContext into 20 partitions to create a RDD `numbers_rdd`.\n",
    "numbers_rdd = sc.parallelize(numbers_set, 20)\n",
    "\n",
    "#Print out number of partitions in the RDD\n",
    "numbers_rdd.getNumPartitions()\n",
    "\n",
    "#Print out the first 2 elements in your RDD \n",
    "numbers_rdd.take(2)\n",
    "\n",
    "# Print out the whole RDD\n",
    "numbers_rdd.collect()\n"
   ]
  },
  {
   "cell_type": "markdown",
   "metadata": {},
   "source": [
    "### 4.2.2 Loading an external dataset\n",
    "**Create a Text RDD**\n",
    "Text file RDDs can be created using SparkContext’s textFile method. This method takes an URI for the file (either a local path on the machine, or a hdfs://, s3n://, etc URI) and reads it as a collection of lines. Here is an example invocation:\n",
    "**Two methods:**\n",
    "\n",
    "- `sc.textFile(\"file_path\")`: Creates a RDD with each line as an element. \n",
    "- `sc.wholeTextFiles(\"file_path\")` :  Creates a PairRDD with the key being the file name with a path.\n",
    "\n",
    "\n",
    "**`sc.textFile()` vs `sc.wholeTextFiles()`:**\n",
    "\n",
    "SparkContext.wholeTextFiles lets you read a directory containing multiple small text files, and returns each of them as (filename, content) pairs. This is in contrast with textFile, which would return one record per line in each file. It essentialy means that `sc.textFile()` doesn't give back filenames in the RDD.\n",
    "\n",
    "**Let's load an external dataset into a RDD:**\n",
    "\n",
    "We'll load data from a directory containing multiple txt files into one RDD.\n"
   ]
  },
  {
   "cell_type": "markdown",
   "metadata": {},
   "source": [
    "**TASK 1** \n",
    "\n",
    "INSTRUCTIONS:\n",
    "\n",
    "1. Load the data residing in a directory by `sc.wholeTextFiles(<directory_path/filepath>\")` into a RDD `med_rdd`. Here, filename is `medline_pager.txt`\n",
    "\n",
    "2. Print out first three elements of the RDD `med_rdd` using `take()` method on the RDD.\n",
    "\n",
    "3. Print out the number of Partitions created\n",
    "\n",
    "4. Perform 1-3 steps using `sc.textFiles()` to read `medline_pager.txt`.\n",
    "\n",
    "NOTE: Note that sc.textFile() doesn't give RDD with filenames while `sc.wholeTextFiles` returned a paired RDD with key as filenames.\n",
    "\n"
   ]
  },
  {
   "cell_type": "markdown",
   "metadata": {},
   "source": [
    "**SOLUTION:**"
   ]
  },
  {
   "cell_type": "code",
   "execution_count": 7,
   "metadata": {},
   "outputs": [
    {
     "data": {
      "text/plain": [
       "2"
      ]
     },
     "execution_count": 7,
     "metadata": {},
     "output_type": "execute_result"
    }
   ],
   "source": [
    "# 1. Load using sc.textFile()\n",
    "\n",
    "med_rdd = sc.wholeTextFiles(\"data/medline_pager.txt\")\n",
    "\n",
    "# 2. Print out first three elements\n",
    "\n",
    "med_rdd.take(3)\n",
    "\n",
    "# 3. Print number of partitions\n",
    "\n",
    "med_rdd.getNumPartitions()\n",
    "\n",
    "# 4. Load using sc.wholeTextFiles()\n",
    "\n",
    "med_rdd = sc.textFile(\"data/medline_pager.txt\")\n",
    "\n",
    "# 5. Print out first three elements\n",
    "\n",
    "med_rdd.take(3)\n",
    "\n",
    "# 6. Print number of partitions\n",
    "\n",
    "med_rdd.getNumPartitions()"
   ]
  },
  {
   "cell_type": "markdown",
   "metadata": {},
   "source": [
    "**NOTE:** For futher operations, we will use RDD returned by `sc.textFile()` by reading a sample dataset `sample_pager.txt` for tutorial reference purpose. Learners are requested to perform all the taska using dataset `medline_pager.txt`.\n"
   ]
  },
  {
   "cell_type": "code",
   "execution_count": 10,
   "metadata": {},
   "outputs": [],
   "source": [
    "url_rdd = sc.textFile('data/sample_pager.txt')"
   ]
  },
  {
   "cell_type": "markdown",
   "metadata": {},
   "source": [
    "## 4.3 Operations on RDDs\n",
    "\n",
    "From the Spark Programming Guide:\n",
    "\n",
    ">RDDs support two types of operations: **transformations**, which create a new dataset from an existing one, and **actions**, which return a value to the driver program after running a computation on the dataset.\n",
    "\n",
    "### 4.3.1 Transformation on RDDs\n",
    "\n",
    "- Transformations are kind of operations which will transform your RDD data from one form to another. And when you apply this operation on any RDD, you will get a new RDD with transformed data\n",
    "\n",
    "- Operations like map, filter, flatMap are transformations.\n",
    "\n",
    "- **Note:** when you apply the transformation on any RDD it will not perform the operation immediately. It will create a DAG(Directed Acyclic Graph) using the applied operation, source RDD and function used for transformation. And it will keep on building this graph using the references till you apply any action operation on the last lined up RDD. That is why the transformation in Spark are lazy.\n",
    "\n",
    "\n",
    "### 4.3.2 Actions on RDDs\n",
    "- This kind of operation will also give you another RDD but this operation will trigger all the lined up transformation on the base RDD (or in the DAG) and than execute the action operation on the last RDD. \n",
    "- Operations like collect, take, count, first, saveAsTextFile are actions\n",
    "\n",
    "\n",
    "Let's have a look to data in your RDD currently looks like. We will use `take()` method for this:\n",
    "\n",
    "**`take(n)`**:\n",
    "\n",
    "The action take(n) returns n number of elements from RDD. "
   ]
  },
  {
   "cell_type": "markdown",
   "metadata": {},
   "source": [
    "So this RDD contains on each line, first element as page name and rest list of all neighbors and everything tab seperated.\n",
    "\n",
    "**Generate a web system as an RDD as page name, neighbor page name from the current RDD (page name, list of all neighbors).**\n",
    "\n",
    "- For this, we have to call transformations on our current RDD. First let's create a simple list out of each line removing tabs.\n",
    "\n",
    "**`map():`**\n",
    "The map() transformation takes in a function and applies it to each element in the RDD with the result of the function being the new value of each element in the resulting RDD.\n",
    "\n",
    "\n",
    "**`filter():`**\n",
    "The filter() transformation takes in a function and returns an RDD that only has elements that pass the filter() function."
   ]
  },
  {
   "cell_type": "code",
   "execution_count": 11,
   "metadata": {},
   "outputs": [
    {
     "data": {
      "text/plain": [
       "[[u'url_1', u'url_4'],\n",
       " [u'url_2', u'url_1'],\n",
       " [u'url_3', u'url_2', u'url_1'],\n",
       " [u'url_4', u'url_3', u'url_1']]"
      ]
     },
     "execution_count": 11,
     "metadata": {},
     "output_type": "execute_result"
    }
   ],
   "source": [
    "url_rdd = url_rdd.map(lambda line: line.split('\\t'))\n",
    "url_rdd.take(4)"
   ]
  },
  {
   "cell_type": "markdown",
   "metadata": {},
   "source": [
    "**Task 2**\n",
    "\n",
    "- Apply map() transformation on RDD created by reading medline_pager.txt dataset. This transformation should result in a RDD `med_rdd` where each web group link is a list. Use map to split each webgrouplink by tab.\n",
    "\n",
    "- Print out the first ten elements of your rdd.\n",
    "\n",
    "**Hint:** \n",
    "\n",
    "- Like shown in example use map(lambda line:line.split('\\t')) on the RDD\n",
    "- Use `take(n)` to print first n elements of the RDD. "
   ]
  },
  {
   "cell_type": "markdown",
   "metadata": {},
   "source": [
    "Next, let's call a customize function to get the RDD in the required format. Note here we want to produce multiple output elements for each input element. The operation to do this is called **flatMap()**.\n",
    "\n",
    "**flatMap():** Similar to map, it returns a new RDD by applying a function to each element of the RDD, but output is flattened."
   ]
  },
  {
   "cell_type": "markdown",
   "metadata": {},
   "source": [
    "TASK 2. Similarly use flatMap on the transformed RDD to ungroup the pagelinks where each line contains a list [main_page, neighbor_page] into a resultant RDD `url_links_rdd`.\n",
    "Use the readymade function `ungroup_weblinks()` to ungroup each pagelinks list.\n",
    "\n",
    "Hint: Use flatMap like this to apply `ungroup_weblinks` : \n",
    "`url_links_rdd = url_rdd.flatMap(lambda line: ungroup_weblinks(line))`"
   ]
  },
  {
   "cell_type": "code",
   "execution_count": 12,
   "metadata": {},
   "outputs": [
    {
     "data": {
      "text/plain": [
       "[[u'url_1', u'url_4'],\n",
       " [u'url_2', u'url_1'],\n",
       " [u'url_3', u'url_2'],\n",
       " [u'url_3', u'url_1'],\n",
       " [u'url_4', u'url_3'],\n",
       " [u'url_4', u'url_1']]"
      ]
     },
     "execution_count": 12,
     "metadata": {},
     "output_type": "execute_result"
    }
   ],
   "source": [
    "def ungroup_weblinks(each_pager):\n",
    "    '''\n",
    "    This function takes up a list of page links in the form [main_page neighbor1 neighbor2 .. neighbor n] and\n",
    "    returns a `list of lists` with ungroup pagelinks lists like \n",
    "    [main_page neighbor1], [main_page, neighbor2],.., [main_page, neighbor n].\n",
    "    \n",
    "    Parameters\n",
    "    ----------\n",
    "    each_pager: list\n",
    "    A list of pagelinks\n",
    "    \n",
    "    Returns\n",
    "    -------\n",
    "    final_list: list\n",
    "    List of lists containing ungroup page links.\n",
    "    '''\n",
    "\n",
    "    page_main = each_pager[0]\n",
    "    final_list = []\n",
    "    for i in range(len(each_pager)-1):\n",
    "        final_list.append([page_main, each_pager[i+1]])\n",
    "    return final_list\n",
    "\n",
    "\n",
    "url_links_rdd = url_rdd.flatMap(lambda line: ungroup_weblinks(line))\n",
    "\n",
    "url_links_rdd.collect()"
   ]
  },
  {
   "cell_type": "markdown",
   "metadata": {},
   "source": [
    "As, you'll see the ouput is flattened as expected.\n",
    "\n",
    "Do the same operation on `med_rdd`."
   ]
  },
  {
   "cell_type": "markdown",
   "metadata": {},
   "source": [
    "**Our workflow to solve this problem will be like as shown below:**\n",
    "\n",
    "\n",
    "<img src = \"images/pgalgo.jpg\">\n",
    "\n",
    "**Let's start with creating the links RDD**"
   ]
  },
  {
   "cell_type": "markdown",
   "metadata": {},
   "source": [
    "### Part 1: Create url link Paired RDD\n",
    "\n",
    "#### PairedRDDs: Working with Key/Value pairs\n",
    "\n",
    "\n",
    "**Paired RDD**: Pair RDD is just a way of referring to an RDD containing key/value pairs, i.e. tuples of data.\n",
    "\n",
    "- Pair RDDs are a useful building block in many programs, as they expose operations that allow you to act on each key in parallel or regroup data across the network. For example, pair RDDs have a reduceByKey() method that can aggregate data separately for each key, and a join() method that can merge two RDDs together by grouping elements with the same key. \n",
    "\n",
    "- We will create a paired RDD from our existing RDD in the next steps\n",
    "\n",
    "**Now, Generate the websystem as an RDD of tuples (page, list of neighbors) from the `url_links_rdd` i.e create a PairedRDD**"
   ]
  },
  {
   "cell_type": "markdown",
   "metadata": {},
   "source": [
    "Spark provides us with a direct method to group the elements in a RDD by using `groupByKey()/reduceByKey()` method.\n",
    "\n",
    "**groupByKey()**:  We can apply the “groupByKey” / “reduceByKey” transformations on (key,val) pair RDD. The “groupByKey” will group the values for each key in the original RDD. It will create a new pair, where the original key corresponds to this collected group of values.\n",
    "\n"
   ]
  },
  {
   "cell_type": "code",
   "execution_count": 13,
   "metadata": {},
   "outputs": [],
   "source": [
    "def parseNeighbors(urls):\n",
    "    \"\"\"Parses a urls pair string into urls pair.\"\"\"\n",
    "    return urls[0], urls[1]\n",
    "\n",
    "\n",
    "url_links_rdd = url_links_rdd.map(lambda urls: parseNeighbors(urls)).distinct().groupByKey().cache()\n",
    "# pg.map(lambda urls: parseNeighbors(urls)).distinct().groupByKey().mapValues(list).collect()"
   ]
  },
  {
   "cell_type": "markdown",
   "metadata": {},
   "source": [
    "**Let's check if we got the expected RDD!**"
   ]
  },
  {
   "cell_type": "code",
   "execution_count": 14,
   "metadata": {},
   "outputs": [
    {
     "data": {
      "text/plain": [
       "[(u'url_3', [u'url_1', u'url_2']),\n",
       " (u'url_1', [u'url_4']),\n",
       " (u'url_4', [u'url_3', u'url_1']),\n",
       " (u'url_2', [u'url_1'])]"
      ]
     },
     "execution_count": 14,
     "metadata": {},
     "output_type": "execute_result"
    }
   ],
   "source": [
    "# url_links_rdd now contains tuples (page, list of neighbors)\n",
    "url_links_rdd.mapValues(list).collect()\n"
   ]
  },
  {
   "cell_type": "markdown",
   "metadata": {},
   "source": [
    "**Task**\n",
    "\n",
    "Using the steps shown, Generate the websystem as an RDD of tuples (page, list of neighbors) from the url_links_rdd i.e create a PairedRDD."
   ]
  },
  {
   "cell_type": "markdown",
   "metadata": {},
   "source": [
    "We used `cache()` method above. **Can you tell why?**\n",
    "\n",
    "Hint - Links RDD will be called multiple times in our solution\n",
    "\n",
    "Answer - When you run a spark transformation via an action (count, print, foreach), then, and only then is your graph being materialized and in your case the file is being consumed. RDD.cache purpose it to make sure that the result of sc.textFile(\"data.txt\") is available in memory and isn't needed to be read over again. In our case we want transformed url link rdd to cached.\n",
    "\n",
    "When you persist an RDD, each node stores any partitions of it that it computes in memory and reuses them in other actions on that dataset (or datasets derived from it). This allows future actions to be much faster (often by more than 10x). Caching is a key tool for iterative algorithms and fast interactive use."
   ]
  },
  {
   "cell_type": "markdown",
   "metadata": {},
   "source": [
    "**Transformations are again grouped into two types:**\n",
    "\n",
    "- **Narrow transformation:** RDD operations like map, union, filter can operate on a single partition and map the data of that partition to resulting single partition. These kind of operations which maps data from one to one partition are referred as Narrow operations. Narrow operations doesn’t required to distribute the data across the partitions.\n",
    "\n",
    "\n",
    "- **Wide transformation** -RDD operations like groupByKey, distinct, join may require to map the data across the partitions in new RDD. These kind of operations which maps data from one to many partitions are referred as Wide operations. Narrow operations doesn’t required to distribute the data across the partitions. In most of the cases Wide operations distribute the data across the partitions. These considered to be more costly than narrow operations due to data shuffling.\n",
    "\n",
    "<img src= \"images/transformations.jpg\">\n",
    "\n",
    "**Note: Wide transformations results in stages**\n",
    "\n",
    "\n",
    "Data materialization occurs in a few places. When reading, shuffling, or passing data to an action. This is where the distinction between **narrow and wide dependencies** comes up. \n",
    "Narrow dependencies allow pipelining, a state of flow is straightforward. While wide dependencies forbid pipelining by requiring a shuffle. "
   ]
  },
  {
   "cell_type": "markdown",
   "metadata": {},
   "source": [
    "### Part 2: Populating the Ranks Data - Initial Seeds\n",
    "\n",
    "The code below creates \"ranks0\" - a key/value pair RDD by taking the key (URL) from the links RDD and assigning the value = 1.0 to it. Ranks0 is the initial ranks RDD and it is populated with the seed number 1.0 (please see diagram below). In the 3rd part of the program we shall see how this ranks RDD is recalculated at each iteration and eventually converges, after 20 iterations, into the PageRank probability scores mentioned previously."
   ]
  },
  {
   "cell_type": "code",
   "execution_count": 15,
   "metadata": {},
   "outputs": [],
   "source": [
    "ranks = url_links_rdd.map(lambda url_neighbors: (url_neighbors[0], 1.0))"
   ]
  },
  {
   "cell_type": "code",
   "execution_count": 16,
   "metadata": {},
   "outputs": [
    {
     "data": {
      "text/plain": [
       "[(u'url_3', 1.0), (u'url_1', 1.0)]"
      ]
     },
     "execution_count": 16,
     "metadata": {},
     "output_type": "execute_result"
    }
   ],
   "source": [
    "ranks.take(2)"
   ]
  },
  {
   "cell_type": "markdown",
   "metadata": {},
   "source": [
    "### Part 3: Looping and Calculating Contributions & Recalculating Ranks\n",
    "\n",
    "\n",
    "This part is the heart of the PageRank algorithm. In each iteration, the contributions are calculated and the ranks are recalculated based on those contributions. The algorithm has 4 steps: \n",
    "\n",
    "1- Start the algorithm with each page at rank 1 \n",
    "\n",
    "2- Calculate URL contribution: contrib = rank/size \n",
    "\n",
    "3- Set each URL new rank = 0.15 + 0.85 x contrib \n",
    "\n",
    "4- Iterate to step 2 with the new rank"
   ]
  },
  {
   "cell_type": "code",
   "execution_count": 17,
   "metadata": {},
   "outputs": [],
   "source": [
    "def computeContribs(urls, rank):\n",
    "    \"\"\"Calculates URL contributions to the rank of other URLs.\"\"\"\n",
    "    num_urls = len(urls)\n",
    "    for url in urls:\n",
    "        yield (url, rank / num_urls)\n"
   ]
  },
  {
   "cell_type": "code",
   "execution_count": 18,
   "metadata": {},
   "outputs": [
    {
     "data": {
      "text/plain": [
       "[(u'url_3', (<pyspark.resultiterable.ResultIterable at 0x7ff111bccb10>, 1.0)),\n",
       " (u'url_2', (<pyspark.resultiterable.ResultIterable at 0x7ff111b7b550>, 1.0)),\n",
       " (u'url_1', (<pyspark.resultiterable.ResultIterable at 0x7ff111b7b410>, 1.0)),\n",
       " (u'url_4', (<pyspark.resultiterable.ResultIterable at 0x7ff111b7bd10>, 1.0))]"
      ]
     },
     "execution_count": 18,
     "metadata": {},
     "output_type": "execute_result"
    }
   ],
   "source": [
    "url_links_rdd.join(ranks).collect()"
   ]
  },
  {
   "cell_type": "code",
   "execution_count": 19,
   "metadata": {},
   "outputs": [],
   "source": [
    "from operator import add\n",
    "no_of_iteration = 20\n",
    "for iteration in range(no_of_iteration):\n",
    "    # Calculates URL contributions to the rank of other URLs.\n",
    "    contribs = url_links_rdd.join(ranks).flatMap(\n",
    "        lambda url_urls_rank: computeContribs(url_urls_rank[1][0], url_urls_rank[1][1]))\n",
    "    ranks = contribs.reduceByKey(add).mapValues(lambda rank: rank * 0.85 + 0.15)"
   ]
  },
  {
   "cell_type": "code",
   "execution_count": 20,
   "metadata": {},
   "outputs": [
    {
     "name": "stdout",
     "output_type": "stream",
     "text": [
      "url_4 has rank: 1.37052818406.\n",
      "url_3 has rank: 0.732390022951.\n",
      "url_2 has rank: 0.461320052432.\n",
      "url_1 has rank: 1.43576174055.\n"
     ]
    }
   ],
   "source": [
    "for (link, rank) in ranks.collect():\n",
    "    print(\"%s has rank: %s.\" % (link, rank))\n",
    "    \n",
    "#The higher the rank, more relevant is the page."
   ]
  },
  {
   "cell_type": "code",
   "execution_count": 21,
   "metadata": {},
   "outputs": [
    {
     "data": {
      "text/plain": [
       "<Figure size 640x480 with 1 Axes>"
      ]
     },
     "metadata": {},
     "output_type": "display_data"
    }
   ],
   "source": [
    "data = ranks.collect()\n",
    "import matplotlib.pyplot as plt\n",
    "x, y = zip(*data)\n",
    "plt.plot(x, y)\n",
    "plt.show()"
   ]
  },
  {
   "cell_type": "markdown",
   "metadata": {},
   "source": [
    "## Concluding the operations we performed:\n",
    "\n",
    "<img src = \"images/pagerank_conclusion.jpg\">"
   ]
  },
  {
   "cell_type": "markdown",
   "metadata": {},
   "source": [
    "## 4.4 QUIZ\n",
    "\n",
    "**Choose the correct answer from the given options for each question**\n",
    "\n",
    "**Q.1 How can I modify in-place every item of the dataset?**\n",
    "\n",
    "A. By invoking a 'flatMap' transformation\n",
    "\n",
    "B. By invoking a 'map' transformation\n",
    "\n",
    "C. You cannot modify data in-place in Spark \n",
    "\n",
    "\n",
    "Answer: **C**\n",
    "Reason: True. Datasets are immutable in Spark, and you cannot modify data in-place.\n",
    "\n",
    "**Q.2 What is a keyed RDD?** \n",
    "\n",
    "A. An RDD with a key.\n",
    "\n",
    "B. An RDD of key-value pairs. \n",
    "\n",
    "C. An RDD that you can use as a key in associative data structures.\n",
    "\n",
    "\n",
    "Answer: **B**\n"
   ]
  },
  {
   "cell_type": "markdown",
   "metadata": {},
   "source": [
    "# 5. Project"
   ]
  },
  {
   "cell_type": "markdown",
   "metadata": {},
   "source": [
    "## 5.1 Introduction: Zipf's Law\n",
    "\n",
    "Named after the American linguist George Kingsley Zipf (1902-1950), Zipf's Law describes an empirical law that describes the phenomenon in the physical and social sciences where many types of data can be approximated by Zipf distribution - a family of discrete power law probability distributions.\n",
    "\n",
    "In linguistics, Zipf's law states that given some text of natural language, the frequency of any word is inversely proportional to its rank in the frequency table.  The most frequent word will occur approximately twice as often as the second most frequent word, three times as often as the third most frequent word, etc. \n",
    "\n",
    "**For example**,\n",
    "In one sample of words in the English language, the most frequently occurring word, **\"the\"**, accounts for nearly 7% of all the words (69,971 out of slightly over 1 million). True to Zipf's Law, the second-place word **\"of\"** accounts for slightly over 3.5% of words (36,411 occurrences), followed by **\"and\"** (28,852). \n",
    "\n",
    "#### Formula:\n",
    "\n",
    "Zipf's law then predicts that frequency of element of rank $k$ can be approximated by,\n",
    "\n",
    "$$f(k; s, N) = \\frac{1/k^s}{\\sum_{n=1}^N (1/n^s)}$$\n",
    "\n",
    "where $N$ is the number of elements, and $s$ is the value of the exponent characterizing the distribution.  Normally, $s$ is defined to be $1$.\n",
    "\n",
    "To see illustration of Wordcount example visit: http://www.wordcount.org/main.php"
   ]
  },
  {
   "cell_type": "markdown",
   "metadata": {},
   "source": [
    "## 5.2 Visualization with NumPy"
   ]
  },
  {
   "cell_type": "code",
   "execution_count": 22,
   "metadata": {},
   "outputs": [],
   "source": [
    "import numpy as np\n",
    "import matplotlib.pyplot as plt\n",
    "import findspark\n",
    "findspark.init()\n",
    "from pyspark import SparkContext"
   ]
  },
  {
   "cell_type": "code",
   "execution_count": 23,
   "metadata": {},
   "outputs": [],
   "source": [
    "f = lambda rank,elements,s: 1/(np.sum(1./(np.arange(1,elements+1)**s)) * rank**s)"
   ]
  },
  {
   "cell_type": "code",
   "execution_count": 24,
   "metadata": {},
   "outputs": [
    {
     "data": {
      "image/png": "[encoded data removed]",
      "text/plain": [
       "<Figure size 864x432 with 1 Axes>"
      ]
     },
     "metadata": {},
     "output_type": "display_data"
    }
   ],
   "source": [
    "ranks = np.arange(1,51)\n",
    "N = 5000\n",
    "s = 1.0\n",
    "\n",
    "plt.figure(figsize=(12,6))\n",
    "plt.plot(ranks,f(ranks,N,s), 'o-')\n",
    "plt.title(\"Zipfian Distribution PMF\")\n",
    "plt.xlabel(\"k: rank\")\n",
    "plt.ylabel(\"p: probability\")\n",
    "plt.show()"
   ]
  },
  {
   "cell_type": "markdown",
   "metadata": {},
   "source": [
    "## 5.3  Word Count from Project Gutenberg Free ebook Texts\n",
    "\n",
    "This exercise will attempt to replicate the results from wordcount.org by processing a large volume of sample texts.  We'll use Spark to read the text data, process the texts, and examine the total number of unique words.  \n",
    "\n",
    "We will sample 16 texts from [Project Gutenberg](https://www.gutenberg.org/ \"Title\").\n",
    "Sample text files are in the folder 'books'"
   ]
  },
  {
   "cell_type": "markdown",
   "metadata": {},
   "source": [
    "Load Text Files\n",
    "Next, we'll load up the text files and create a text file RDD. Spark provides textFile method to read a text file and return it as a RDD.\n"
   ]
  },
  {
   "cell_type": "markdown",
   "metadata": {},
   "source": [
    "## 5.4 TASKS: \n",
    "**TASK 1.** Read the text files residing into a folder `books` into one single RDD `textsRDD`.\n",
    "Hint: Use `sc.textFile(\"folder_path\")`"
   ]
  },
  {
   "cell_type": "code",
   "execution_count": 25,
   "metadata": {},
   "outputs": [],
   "source": [
    "books_path = os.path.join('books')\n",
    "textsRDD = sc.textFile(books_path + '/*.txt')"
   ]
  },
  {
   "cell_type": "markdown",
   "metadata": {},
   "source": [
    "**TASK 2.** Clean the data in RDD, by removing all non-alpanumeric characters.\n",
    "Use the readymade `parsewords()` function for cleaning the data.\n",
    "\n",
    "**Hint:** Use `map()` or `flatMap()` on the `textsRDD` to apply `parsewords()`"
   ]
  },
  {
   "cell_type": "code",
   "execution_count": 26,
   "metadata": {},
   "outputs": [],
   "source": [
    "# function to clean up the words\n",
    "import re\n",
    "\n",
    "def parsewords(sentence):\n",
    "    # Convert all non-alphanumeric characters into empty string\n",
    "    sentence_clean = re.sub(r'([^A-Za-z0-9\\s+])', '', sentence)  \n",
    "    words = sentence_clean.split(' ')\n",
    "    # Convert to lowercase and eliminate empty string words\n",
    "    return [word.lower() for word in words if word != ''] "
   ]
  },
  {
   "cell_type": "markdown",
   "metadata": {},
   "source": [
    "We have a a RDD that is a collection of strings. We'll start by mapping the function parsewords to each of the line of strings in textsRDD."
   ]
  },
  {
   "cell_type": "code",
   "execution_count": 27,
   "metadata": {},
   "outputs": [
    {
     "data": {
      "text/plain": [
       "[[u'project',\n",
       "  u'gutenbergs',\n",
       "  u'frankenstein',\n",
       "  u'by',\n",
       "  u'mary',\n",
       "  u'wollstonecraft',\n",
       "  u'godwin',\n",
       "  u'shelley'],\n",
       " [],\n",
       " [u'this',\n",
       "  u'ebook',\n",
       "  u'is',\n",
       "  u'for',\n",
       "  u'the',\n",
       "  u'use',\n",
       "  u'of',\n",
       "  u'anyone',\n",
       "  u'anywhere',\n",
       "  u'at',\n",
       "  u'no',\n",
       "  u'cost',\n",
       "  u'and',\n",
       "  u'with'],\n",
       " [u'almost',\n",
       "  u'no',\n",
       "  u'restrictions',\n",
       "  u'whatsoever',\n",
       "  u'you',\n",
       "  u'may',\n",
       "  u'copy',\n",
       "  u'it',\n",
       "  u'give',\n",
       "  u'it',\n",
       "  u'away',\n",
       "  u'or'],\n",
       " [u'reuse',\n",
       "  u'it',\n",
       "  u'under',\n",
       "  u'the',\n",
       "  u'terms',\n",
       "  u'of',\n",
       "  u'the',\n",
       "  u'project',\n",
       "  u'gutenberg',\n",
       "  u'license',\n",
       "  u'included']]"
      ]
     },
     "execution_count": 27,
     "metadata": {},
     "output_type": "execute_result"
    }
   ],
   "source": [
    "textsRDD.map(parsewords).take(5)  # Not quite what we want!"
   ]
  },
  {
   "cell_type": "markdown",
   "metadata": {},
   "source": [
    "If you've used `map()` then the output will be a list of list and this is not something which we want. We want to generate one single list containing all the words."
   ]
  },
  {
   "cell_type": "markdown",
   "metadata": {},
   "source": [
    "Unfortunately, the result of mapping parsewords to textsRDD did not yield the result that we want.\n",
    "\n",
    "RDD has flatMap method that will map a function that has been passed in as a parameter to elements of the RDD and flatten the result. We'll use flatMap method and apply parsewords function to create a new RDD of words.\n",
    "\n",
    "**TASK 3.** Apply `flatMap` using `parsewords()` to the `textRDD`."
   ]
  },
  {
   "cell_type": "code",
   "execution_count": 28,
   "metadata": {},
   "outputs": [
    {
     "data": {
      "text/plain": [
       "[u'project',\n",
       " u'gutenbergs',\n",
       " u'frankenstein',\n",
       " u'by',\n",
       " u'mary',\n",
       " u'wollstonecraft',\n",
       " u'godwin',\n",
       " u'shelley',\n",
       " u'this',\n",
       " u'ebook',\n",
       " u'is',\n",
       " u'for',\n",
       " u'the',\n",
       " u'use',\n",
       " u'of',\n",
       " u'anyone',\n",
       " u'anywhere',\n",
       " u'at',\n",
       " u'no',\n",
       " u'cost']"
      ]
     },
     "execution_count": 28,
     "metadata": {},
     "output_type": "execute_result"
    }
   ],
   "source": [
    "wordRDD = textsRDD.flatMap(parsewords)\n",
    "wordRDD.take(20)"
   ]
  },
  {
   "cell_type": "markdown",
   "metadata": {},
   "source": [
    "We will use `map` method of the RDD to convert each occurance of word into a (key,value) pair and create a new RDD called `wordPairRDD`.  If you saw the word count example in MapReduce, you should be familiar with this pattern. "
   ]
  },
  {
   "cell_type": "markdown",
   "metadata": {},
   "source": [
    "Now that we have an RDD of words, let's examine how many words are in our sample texts."
   ]
  },
  {
   "cell_type": "markdown",
   "metadata": {},
   "source": [
    "**TASK 4.** Find total number of words in the `textRDD`"
   ]
  },
  {
   "cell_type": "code",
   "execution_count": 29,
   "metadata": {},
   "outputs": [
    {
     "name": "stdout",
     "output_type": "stream",
     "text": [
      "('Total Word Count:', 2018318)\n"
     ]
    }
   ],
   "source": [
    "# Total Number of Words in our Sample\n",
    "total_count = wordRDD.count()\n",
    "print(\"Total Word Count:\", total_count)"
   ]
  },
  {
   "cell_type": "markdown",
   "metadata": {},
   "source": [
    "**TASK 5:** Find frequency of each word and give out a RDD in form (word,frequency)\n",
    "\n",
    "Hint:\n",
    "1. Create a PairedRDD `wordPairRDD` out of `textRDD` which contains each individual word into a pair of (word,1) tuple .\n",
    "2. Call `reduceByKey()` on `wordPairRDD` to obtain frequency count of each word in a resultant RDD `wordCountRDD`. This will also result in a RDD containing only unique words."
   ]
  },
  {
   "cell_type": "code",
   "execution_count": 30,
   "metadata": {},
   "outputs": [
    {
     "data": {
      "text/plain": [
       "[(u'project', 1),\n",
       " (u'gutenbergs', 1),\n",
       " (u'frankenstein', 1),\n",
       " (u'by', 1),\n",
       " (u'mary', 1),\n",
       " (u'wollstonecraft', 1),\n",
       " (u'godwin', 1),\n",
       " (u'shelley', 1),\n",
       " (u'this', 1),\n",
       " (u'ebook', 1),\n",
       " (u'is', 1),\n",
       " (u'for', 1),\n",
       " (u'the', 1),\n",
       " (u'use', 1),\n",
       " (u'of', 1),\n",
       " (u'anyone', 1),\n",
       " (u'anywhere', 1),\n",
       " (u'at', 1),\n",
       " (u'no', 1),\n",
       " (u'cost', 1)]"
      ]
     },
     "execution_count": 30,
     "metadata": {},
     "output_type": "execute_result"
    }
   ],
   "source": [
    "wordPairRDD = wordRDD.map(lambda word: (word,1))\n",
    "wordPairRDD.take(20)"
   ]
  },
  {
   "cell_type": "markdown",
   "metadata": {},
   "source": [
    "We have converted wordRDD into a a new RDD that holds each instance of word into a (key,value) pair.  Let's use reduceByKey method to sum up the counts and create a new RDD, `wordCountRDD`. "
   ]
  },
  {
   "cell_type": "code",
   "execution_count": 31,
   "metadata": {},
   "outputs": [
    {
     "data": {
      "text/plain": [
       "[(u'aided', 11),\n",
       " (u'voluble', 3),\n",
       " (u'promenade', 1),\n",
       " (u'disgracewhen', 1),\n",
       " (u'fawn', 3),\n",
       " (u'ridden', 2),\n",
       " (u'nun', 5),\n",
       " (u'applyed', 11),\n",
       " (u'joshua', 30),\n",
       " (u'needlessly', 4),\n",
       " (u'four', 392),\n",
       " (u'individualhe', 1),\n",
       " (u'verses', 43),\n",
       " (u'wormlike', 1),\n",
       " (u'120', 8),\n",
       " (u'expressiondown', 1),\n",
       " (u'callianira', 1),\n",
       " (u'relationships', 2),\n",
       " (u'increase', 46),\n",
       " (u'scufflings', 1)]"
      ]
     },
     "execution_count": 31,
     "metadata": {},
     "output_type": "execute_result"
    }
   ],
   "source": [
    "wordCountRDD = wordPairRDD.reduceByKey(lambda x,y: x+y)\n",
    "wordCountRDD.take(20)"
   ]
  },
  {
   "cell_type": "markdown",
   "metadata": {},
   "source": [
    "**TASK 5:** Calculate total number of Unique words in the dataset\n",
    "\n",
    "Hint: After calling `reduceByKey()`, the resultant RDD conatins only set of unique words so simply call `count()` on `wordcountRDD()`"
   ]
  },
  {
   "cell_type": "code",
   "execution_count": 32,
   "metadata": {},
   "outputs": [
    {
     "name": "stdout",
     "output_type": "stream",
     "text": [
      "('Total Unique Words:', 56238)\n"
     ]
    }
   ],
   "source": [
    "# Number of Unique Words\n",
    "unique_count = wordCountRDD.count()\n",
    "print(\"Total Unique Words:\", unique_count)"
   ]
  },
  {
   "cell_type": "markdown",
   "metadata": {},
   "source": [
    "**TASK 6:** Print out the top 50 most occuring words in the dataset i.e. the top 50 words having highest frequency."
   ]
  },
  {
   "cell_type": "markdown",
   "metadata": {},
   "source": [
    "**Hint:**\n",
    "\n",
    "Since wordCountRDD contains unique words and their counts, we sort them by takeOrdered method of RDD specifying the the ordering function to order by the values in (key,value) pairs. We will only select top 50 words.\n"
   ]
  },
  {
   "cell_type": "code",
   "execution_count": 33,
   "metadata": {},
   "outputs": [
    {
     "data": {
      "text/plain": [
       "[(u'the', 112921),\n",
       " (u'and', 70565),\n",
       " (u'of', 60234),\n",
       " (u'to', 55424),\n",
       " (u'a', 39794),\n",
       " (u'i', 33960),\n",
       " (u'in', 33750),\n",
       " (u'that', 27203),\n",
       " (u'it', 25073),\n",
       " (u'was', 22650),\n",
       " (u'he', 22172),\n",
       " (u'his', 20604),\n",
       " (u'with', 17034),\n",
       " (u'as', 16683),\n",
       " (u'is', 15833),\n",
       " (u'for', 15827),\n",
       " (u'you', 15700),\n",
       " (u'but', 14447),\n",
       " (u'not', 14256),\n",
       " (u'be', 13380),\n",
       " (u'had', 13236),\n",
       " (u'her', 12093),\n",
       " (u'at', 11588),\n",
       " (u'my', 11345),\n",
       " (u'on', 11230),\n",
       " (u'by', 10891),\n",
       " (u'all', 10465),\n",
       " (u'have', 9821),\n",
       " (u'him', 9803),\n",
       " (u'she', 9718),\n",
       " (u'me', 9365),\n",
       " (u'so', 9334),\n",
       " (u'this', 9273),\n",
       " (u'from', 8804),\n",
       " (u'or', 8600),\n",
       " (u'they', 8569),\n",
       " (u'which', 8557),\n",
       " (u'no', 7026),\n",
       " (u'there', 7007),\n",
       " (u'we', 6759),\n",
       " (u'were', 6698),\n",
       " (u'said', 6646),\n",
       " (u'when', 6451),\n",
       " (u'if', 6177),\n",
       " (u'one', 6137),\n",
       " (u'their', 6088),\n",
       " (u'are', 5984),\n",
       " (u'them', 5749),\n",
       " (u'what', 5687),\n",
       " (u'would', 5246)]"
      ]
     },
     "execution_count": 33,
     "metadata": {},
     "output_type": "execute_result"
    }
   ],
   "source": [
    "# Select Top 50 words in descending order of frequency\n",
    "top50Words = wordCountRDD.takeOrdered(50, key=lambda x: -x[1]) # Use '-' to sort in descending order\n",
    "top50Words"
   ]
  },
  {
   "cell_type": "markdown",
   "metadata": {},
   "source": [
    "## Chaining\n",
    "\n",
    "Although we have performed each transformation in separate steps, Spark enables us to perform these four steps in one line of code by chaining them together.\n",
    "\n",
    "Although Python is strict about indentation, we use a convenient trick of wrapping a chain of RDD methods inside a parenthesis. This trick enables us to chain multiple RDD methods in several lines of code, which enhances readability of your code.\n"
   ]
  },
  {
   "cell_type": "code",
   "execution_count": 34,
   "metadata": {},
   "outputs": [],
   "source": [
    "top50Words = (textsRDD.flatMap(parsewords)\n",
    "                      .map(lambda word: (word,1))\n",
    "                      .reduceByKey(lambda x,y: x+y)\n",
    "                      .takeOrdered(50, key=lambda x: -x[1]))"
   ]
  },
  {
   "cell_type": "markdown",
   "metadata": {},
   "source": [
    "**Let's plot the top50Words rank-frequency count.**"
   ]
  },
  {
   "cell_type": "code",
   "execution_count": 35,
   "metadata": {},
   "outputs": [
    {
     "data": {
      "image/png": "[encoded data removed]",
      "text/plain": [
       "<Figure size 1008x432 with 1 Axes>"
      ]
     },
     "metadata": {},
     "output_type": "display_data"
    }
   ],
   "source": [
    "words = list()\n",
    "counts = list()\n",
    "for pair in top50Words:\n",
    "    words.append(pair[0])\n",
    "    counts.append(pair[1])\n",
    "\n",
    "plt.figure(figsize=(14,6))\n",
    "plt.bar(range(1,51), np.array(counts) / float(total_count), label=\"Word Frequency\", align='center')\n",
    "plt.plot(ranks, f(ranks,N,s), c='r', label=\"$f(k,s,N)$\")\n",
    "plt.xticks(range(1,51), words[:50], rotation=60, fontsize=14)\n",
    "plt.title(\"Frequency of Top 50 Words\",fontsize=18)\n",
    "plt.legend(fontsize=14)\n",
    "plt.xlim(0.5,50.5)\n",
    "plt.show()"
   ]
  },
  {
   "cell_type": "markdown",
   "metadata": {},
   "source": [
    "Although not exact, the word frequency from our sample of texts follows the Zipf distribution closely. We also see that in our sample texts, \"and\" is the second most frequently occuring word. This is in contrast to the word frequency ordering of BNC in which \"of\" is ranked second and \"and\" is ranked third."
   ]
  },
  {
   "cell_type": "markdown",
   "metadata": {},
   "source": [
    "# 6. Spark Runtime Architecture\n",
    "\n",
    "## 6.1 Why to learn underlying architecture?\n",
    "\n",
    "\n",
    "- In previously covered concepts we saw how to run spark application in a standalone mode. When it comes to processing Big Data, the Spark application must be written in a way to optimize the resources allocated to the cluster. The architecture understanding will help in visualizing the parallel processing that occurs inside a spark application.\n",
    "\n",
    "- Having a complete picture is important for you when debugging the application or searching for a documentation. \n",
    "\n",
    "- A delightful treat for all the developers is that writing applications for parallel cluster execution use the same API that on a standalone mode. Means, you can use same `pyspark` script on a standalone mode and cluster mode.\n",
    "\n",
    "\n",
    "## 6.2 Spark Runtime Architecture\n",
    "\n",
    "\n",
    "- Spark can run on a wide variety of cluster managers (Hadoop YARN, Apache Mesos, and Spark’s own built-in Standalone cluster manager) in both on-premise and cloud deployments.\n",
    "\n",
    "- Spark uses a **Master-Slave architecture** in its cluster mode.\n",
    "\n",
    "<img src=\"images/masterSlave.jpeg\">\n",
    "\n",
    "\n",
    "- Single Master and multiple Slaves.\n",
    "\n",
    "- A Spark application is launched on a set of machines using an external service called a **cluster manager**.\n",
    "\n",
    "- A distributed application is placed in execution by a master using a Central coordinator called **Driver**.\n",
    "\n",
    "- Tasks are the smallest unit of work in Spark. One Spark job is divided into multiple tasks.\n",
    "\n",
    "- Executors on worker nodes are responsible for executing these tasks.\n",
    "\n",
    "<img src = \"images/sparkapp.jpg\">\n",
    "\n",
    "Let's get into more details one by one:\n",
    "\n",
    "## 6.3 The Driver\n",
    "    - Runs the main () function of the application and is the place where the Spark Context is created.\n",
    "\n",
    "    - It has two main duties:\n",
    "\n",
    "        - **Converts User Application into tasks**\n",
    "\n",
    "            - Translates the RDD’s into the execution graph and splits the graph into multiple stages\n",
    "            - A Spark program implicitly creates a logical directed acyclic graph (DAG) of operations. When the driver runs, it converts this logical graph into a physical execution plan.\n",
    "        - **Scheduling tasks on executors**\n",
    "            - Given a physical execution plan, a Spark driver must coordinate the scheduling of individual tasks on executors.\n",
    "            - When executors are started they register themselves with the driver, so it has a complete view of the application’s executors at all times.\n",
    "        - **Exposes the information about the running spark application through a Web UI at port 4040**\n",
    "  \n",
    "                        "
   ]
  },
  {
   "cell_type": "markdown",
   "metadata": {},
   "source": [
    "**How important is it to have a smart driver?**\n",
    "\n",
    "<img src = \"images/driver.jpg\">\n",
    "\n",
    "The above picture explains enough! :)"
   ]
  },
  {
   "cell_type": "markdown",
   "metadata": {},
   "source": [
    "## 6.4. Executors\n",
    "    - Spark executors are worker processes responsible for running the individual tasks in a given Spark job\n",
    "    - Executors are launched once at the beginning of a Spark application and typically run for the entire lifetime of an application, though Spark applications can continue if executors fail. \n",
    "    - Executors have two roles. First, they run the tasks that make up the application and return results to the driver. \n",
    "    - Second, they provide in-memory storage for RDDs that are cached by user programs, through a service called the Block Manager that lives within each executor. "
   ]
  },
  {
   "cell_type": "markdown",
   "metadata": {},
   "source": [
    "## 6.5. Cluster Manager\n",
    "\n",
    "    - Spark depends on a cluster manager to launch executors and, in certain cases, to launch the driver.\n",
    "    - The cluster manager is a pluggable component in Spark. This allows Spark to run on top of different external managers, such as YARN and Mesos, as well as its built-in Stand‐alone cluster manager."
   ]
  },
  {
   "cell_type": "markdown",
   "metadata": {},
   "source": [
    "**How these all are chained together?**\n",
    "\n",
    "- Whenever you invoke an action, the job gets spawned in the driver program. \n",
    "- Then the driver runs a job scheduler to divide the job into smaller stages. \n",
    "- tasks are created for every job stage. \n",
    "- Finally, tasks are delegated to the executors, which perform the actual work. \n",
    "- All this machinery exists within the SparkContext object. \n",
    "- **It keeps track of the executors, it spawns jobs, and it runs the scheduler. **\n",
    "\n",
    "## 6.6 What is the difference between job stages and tasks?.\n",
    "\n",
    "- job stages are defined on RDD level. That is, they are not immediately executable. \n",
    "- Tasks, on the other hand, are bound to a particular partitions and thus are immediately executable.\n",
    "- The idea behind the job stages is to pipeline computation as much as possible, avoiding the unnecessary data materializations. For example, if you applied two filter transformations in a row, it is not necessary to serialize and deserialize data in between. You can simply pass the data through the next predicate. \n",
    "\n",
    "\n",
    "## 6.7 Summary\n",
    "**Let's summarize, what happens when an action is called?** \n",
    "\n",
    "The SparkContext is the core of your application. It allows your application to connect to a cluster and allocate resources and executors. Then whenever you invoke an action, the SparkContext spawns a job and runs the job scheduler to divide it into stages. \n",
    "That is pipelineable parts of your computations. And only transformations with narrow dependencies are pipelined. \n",
    "Then tasks are created for every job stage and scheduled to the executors. \n",
    "The driver communicates directly with the executors, exchanging with task information and liveness status. I hope now we have a clear picture of what happens when you invoke an action in Spark"
   ]
  },
  {
   "cell_type": "markdown",
   "metadata": {},
   "source": [
    "**Important:** A spark application consists of 1 Master and may have multiple workers running. There can be multiple executors running on each worker. Also, each executor may run multiple tasks at a time depending on the resources allocated to it."
   ]
  },
  {
   "cell_type": "markdown",
   "metadata": {},
   "source": [
    "## 6.8 QUIZ\n",
    "\n",
    "Choose the correct answer from the given options for each question\n",
    "\n",
    "**Q.1.** What is a job?\n",
    "A. A pipelineable part of the computation.\n",
    "\n",
    "B. An activity spawned in the response to a Spark action.\n",
    "\n",
    "C. That is how Spark calls my application.\n",
    "\n",
    "D. A dependency graph for the RDDs.\n",
    "\n",
    "E. A unit of work performed by the executor.\n",
    "\n",
    "F. An activity you get paid for.\n",
    "\n",
    "**Answer**\n",
    "B. An activity spawned in the response to a Spark action.\n",
    "\n",
    "**Q.2.** What is a task?\n",
    "\n",
    "A. That is how Spark calls my application.\n",
    "\n",
    "B. An activity spawned in the response to a Spark action.\n",
    "\n",
    "C. A pipelineable part of the computation.\n",
    "\n",
    "D. A dependency graph for the RDDs.\n",
    "\n",
    "E. A unit of work performed by the executor.\n",
    "\n",
    "**Answer**\n",
    "E. A unit of work performed by the executor.\n",
    "\n",
    "**Q.3.** Where are actions executed?\n",
    "\n",
    "A. Driver\n",
    "B. Workers\n",
    "\n",
    "**Answer:** \n",
    "A. Driver\n",
    "\n",
    "**Q.4** How does your application find out the executors to work with?\n",
    "\n",
    "A. You statically define them in the configuration file.\n",
    "\n",
    "B. The SparkContext object queries a discovery service to find them out.\n",
    "\n",
    "C. The SparkContext object allocates the executors by communicating with the cluster manager.\n",
    "\n",
    "**ANSWER:**\n",
    "\n",
    "C. The SparkContext object allocates the executors by communicating with the cluster manager.\n"
   ]
  },
  {
   "cell_type": "markdown",
   "metadata": {},
   "source": [
    "# 7. Spark SQL "
   ]
  },
  {
   "cell_type": "markdown",
   "metadata": {},
   "source": [
    "- **Spark SQL** - Spark’s interface for working with structured and semistructured data. \n",
    "\n",
    "- **Structured data** is any data that has a schema—that is, a known set of fields for each record.\n",
    "\n",
    "- Spark SQL lets you query structured data inside Spark programs, using either **SQL** or a familiar **DataFrame API**. Usable in Java, Scala, Python and R.\n",
    "\n",
    "- Spark SQL is use to execute SQL queries. "
   ]
  },
  {
   "cell_type": "markdown",
   "metadata": {},
   "source": [
    "# Part 1: Dataframes"
   ]
  },
  {
   "cell_type": "markdown",
   "metadata": {},
   "source": [
    "- In Apache Spark, **a DataFrame is a distributed collection of rows under named columns.**\n",
    "\n",
    "- In simple terms, it is same as a table in relational database or an Excel sheet with Column headers. It also shares some common characteristics with RDD:\n",
    "\n",
    "    - **Immutable in nature :** We can create DataFrame / RDD once but can’t change it. And we can transform a DataFrame / RDD  after applying transformations.\n",
    "    - **Lazy Evaluations:** Which means that a task is not executed until an action is performed.\n",
    "\n",
    "    - **Distributed:** RDD and DataFrame both are distributed in nature.\n",
    "\n",
    "- When running SQL from within another programming language the results will be returned as a DataFrame. "
   ]
  },
  {
   "cell_type": "markdown",
   "metadata": {},
   "source": [
    "## Why DataFrames are Useful ?\n",
    "\n",
    "After learning about pandas dataframes, you must be aware of many advantages that Dataframes provides us with. But the question is, what additional advantages Dataframes in spark provides us with?\n",
    "\n",
    "- DataFrames are designed for processing large collection of structured or semi-structured data.\n",
    "\n",
    "- Observations in Spark DataFrame are organised under named columns, which helps Apache Spark to understand the schema of a DataFrame. This helps Spark optimize execution plan on these queries.\n",
    "\n",
    "- DataFrame in Apache Spark has the ability to handle petabytes of data.\n",
    "\n",
    "- DataFrame has a support for wide range of data format and sources.\n",
    "\n",
    "- It has API support for different languages like Python, R, Scala, Java.\n",
    "\n",
    "- Like our RDDs are distibuted across machines in a cluster similarly dataframes provides us with distributed computation capability."
   ]
  },
  {
   "cell_type": "markdown",
   "metadata": {},
   "source": [
    "**As a general rule of thumb, one should consider an alternative to Pandas whenever the data set has more than 10,000,000 rows which, depending on the number of columns and data types, translates to about 5-10 GB of memory usage. At that point PySpark might be an option for you that does the job**"
   ]
  },
  {
   "cell_type": "markdown",
   "metadata": {},
   "source": [
    "**Check if SparkContext is running!**\n",
    "\n",
    "**Recall - Why do we need a SparkContext running?**\n",
    "\n",
    "- First step, in any Apache programming is to create a SparkContext. SparkContext is required when we want to execute operations in a cluster. SparkContext tells Spark how and where to access a cluster.\n",
    "\n"
   ]
  },
  {
   "cell_type": "code",
   "execution_count": 3,
   "metadata": {},
   "outputs": [
    {
     "data": {
      "text/html": [
       "\n",
       "        <div>\n",
       "            <p><b>SparkContext</b></p>\n",
       "\n",
       "            <p><a href=\"http://192.168.0.104:4040\">Spark UI</a></p>\n",
       "\n",
       "            <dl>\n",
       "              <dt>Version</dt>\n",
       "                <dd><code>v2.3.0</code></dd>\n",
       "              <dt>Master</dt>\n",
       "                <dd><code>local[*]</code></dd>\n",
       "              <dt>AppName</dt>\n",
       "                <dd><code>PySparkShell</code></dd>\n",
       "            </dl>\n",
       "        </div>\n",
       "        "
      ],
      "text/plain": [
       "<SparkContext master=local[*] appName=PySparkShell>"
      ]
     },
     "execution_count": 3,
     "metadata": {},
     "output_type": "execute_result"
    }
   ],
   "source": [
    "sc"
   ]
  },
  {
   "cell_type": "markdown",
   "metadata": {},
   "source": [
    "Next, start a **SQLContext**. Now, Why **SQLContext**?\n",
    "\n",
    "- The entry point into all relational functionality in Spark is the SQLContext class.\n",
    "- Basically it is must to have SQLContext in order to perform SQL related operations."
   ]
  },
  {
   "cell_type": "code",
   "execution_count": 5,
   "metadata": {},
   "outputs": [],
   "source": [
    "# Into spark versions<2.0\n",
    "from pyspark.sql import SQLContext\n",
    "sqlContext = SQLContext(sc)"
   ]
  },
  {
   "cell_type": "code",
   "execution_count": 6,
   "metadata": {},
   "outputs": [],
   "source": [
    "# Into spark version>2.0\n",
    "\n",
    "from pyspark.sql import SparkSession\n",
    "\n",
    "from pyspark.sql import SparkSession\n",
    "\n",
    "spark = SparkSession \\\n",
    "    .builder \\\n",
    "    .appName(\"Python Spark dataframe basic example\") \\\n",
    "    .getOrCreate()"
   ]
  },
  {
   "cell_type": "markdown",
   "metadata": {},
   "source": [
    "**Note: `getOrCreate()`-** Gets an existing SparkSession or, if there is no existing one, creates a new one based on the options set in this builder."
   ]
  },
  {
   "cell_type": "markdown",
   "metadata": {},
   "source": [
    "## How to create a DataFrame ?\n",
    "A DataFrame in Apache Spark can be created in multiple ways:\n",
    "\n",
    "It can be created using different data formats. For example:\n",
    "1. Loading data from Existing RDD.\n",
    "2. Loading the data from JSON, CSV.\n",
    "\n",
    "### 1.  Creating DataFrame from RDD\n",
    "\n",
    "One can easily create a dataframe out of a List of tuples. Steps can be as follows:\n",
    "\n",
    "1. Create a list of tuples. Each tuple contains name of a person with age.\n",
    "2. Create a RDD from the list above.\n",
    "3. Convert each tuple to a row.\n",
    "4. Create a DataFrame by applying createDataFrame on RDD with the help of sqlContext."
   ]
  },
  {
   "cell_type": "code",
   "execution_count": 7,
   "metadata": {},
   "outputs": [],
   "source": [
    "from pyspark.sql import Row\n",
    "l = [('Sam',25, 'M'),('Jalfaizy',22, 'F'),('Tom',20, 'M'),('Nicky',26, 'F'),('Wrick', 30, 'M')]\n",
    "rdd = sc.parallelize(l)\n",
    "people = rdd.map(lambda x: Row(name=x[0], age=int(x[1]), Gender=x[2]))\n",
    "schemaPeople = sqlContext.createDataFrame(people)"
   ]
  },
  {
   "cell_type": "markdown",
   "metadata": {},
   "source": [
    "Let's check the type!"
   ]
  },
  {
   "cell_type": "code",
   "execution_count": 8,
   "metadata": {},
   "outputs": [
    {
     "data": {
      "text/plain": [
       "pyspark.sql.dataframe.DataFrame"
      ]
     },
     "execution_count": 8,
     "metadata": {},
     "output_type": "execute_result"
    }
   ],
   "source": [
    "type(schemaPeople)"
   ]
  },
  {
   "cell_type": "markdown",
   "metadata": {},
   "source": [
    "## 2. Creating the DataFrame from external file"
   ]
  },
  {
   "cell_type": "markdown",
   "metadata": {},
   "source": [
    "## Introduction to Dataset\n",
    "\n",
    "### Context\n",
    "\n",
    "H-1B visas are a category of employment-based, non-immigrant visas for temporary foreign workers in the United States. For a foreign national to apply for H1-B visa, a US employer must offer them a job and submit a petition for a H-1B visa to the US immigration department. This is also the most common visa status applied for and held by international students once they complete college or higher education and begin working in a full-time position.\n",
    "\n",
    "This dataset contains H-1B petition data. The columns in the dataset include case status, employer name, worksite coordinates, job title, prevailing wage, occupation code, and year filed.\n",
    "\n",
    "For more information on individual columns, refer to the column metadata. A detailed description of the underlying raw dataset is available in an [official data dictionary](https://www.foreignlaborcert.doleta.gov/docs/Performance_Data/Disclosure/FY15-FY16/H-1B_FY16_Record_Layout.pdf)."
   ]
  },
  {
   "cell_type": "markdown",
   "metadata": {},
   "source": [
    "For my tutorial session, I'll use the data file `h1b_sample.csv` but would strongly recommed that you use the data file `h1b_learners.csv` to do the hands-on practice."
   ]
  },
  {
   "cell_type": "code",
   "execution_count": 24,
   "metadata": {},
   "outputs": [],
   "source": [
    "df = spark.read.csv('data/h1b_sample.csv', header=True)"
   ]
  },
  {
   "cell_type": "markdown",
   "metadata": {},
   "source": [
    "When we read data into the SQLContext object, Spark:\n",
    "\n",
    "- Instantiates a Spark DataFrame object\n",
    "- Infers the schema from the data and associates it with the DataFrame\n",
    "- Reads in the data and distributes it across clusters (if multiple clusters are available)\n",
    "- Returns the DataFrame object"
   ]
  },
  {
   "cell_type": "markdown",
   "metadata": {},
   "source": [
    "Let's have a look at the **schema for the DataFrame** we created out of our dataset. For this, we can call `printSchema()` method on our dataframe. This will provide us the datatype of columns."
   ]
  },
  {
   "cell_type": "code",
   "execution_count": 25,
   "metadata": {},
   "outputs": [
    {
     "name": "stdout",
     "output_type": "stream",
     "text": [
      "root\n",
      " |-- CASE_STATUS: string (nullable = true)\n",
      " |-- EMPLOYER_NAME: string (nullable = true)\n",
      " |-- SOC_NAME: string (nullable = true)\n",
      " |-- JOB_TITLE: string (nullable = true)\n",
      " |-- FULL_TIME_POSITION: string (nullable = true)\n",
      " |-- PREVAILING_WAGE: string (nullable = true)\n",
      " |-- YEAR: string (nullable = true)\n",
      "\n"
     ]
    }
   ],
   "source": [
    "df.printSchema()"
   ]
  },
  {
   "cell_type": "markdown",
   "metadata": {},
   "source": [
    "**`show()`** method on a DataFrame can give us a quick look on rows of the DataFame. Use `show()` to display 5 Rows of the dataframe."
   ]
  },
  {
   "cell_type": "code",
   "execution_count": 26,
   "metadata": {},
   "outputs": [
    {
     "name": "stdout",
     "output_type": "stream",
     "text": [
      "+-------------------+--------------------+------------------+--------------------+------------------+---------------+----+\n",
      "|        CASE_STATUS|       EMPLOYER_NAME|          SOC_NAME|           JOB_TITLE|FULL_TIME_POSITION|PREVAILING_WAGE|YEAR|\n",
      "+-------------------+--------------------+------------------+--------------------+------------------+---------------+----+\n",
      "|CERTIFIED-WITHDRAWN|         OMD USA LLC|MARKETING MANAGERS|ASSOCIATE DIRECTO...|                 Y|       108493.0|2016|\n",
      "|          CERTIFIED|THE GLOBAL ALLIAN...|MARKETING MANAGERS|SENIOR VP, MARKET...|                 Y|       179774.0|2016|\n",
      "|          CERTIFIED|THE GATORADE COMPANY|MARKETING MANAGERS|SENIOR MANAGER, S...|                 Y|       123386.0|2016|\n",
      "|          CERTIFIED|BOOMERANG COMMERC...|MARKETING MANAGERS|BUSINESS DEVELOPM...|                 Y|       163877.0|2016|\n",
      "|          CERTIFIED|AMAZON WEB SERVIC...|MARKETING MANAGERS|SENIOR PRODUCT MA...|                 Y|       115565.0|2016|\n",
      "+-------------------+--------------------+------------------+--------------------+------------------+---------------+----+\n",
      "only showing top 5 rows\n",
      "\n"
     ]
    }
   ],
   "source": [
    "df.show(5)"
   ]
  },
  {
   "cell_type": "markdown",
   "metadata": {},
   "source": [
    "### Statistics\n",
    "\n",
    "Let's have statistical view of our dataframe.\n",
    "\n",
    "We can use `describe(*cols)` method on a dataframe to compute statistics for numeric and string columns.\n",
    "\n",
    "This include count, mean, stddev, min, and max. If no columns are given, this function computes statistics for all numerical or string columns."
   ]
  },
  {
   "cell_type": "code",
   "execution_count": 27,
   "metadata": {},
   "outputs": [
    {
     "name": "stdout",
     "output_type": "stream",
     "text": [
      "+-------+-----------+--------------------+--------------------+--------------------+------------------+------------------+------+\n",
      "|summary|CASE_STATUS|       EMPLOYER_NAME|            SOC_NAME|           JOB_TITLE|FULL_TIME_POSITION|   PREVAILING_WAGE|  YEAR|\n",
      "+-------+-----------+--------------------+--------------------+--------------------+------------------+------------------+------+\n",
      "|  count|       5000|                5000|                5000|                5000|              5000|              5000|  5000|\n",
      "|   mean|       null|                null|                null|                null|              null|179312.78471200023|2016.0|\n",
      "| stddev|       null|                null|                null|                null|              null| 4653266.403375367|   0.0|\n",
      "|    min|  CERTIFIED|1-800-FLOWERS.COM...|ADMINISTRATIVE SE...|(UI) USER INTERFA...|                 N|               0.0|  2016|\n",
      "|    max|  WITHDRAWN|          ZYNGA INC.|       SALES MANGERS|WORLDWIDE PARTNER...|                 Y|           99900.0|  2016|\n",
      "+-------+-----------+--------------------+--------------------+--------------------+------------------+------------------+------+\n",
      "\n"
     ]
    }
   ],
   "source": [
    "df.describe().show()"
   ]
  },
  {
   "cell_type": "markdown",
   "metadata": {},
   "source": [
    "In pandas, we used the `head()` method to return the first n rows. This is one of the differences between the DataFrame implementations. Instead of returning a nicely formatted table of values, the head() method in Spark returns a list of row objects. Spark needs to return row objects for certain methods, such as head(), collect() and take().\n",
    " "
   ]
  },
  {
   "cell_type": "code",
   "execution_count": 28,
   "metadata": {},
   "outputs": [
    {
     "data": {
      "text/plain": [
       "[Row(CASE_STATUS=u'CERTIFIED-WITHDRAWN', EMPLOYER_NAME=u'OMD USA LLC', SOC_NAME=u'MARKETING MANAGERS', JOB_TITLE=u'ASSOCIATE DIRECTOR, DIGITAL ANALYTICS', FULL_TIME_POSITION=u'Y', PREVAILING_WAGE=u'108493.0', YEAR=u'2016'),\n",
       " Row(CASE_STATUS=u'CERTIFIED', EMPLOYER_NAME=u'THE GLOBAL ALLIANCE FOR TB DRUG DEVELOPMENT INC.', SOC_NAME=u'MARKETING MANAGERS', JOB_TITLE=u'SENIOR VP, MARKET ACCESS', FULL_TIME_POSITION=u'Y', PREVAILING_WAGE=u'179774.0', YEAR=u'2016'),\n",
       " Row(CASE_STATUS=u'CERTIFIED', EMPLOYER_NAME=u'THE GATORADE COMPANY', SOC_NAME=u'MARKETING MANAGERS', JOB_TITLE=u'SENIOR MANAGER, SOCIAL MEDIA MARKETING & ANALYTICS', FULL_TIME_POSITION=u'Y', PREVAILING_WAGE=u'123386.0', YEAR=u'2016'),\n",
       " Row(CASE_STATUS=u'CERTIFIED', EMPLOYER_NAME=u'BOOMERANG COMMERCE, INC.', SOC_NAME=u'MARKETING MANAGERS', JOB_TITLE=u'BUSINESS DEVELOPMENT MANAGER', FULL_TIME_POSITION=u'Y', PREVAILING_WAGE=u'163877.0', YEAR=u'2016'),\n",
       " Row(CASE_STATUS=u'CERTIFIED', EMPLOYER_NAME=u'AMAZON WEB SERVICES, INC.', SOC_NAME=u'MARKETING MANAGERS', JOB_TITLE=u'SENIOR PRODUCT MANAGER', FULL_TIME_POSITION=u'Y', PREVAILING_WAGE=u'115565.0', YEAR=u'2016')]"
      ]
     },
     "execution_count": 28,
     "metadata": {},
     "output_type": "execute_result"
    }
   ],
   "source": [
    "df.head(5)"
   ]
  },
  {
   "cell_type": "markdown",
   "metadata": {},
   "source": [
    "**Next, print the first row out the five fetched rows. Then print the `EMPLOYER_NAME` for the first row entry.**\n"
   ]
  },
  {
   "cell_type": "code",
   "execution_count": 29,
   "metadata": {},
   "outputs": [
    {
     "data": {
      "text/plain": [
       "Row(CASE_STATUS=u'CERTIFIED-WITHDRAWN', EMPLOYER_NAME=u'OMD USA LLC', SOC_NAME=u'MARKETING MANAGERS', JOB_TITLE=u'ASSOCIATE DIRECTOR, DIGITAL ANALYTICS', FULL_TIME_POSITION=u'Y', PREVAILING_WAGE=u'108493.0', YEAR=u'2016')"
      ]
     },
     "execution_count": 29,
     "metadata": {},
     "output_type": "execute_result"
    }
   ],
   "source": [
    "df.head(5)[0]"
   ]
  },
  {
   "cell_type": "code",
   "execution_count": 30,
   "metadata": {},
   "outputs": [
    {
     "data": {
      "text/plain": [
       "u'OMD USA LLC'"
      ]
     },
     "execution_count": 30,
     "metadata": {},
     "output_type": "execute_result"
    }
   ],
   "source": [
    "df.head(5)[0].EMPLOYER_NAME"
   ]
  },
  {
   "cell_type": "code",
   "execution_count": 31,
   "metadata": {},
   "outputs": [
    {
     "name": "stdout",
     "output_type": "stream",
     "text": [
      "ASSOCIATE DIRECTOR, DIGITAL ANALYTICS\n",
      "SENIOR VP, MARKET ACCESS\n",
      "SENIOR MANAGER, SOCIAL MEDIA MARKETING & ANALYTICS\n",
      "BUSINESS DEVELOPMENT MANAGER\n",
      "SENIOR PRODUCT MANAGER\n"
     ]
    }
   ],
   "source": [
    "first_five = df.head(5)\n",
    "for each_element in first_five:\n",
    "    print each_element.JOB_TITLE"
   ]
  },
  {
   "cell_type": "markdown",
   "metadata": {},
   "source": [
    "### Selecting columns\n",
    "In pandas, we pass a string into a single pair of brackets ([]) to select an individual column, and pass in a list to select multiple columns. For example:\n",
    "\n",
    "#### Pandas DataFrame\n",
    "df['age']\n",
    "\n",
    "df[['age', 'males']]\n",
    "\n",
    "Spark also allows us to use bracket notation. Pass in a list of string objects with column name to select any column."
   ]
  },
  {
   "cell_type": "markdown",
   "metadata": {},
   "source": [
    "**Print the age value for first five employees in the dataframe**"
   ]
  },
  {
   "cell_type": "code",
   "execution_count": 32,
   "metadata": {},
   "outputs": [
    {
     "data": {
      "text/plain": [
       "DataFrame[YEAR: string]"
      ]
     },
     "execution_count": 32,
     "metadata": {},
     "output_type": "execute_result"
    }
   ],
   "source": [
    "df.select('YEAR')"
   ]
  },
  {
   "cell_type": "markdown",
   "metadata": {},
   "source": [
    "Dataframes being lazily evaluated like RDDs will only display the results of an operation when we call any action upon it. We can call the show() method."
   ]
  },
  {
   "cell_type": "code",
   "execution_count": 33,
   "metadata": {},
   "outputs": [
    {
     "name": "stdout",
     "output_type": "stream",
     "text": [
      "+----+\n",
      "|YEAR|\n",
      "+----+\n",
      "|2016|\n",
      "|2016|\n",
      "|2016|\n",
      "|2016|\n",
      "|2016|\n",
      "|2016|\n",
      "|2016|\n",
      "|2016|\n",
      "|2016|\n",
      "|2016|\n",
      "|2016|\n",
      "|2016|\n",
      "|2016|\n",
      "|2016|\n",
      "|2016|\n",
      "|2016|\n",
      "|2016|\n",
      "|2016|\n",
      "|2016|\n",
      "|2016|\n",
      "+----+\n",
      "only showing top 20 rows\n",
      "\n"
     ]
    }
   ],
   "source": [
    "df.select('YEAR').show()"
   ]
  },
  {
   "cell_type": "markdown",
   "metadata": {},
   "source": [
    "**Display Employer Name with their case status.**\n"
   ]
  },
  {
   "cell_type": "code",
   "execution_count": 34,
   "metadata": {},
   "outputs": [
    {
     "name": "stdout",
     "output_type": "stream",
     "text": [
      "+--------------------+-------------------+\n",
      "|       EMPLOYER_NAME|        CASE_STATUS|\n",
      "+--------------------+-------------------+\n",
      "|         OMD USA LLC|CERTIFIED-WITHDRAWN|\n",
      "|THE GLOBAL ALLIAN...|          CERTIFIED|\n",
      "|THE GATORADE COMPANY|          CERTIFIED|\n",
      "|BOOMERANG COMMERC...|          CERTIFIED|\n",
      "|AMAZON WEB SERVIC...|          CERTIFIED|\n",
      "|CORNING INCORPORATED|          CERTIFIED|\n",
      "|          SNAP, INC.|          CERTIFIED|\n",
      "|      ASTRAZENECA LP|          CERTIFIED|\n",
      "|STARBUCKS COFFEE ...|          CERTIFIED|\n",
      "|NXSTAGE MEDICAL, ...|          CERTIFIED|\n",
      "|         MAYO CLINIC|          CERTIFIED|\n",
      "|POSSIBLE WORLDWID...|          CERTIFIED|\n",
      "|WAL-MART ASSOCIAT...|          CERTIFIED|\n",
      "|CARNEGIE MELLON U...|          CERTIFIED|\n",
      "| FARIA SYSTEMS, INC.|          WITHDRAWN|\n",
      "|KOYO BEARINGS NOR...|          CERTIFIED|\n",
      "|UNIVERSITY OF HAWAII|          CERTIFIED|\n",
      "| FARIA SYSTEMS, INC.|          CERTIFIED|\n",
      "|         ACCUEN INC.|          CERTIFIED|\n",
      "|         MAYO CLINIC|          CERTIFIED|\n",
      "+--------------------+-------------------+\n",
      "only showing top 20 rows\n",
      "\n",
      "+--------------------+-------------------+\n",
      "|       EMPLOYER_NAME|        CASE_STATUS|\n",
      "+--------------------+-------------------+\n",
      "|         OMD USA LLC|CERTIFIED-WITHDRAWN|\n",
      "|THE GLOBAL ALLIAN...|          CERTIFIED|\n",
      "|THE GATORADE COMPANY|          CERTIFIED|\n",
      "|BOOMERANG COMMERC...|          CERTIFIED|\n",
      "|AMAZON WEB SERVIC...|          CERTIFIED|\n",
      "|CORNING INCORPORATED|          CERTIFIED|\n",
      "|          SNAP, INC.|          CERTIFIED|\n",
      "|      ASTRAZENECA LP|          CERTIFIED|\n",
      "|STARBUCKS COFFEE ...|          CERTIFIED|\n",
      "|NXSTAGE MEDICAL, ...|          CERTIFIED|\n",
      "|         MAYO CLINIC|          CERTIFIED|\n",
      "|POSSIBLE WORLDWID...|          CERTIFIED|\n",
      "|WAL-MART ASSOCIAT...|          CERTIFIED|\n",
      "|CARNEGIE MELLON U...|          CERTIFIED|\n",
      "| FARIA SYSTEMS, INC.|          WITHDRAWN|\n",
      "|KOYO BEARINGS NOR...|          CERTIFIED|\n",
      "|UNIVERSITY OF HAWAII|          CERTIFIED|\n",
      "| FARIA SYSTEMS, INC.|          CERTIFIED|\n",
      "|         ACCUEN INC.|          CERTIFIED|\n",
      "|         MAYO CLINIC|          CERTIFIED|\n",
      "+--------------------+-------------------+\n",
      "only showing top 20 rows\n",
      "\n"
     ]
    }
   ],
   "source": [
    "# Hint: Use select() to display required columns\n",
    "df.select('EMPLOYER_NAME', 'CASE_STATUS').show()\n",
    "df[['EMPLOYER_NAME', 'CASE_STATUS']].show()"
   ]
  },
  {
   "cell_type": "markdown",
   "metadata": {},
   "source": [
    "Let's look at the total number of rows in our dataframe. We can use count() to give us total number of rows in our dataframe."
   ]
  },
  {
   "cell_type": "code",
   "execution_count": 37,
   "metadata": {},
   "outputs": [
    {
     "data": {
      "text/plain": [
       "5000"
      ]
     },
     "execution_count": 37,
     "metadata": {},
     "output_type": "execute_result"
    }
   ],
   "source": [
    "df.count()"
   ]
  },
  {
   "cell_type": "markdown",
   "metadata": {},
   "source": [
    "**Drop Rows containing NULL values**\n",
    "\n",
    "We can use `drop(how='any', thresh=None, subset=None)` method on our dataframe to drop rows with null values and return a new dataframe.\n",
    "\n",
    "**Parameters:**\t\n",
    "\n",
    "**how** – ‘any’ or ‘all’. If ‘any’, drop a row if it contains any nulls. If ‘all’, drop a row only if all its values are null.\n",
    "\n",
    "**thresh** – int, default None If specified, drop rows that have less than thresh non-null values. This overwrites the how parameter.\n",
    "\n",
    "**subset** – optional list of column names to consider."
   ]
  },
  {
   "cell_type": "code",
   "execution_count": 38,
   "metadata": {},
   "outputs": [
    {
     "name": "stdout",
     "output_type": "stream",
     "text": [
      "+-------------------+--------------------+------------------+--------------------+------------------+---------------+----+\n",
      "|        CASE_STATUS|       EMPLOYER_NAME|          SOC_NAME|           JOB_TITLE|FULL_TIME_POSITION|PREVAILING_WAGE|YEAR|\n",
      "+-------------------+--------------------+------------------+--------------------+------------------+---------------+----+\n",
      "|CERTIFIED-WITHDRAWN|         OMD USA LLC|MARKETING MANAGERS|ASSOCIATE DIRECTO...|                 Y|       108493.0|2016|\n",
      "|          CERTIFIED|THE GLOBAL ALLIAN...|MARKETING MANAGERS|SENIOR VP, MARKET...|                 Y|       179774.0|2016|\n",
      "|          CERTIFIED|THE GATORADE COMPANY|MARKETING MANAGERS|SENIOR MANAGER, S...|                 Y|       123386.0|2016|\n",
      "|          CERTIFIED|BOOMERANG COMMERC...|MARKETING MANAGERS|BUSINESS DEVELOPM...|                 Y|       163877.0|2016|\n",
      "|          CERTIFIED|AMAZON WEB SERVIC...|MARKETING MANAGERS|SENIOR PRODUCT MA...|                 Y|       115565.0|2016|\n",
      "|          CERTIFIED|CORNING INCORPORATED|MARKETING MANAGERS|COMPETITIVE INTEL...|                 Y|       123698.0|2016|\n",
      "|          CERTIFIED|          SNAP, INC.|MARKETING MANAGERS|DIRECTOR, BUSINES...|                 Y|       124197.0|2016|\n",
      "|          CERTIFIED|      ASTRAZENECA LP|MARKETING MANAGERS|ONCOLOGY INSIGHT ...|                 Y|       120786.0|2016|\n",
      "|          CERTIFIED|STARBUCKS COFFEE ...|MARKETING MANAGERS|    BRAND MANAGER II|                 Y|       115565.0|2016|\n",
      "|          CERTIFIED|NXSTAGE MEDICAL, ...|MARKETING MANAGERS|ASSOCIATE PRODUCT...|                 Y|        91312.0|2016|\n",
      "|          CERTIFIED|         MAYO CLINIC|MARKETING MANAGERS|NEW PRODUCTS AND ...|                 Y|       101587.0|2016|\n",
      "|          CERTIFIED|POSSIBLE WORLDWID...|MARKETING MANAGERS|ASSOCIATE DIRECTO...|                 Y|        77106.0|2016|\n",
      "|          CERTIFIED|WAL-MART ASSOCIAT...|MARKETING MANAGERS|SENIOR DIRECTOR, ...|                 Y|       179733.0|2016|\n",
      "|          CERTIFIED|CARNEGIE MELLON U...|MARKETING MANAGERS|DIRECTOR OF MARKE...|                 Y|        71718.0|2016|\n",
      "|          WITHDRAWN| FARIA SYSTEMS, INC.|MARKETING MANAGERS|MARKETING AND OPE...|                 Y|       110074.0|2016|\n",
      "|          CERTIFIED|KOYO BEARINGS NOR...|MARKETING MANAGERS|      LAUNCH MANAGER|                 Y|       102211.0|2016|\n",
      "|          CERTIFIED|UNIVERSITY OF HAWAII|MARKETING MANAGERS|PUBLIC INFO, PUBL...|                 N|        50352.0|2016|\n",
      "|          CERTIFIED| FARIA SYSTEMS, INC.|MARKETING MANAGERS|MARKETING AND OPE...|                 Y|       110074.0|2016|\n",
      "|          CERTIFIED|         ACCUEN INC.|MARKETING MANAGERS|  DIRECTOR, INSIGHTS|                 N|        69618.0|2016|\n",
      "|          CERTIFIED|         MAYO CLINIC|MARKETING MANAGERS|NEW PRODUCTS AND ...|                 Y|        90002.0|2016|\n",
      "+-------------------+--------------------+------------------+--------------------+------------------+---------------+----+\n",
      "only showing top 20 rows\n",
      "\n"
     ]
    }
   ],
   "source": [
    "df1 = df.na.drop()\n",
    "df1.show()"
   ]
  },
  {
   "cell_type": "markdown",
   "metadata": {},
   "source": [
    "### Replace Null values\n",
    "**What if don't want to drop entire row but just replace the null values?**\n",
    "\n",
    "`fillna(value, subset=None)` enables us to replace null values in our dataframe. We can optionally specify the set of columns into which we want to replace nul values."
   ]
  },
  {
   "cell_type": "code",
   "execution_count": 39,
   "metadata": {},
   "outputs": [],
   "source": [
    "# Replace null values in all the columns\n",
    "df = df.fillna(0)\n",
    "# df.fillna(0).show()"
   ]
  },
  {
   "cell_type": "markdown",
   "metadata": {},
   "source": [
    "Replace null values only in the Columns `CASE_STATUS` and `EMPLOYER_NAME`. \n",
    "\n",
    "Hint: Use `fillna(value, subset=None)` and specify required column names in the subset parameter. For example - `df.fillna(0, subset=['a', 'b'])`"
   ]
  },
  {
   "cell_type": "code",
   "execution_count": 40,
   "metadata": {},
   "outputs": [
    {
     "name": "stdout",
     "output_type": "stream",
     "text": [
      "+-------------------+--------------------+------------------+--------------------+------------------+---------------+----+\n",
      "|        CASE_STATUS|       EMPLOYER_NAME|          SOC_NAME|           JOB_TITLE|FULL_TIME_POSITION|PREVAILING_WAGE|YEAR|\n",
      "+-------------------+--------------------+------------------+--------------------+------------------+---------------+----+\n",
      "|CERTIFIED-WITHDRAWN|         OMD USA LLC|MARKETING MANAGERS|ASSOCIATE DIRECTO...|                 Y|       108493.0|2016|\n",
      "|          CERTIFIED|THE GLOBAL ALLIAN...|MARKETING MANAGERS|SENIOR VP, MARKET...|                 Y|       179774.0|2016|\n",
      "|          CERTIFIED|THE GATORADE COMPANY|MARKETING MANAGERS|SENIOR MANAGER, S...|                 Y|       123386.0|2016|\n",
      "|          CERTIFIED|BOOMERANG COMMERC...|MARKETING MANAGERS|BUSINESS DEVELOPM...|                 Y|       163877.0|2016|\n",
      "|          CERTIFIED|AMAZON WEB SERVIC...|MARKETING MANAGERS|SENIOR PRODUCT MA...|                 Y|       115565.0|2016|\n",
      "|          CERTIFIED|CORNING INCORPORATED|MARKETING MANAGERS|COMPETITIVE INTEL...|                 Y|       123698.0|2016|\n",
      "|          CERTIFIED|          SNAP, INC.|MARKETING MANAGERS|DIRECTOR, BUSINES...|                 Y|       124197.0|2016|\n",
      "|          CERTIFIED|      ASTRAZENECA LP|MARKETING MANAGERS|ONCOLOGY INSIGHT ...|                 Y|       120786.0|2016|\n",
      "|          CERTIFIED|STARBUCKS COFFEE ...|MARKETING MANAGERS|    BRAND MANAGER II|                 Y|       115565.0|2016|\n",
      "|          CERTIFIED|NXSTAGE MEDICAL, ...|MARKETING MANAGERS|ASSOCIATE PRODUCT...|                 Y|        91312.0|2016|\n",
      "|          CERTIFIED|         MAYO CLINIC|MARKETING MANAGERS|NEW PRODUCTS AND ...|                 Y|       101587.0|2016|\n",
      "|          CERTIFIED|POSSIBLE WORLDWID...|MARKETING MANAGERS|ASSOCIATE DIRECTO...|                 Y|        77106.0|2016|\n",
      "|          CERTIFIED|WAL-MART ASSOCIAT...|MARKETING MANAGERS|SENIOR DIRECTOR, ...|                 Y|       179733.0|2016|\n",
      "|          CERTIFIED|CARNEGIE MELLON U...|MARKETING MANAGERS|DIRECTOR OF MARKE...|                 Y|        71718.0|2016|\n",
      "|          WITHDRAWN| FARIA SYSTEMS, INC.|MARKETING MANAGERS|MARKETING AND OPE...|                 Y|       110074.0|2016|\n",
      "|          CERTIFIED|KOYO BEARINGS NOR...|MARKETING MANAGERS|      LAUNCH MANAGER|                 Y|       102211.0|2016|\n",
      "|          CERTIFIED|UNIVERSITY OF HAWAII|MARKETING MANAGERS|PUBLIC INFO, PUBL...|                 N|        50352.0|2016|\n",
      "|          CERTIFIED| FARIA SYSTEMS, INC.|MARKETING MANAGERS|MARKETING AND OPE...|                 Y|       110074.0|2016|\n",
      "|          CERTIFIED|         ACCUEN INC.|MARKETING MANAGERS|  DIRECTOR, INSIGHTS|                 N|        69618.0|2016|\n",
      "|          CERTIFIED|         MAYO CLINIC|MARKETING MANAGERS|NEW PRODUCTS AND ...|                 Y|        90002.0|2016|\n",
      "+-------------------+--------------------+------------------+--------------------+------------------+---------------+----+\n",
      "only showing top 20 rows\n",
      "\n"
     ]
    }
   ],
   "source": [
    "df_filterd = df.fillna(0, subset=['CASE_STATUS', 'EMPLOYER_NAME']).show()"
   ]
  },
  {
   "cell_type": "markdown",
   "metadata": {},
   "source": [
    "What are the possible categories in the case status?\n",
    "\n",
    "`distinct()`: Returns a new DataFrame containing the distinct rows in this DataFrame.\n",
    "\n",
    "So next, select the `CASE_STATUS` column and apply `distint()` method on it."
   ]
  },
  {
   "cell_type": "code",
   "execution_count": 41,
   "metadata": {},
   "outputs": [
    {
     "name": "stdout",
     "output_type": "stream",
     "text": [
      "+-------------------+\n",
      "|        CASE_STATUS|\n",
      "+-------------------+\n",
      "|          CERTIFIED|\n",
      "|CERTIFIED-WITHDRAWN|\n",
      "|          WITHDRAWN|\n",
      "|             DENIED|\n",
      "+-------------------+\n",
      "\n"
     ]
    }
   ],
   "source": [
    "df.select('CASE_STATUS').distinct().show()"
   ]
  },
  {
   "cell_type": "markdown",
   "metadata": {},
   "source": [
    "Determine Distinct `CASE_STATUS` count for each `EMPLOYER_NAME`\n",
    "\n",
    "For example, determine how many visa applications are certified under the employer name `SAMSUNG ELECTRONICS`\n",
    "\n",
    "We can use `crosstab()` method to get this done. **crosstab(col1, col2)** computes a pair-wise frequency table of the given columns.\n",
    "\n",
    "**Parameters:**\t\n",
    "\n",
    "**col1** – The name of the first column. Distinct items will make the first item of each row.\n",
    "\n",
    "**col2** – The name of the second column. Distinct items will make the column names of the DataFrame."
   ]
  },
  {
   "cell_type": "code",
   "execution_count": 42,
   "metadata": {},
   "outputs": [],
   "source": [
    "df2 = df.crosstab('EMPLOYER_NAME', 'CASE_STATUS')"
   ]
  },
  {
   "cell_type": "markdown",
   "metadata": {},
   "source": [
    "**Determine the top Employers getting more visa applications into a Certified Status**\n",
    "\n",
    "Find out the top 10 companies having highest number of certified visa applications."
   ]
  },
  {
   "cell_type": "code",
   "execution_count": 43,
   "metadata": {},
   "outputs": [
    {
     "name": "stdout",
     "output_type": "stream",
     "text": [
      "+-------------------------+---------+-------------------+------+---------+\n",
      "|EMPLOYER_NAME_CASE_STATUS|CERTIFIED|CERTIFIED-WITHDRAWN|DENIED|WITHDRAWN|\n",
      "+-------------------------+---------+-------------------+------+---------+\n",
      "|     TEMPLE UNIVERSITY...|        2|                  0|     0|        0|\n",
      "|     SAMSUNG ELECTRONI...|        4|                  1|     0|        0|\n",
      "|     MERCURY INSURANCE...|        0|                  1|     0|        0|\n",
      "|              ACCUEN INC.|        1|                  0|     0|        0|\n",
      "|        AKDY IMPORTS, LLC|        1|                  0|     0|        0|\n",
      "|           SAFEGRAPH INC.|        2|                  0|     0|        0|\n",
      "|     PUMA NORTH AMERIC...|        1|                  0|     0|        0|\n",
      "|             CYIENT, INC.|        1|                  0|     0|        0|\n",
      "|     THE SHERWIN-WILLI...|        3|                  0|     1|        0|\n",
      "|     ITG SOFTWARE SOLU...|        0|                  1|     0|        0|\n",
      "|             ANTHEM, INC.|        3|                  0|     0|        0|\n",
      "|     GAVS TECHNOLOGIES...|        1|                  0|     0|        0|\n",
      "|     GLOBAL TRAVEL SOL...|        1|                  0|     0|        0|\n",
      "|     INTERACTIVE BROAD...|        4|                  0|     0|        0|\n",
      "|            POPSUGAR INC.|        1|                  0|     0|        0|\n",
      "|       BRIGHT MARKET, LLC|        1|                  0|     0|        0|\n",
      "|     NOBLE DRILLING SE...|        1|                  0|     0|        0|\n",
      "|               PROJECT:TF|        1|                  0|     0|        0|\n",
      "|           PEOPLEASE, LLC|        1|                  0|     0|        0|\n",
      "|              AASONN, LLC|        1|                  0|     0|        0|\n",
      "+-------------------------+---------+-------------------+------+---------+\n",
      "only showing top 20 rows\n",
      "\n"
     ]
    }
   ],
   "source": [
    "df2.show()"
   ]
  },
  {
   "cell_type": "code",
   "execution_count": 44,
   "metadata": {},
   "outputs": [
    {
     "name": "stdout",
     "output_type": "stream",
     "text": [
      "+-------------------------+---------+-------------------+------+---------+\n",
      "|EMPLOYER_NAME_CASE_STATUS|CERTIFIED|CERTIFIED-WITHDRAWN|DENIED|WITHDRAWN|\n",
      "+-------------------------+---------+-------------------+------+---------+\n",
      "|     CAPGEMINI FINANCI...|      112|                  1|     0|        1|\n",
      "|     CAPGEMINI FINANCI...|       80|                  1|     1|        0|\n",
      "|     SYNTEL CONSULTING...|       75|                  0|     0|        3|\n",
      "|     DELOITTE CONSULTI...|       66|                  0|     0|        2|\n",
      "|     TECH MAHINDRA (AM...|       57|                  0|     0|        0|\n",
      "|     AMAZON CORPORATE LLC|       46|                  1|     0|        9|\n",
      "|      VIRTUSA CORPORATION|       40|                  0|     0|        3|\n",
      "|     CAPGEMINI AMERICA...|       39|                  0|     0|        0|\n",
      "|     MANHATTAN ASSOCIA...|       38|                  0|     3|        0|\n",
      "|           FACEBOOK, INC.|       36|                  5|     0|        1|\n",
      "|            ACCENTURE LLP|       35|                  0|     0|        0|\n",
      "|            BLOOMBERG, LP|       29|                  0|     0|        0|\n",
      "|          EMC CORPORATION|       24|                  2|     0|        1|\n",
      "|     LINKEDIN CORPORATION|       22|                  5|     0|        1|\n",
      "|               APPLE INC.|       22|                  3|     2|        1|\n",
      "|     HITACHI CONSULTIN...|       21|                  7|     0|        0|\n",
      "|               SYNTEL INC|       20|                  1|     0|        1|\n",
      "|              YAHOO! INC.|       20|                  3|     1|        1|\n",
      "|              GOOGLE INC.|       19|                  8|     0|        0|\n",
      "|      DELL MARKETING L.P.|       17|                  4|     1|        0|\n",
      "+-------------------------+---------+-------------------+------+---------+\n",
      "only showing top 20 rows\n",
      "\n"
     ]
    }
   ],
   "source": [
    "df2 = df2.orderBy(df2['CERTIFIED'].desc())\n",
    "df2.show()"
   ]
  },
  {
   "cell_type": "markdown",
   "metadata": {},
   "source": [
    "**Which `JOB_TITLE` got the highest number of certified visa applications?**"
   ]
  },
  {
   "cell_type": "code",
   "execution_count": 45,
   "metadata": {},
   "outputs": [
    {
     "name": "stdout",
     "output_type": "stream",
     "text": [
      "+---------------------+---------+-------------------+------+---------+\n",
      "|JOB_TITLE_CASE_STATUS|CERTIFIED|CERTIFIED-WITHDRAWN|DENIED|WITHDRAWN|\n",
      "+---------------------+---------+-------------------+------+---------+\n",
      "| SUPPORT ENGINEER ...|        2|                  0|     0|        0|\n",
      "| DIVISION SALES MA...|        0|                  0|     0|        1|\n",
      "| INTERNATIONAL OPE...|        1|                  0|     2|        0|\n",
      "| IT ENTERPRISE/SAP...|        1|                  0|     0|        0|\n",
      "| INFRASTRUCTURE EN...|        1|                  0|     0|        0|\n",
      "| ASSOCIATE DIRECTO...|        1|                  0|     0|        0|\n",
      "| CONSULTING MANAGE...|        1|                  0|     0|        0|\n",
      "| VICE PRESIDENT OF...|        1|                  0|     0|        0|\n",
      "| MANAGER, INFRASTR...|        1|                  0|     0|        0|\n",
      "| DIRECTOR OF BUSIN...|       14|                  1|     0|        1|\n",
      "| DIRECTOR OF OPERA...|        1|                  0|     0|        0|\n",
      "| DIRECTOR, STATIST...|        1|                  0|     0|        0|\n",
      "| INTERNATIONAL BUS...|        1|                  0|     0|        1|\n",
      "| SENIOR COMPUTER S...|        1|                  0|     0|        0|\n",
      "| SENIOR TECHNICAL ...|        0|                  0|     0|        1|\n",
      "| VICE PRESIDENT - ...|        0|                  1|     0|        0|\n",
      "| VICE PRESIDENT OF...|        1|                  2|     0|        0|\n",
      "|    RESEARCH DIRECTOR|        0|                  1|     0|        0|\n",
      "| ASSOC. VP, IT APP...|        0|                  1|     0|        0|\n",
      "| SALES & MARKETING...|        1|                  0|     0|        0|\n",
      "+---------------------+---------+-------------------+------+---------+\n",
      "only showing top 20 rows\n",
      "\n"
     ]
    }
   ],
   "source": [
    "df3 = df.crosstab('JOB_TITLE', 'CASE_STATUS')\n",
    "df3.show()"
   ]
  },
  {
   "cell_type": "code",
   "execution_count": 46,
   "metadata": {},
   "outputs": [
    {
     "name": "stdout",
     "output_type": "stream",
     "text": [
      "+---------------------+---------+-------------------+------+---------+\n",
      "|JOB_TITLE_CASE_STATUS|CERTIFIED|CERTIFIED-WITHDRAWN|DENIED|WITHDRAWN|\n",
      "+---------------------+---------+-------------------+------+---------+\n",
      "|      PROJECT MANAGER|      215|                 21|     2|        8|\n",
      "|        SALES MANAGER|      146|                  5|     7|        9|\n",
      "|              MANAGER|      132|                  6|     1|        2|\n",
      "|      LEAD CONSULTANT|      121|                  0|     1|        1|\n",
      "|    MARKETING MANAGER|       67|                  1|     9|        2|\n",
      "|      PRODUCT MANAGER|       54|                  4|     1|        6|\n",
      "| BUSINESS DEVELOPM...|       52|                  3|     4|        1|\n",
      "| SOFTWARE DEVELOPM...|       51|                  1|     1|        2|\n",
      "|  ENGINEERING MANAGER|       33|                  7|     0|        1|\n",
      "|       SENIOR MANAGER|       31|                  1|     0|        1|\n",
      "| SENIOR PRODUCT MA...|       28|                  0|     0|        4|\n",
      "| CHIEF TECHNOLOGY ...|       27|                  1|     0|        1|\n",
      "|     DELIVERY MANAGER|       27|                  0|     0|        0|\n",
      "|      PROGRAM MANAGER|       26|                  3|     0|        1|\n",
      "|          TEAM LEADER|       25|                  0|     0|        0|\n",
      "|           IT MANAGER|       20|                  0|     0|        1|\n",
      "| MANAGER, SOFTWARE...|       19|                  5|     0|        1|\n",
      "|      ACCOUNT MANAGER|       19|                  0|     1|        1|\n",
      "|   IT PROJECT MANAGER|       19|                  6|     0|        0|\n",
      "|      SALES MANAGER 4|       18|                  0|     0|        0|\n",
      "+---------------------+---------+-------------------+------+---------+\n",
      "only showing top 20 rows\n",
      "\n"
     ]
    }
   ],
   "source": [
    "df4 = df3.orderBy(df3['CERTIFIED'].desc())\n",
    "df3.orderBy(df3['CERTIFIED'].desc()).show()"
   ]
  },
  {
   "cell_type": "markdown",
   "metadata": {},
   "source": [
    "## Operations on columns\n",
    "\n",
    "**Classify Application status for each job title as either `Certified` or `NON-CERTIFIED`.**\n",
    "\n",
    "Hint: For each row we can sum up the values of columns `CERTIFIED-WITHDRAWN` + `WITHDRAWN` + `DENIED` into one single column as `NON-CERTIFIED`"
   ]
  },
  {
   "cell_type": "code",
   "execution_count": 47,
   "metadata": {},
   "outputs": [
    {
     "name": "stdout",
     "output_type": "stream",
     "text": [
      "+---------------------+---------+--------------------------------------------+\n",
      "|JOB_TITLE_CASE_STATUS|CERTIFIED|((CERTIFIED-WITHDRAWN + WITHDRAWN) + DENIED)|\n",
      "+---------------------+---------+--------------------------------------------+\n",
      "|      PROJECT MANAGER|      215|                                          31|\n",
      "|        SALES MANAGER|      146|                                          21|\n",
      "|              MANAGER|      132|                                           9|\n",
      "|      LEAD CONSULTANT|      121|                                           2|\n",
      "|    MARKETING MANAGER|       67|                                          12|\n",
      "|      PRODUCT MANAGER|       54|                                          11|\n",
      "| BUSINESS DEVELOPM...|       52|                                           8|\n",
      "| SOFTWARE DEVELOPM...|       51|                                           4|\n",
      "|  ENGINEERING MANAGER|       33|                                           8|\n",
      "|       SENIOR MANAGER|       31|                                           2|\n",
      "| SENIOR PRODUCT MA...|       28|                                           4|\n",
      "| CHIEF TECHNOLOGY ...|       27|                                           2|\n",
      "|     DELIVERY MANAGER|       27|                                           0|\n",
      "|      PROGRAM MANAGER|       26|                                           4|\n",
      "|          TEAM LEADER|       25|                                           0|\n",
      "|           IT MANAGER|       20|                                           1|\n",
      "| MANAGER, SOFTWARE...|       19|                                           6|\n",
      "|   IT PROJECT MANAGER|       19|                                           6|\n",
      "|      ACCOUNT MANAGER|       19|                                           2|\n",
      "|      SALES MANAGER 4|       18|                                           0|\n",
      "+---------------------+---------+--------------------------------------------+\n",
      "only showing top 20 rows\n",
      "\n"
     ]
    }
   ],
   "source": [
    "df5 = df4.select(df4['JOB_TITLE_CASE_STATUS'], df4['CERTIFIED'], df4['CERTIFIED-WITHDRAWN']+df4['WITHDRAWN']+df4['DENIED'])\n",
    "\n",
    "df4.select(df4['JOB_TITLE_CASE_STATUS'], df4['CERTIFIED'], df4['CERTIFIED-WITHDRAWN']+df4['WITHDRAWN']+df4['DENIED']).show()"
   ]
  },
  {
   "cell_type": "code",
   "execution_count": 48,
   "metadata": {},
   "outputs": [],
   "source": [
    "from pyspark.sql.functions import *"
   ]
  },
  {
   "cell_type": "code",
   "execution_count": 49,
   "metadata": {},
   "outputs": [
    {
     "name": "stdout",
     "output_type": "stream",
     "text": [
      "+---------------------+---------+-------------+\n",
      "|JOB_TITLE_CASE_STATUS|CERTIFIED|NON-CERTIFIED|\n",
      "+---------------------+---------+-------------+\n",
      "|      PROJECT MANAGER|      215|           31|\n",
      "|        SALES MANAGER|      146|           21|\n",
      "|              MANAGER|      132|            9|\n",
      "|      LEAD CONSULTANT|      121|            2|\n",
      "|    MARKETING MANAGER|       67|           12|\n",
      "|      PRODUCT MANAGER|       54|           11|\n",
      "| BUSINESS DEVELOPM...|       52|            8|\n",
      "| SOFTWARE DEVELOPM...|       51|            4|\n",
      "|  ENGINEERING MANAGER|       33|            8|\n",
      "|       SENIOR MANAGER|       31|            2|\n",
      "| SENIOR PRODUCT MA...|       28|            4|\n",
      "|     DELIVERY MANAGER|       27|            0|\n",
      "| CHIEF TECHNOLOGY ...|       27|            2|\n",
      "|      PROGRAM MANAGER|       26|            4|\n",
      "|          TEAM LEADER|       25|            0|\n",
      "|           IT MANAGER|       20|            1|\n",
      "| MANAGER, SOFTWARE...|       19|            6|\n",
      "|      ACCOUNT MANAGER|       19|            2|\n",
      "|   IT PROJECT MANAGER|       19|            6|\n",
      "|      SALES MANAGER 4|       18|            0|\n",
      "+---------------------+---------+-------------+\n",
      "only showing top 20 rows\n",
      "\n"
     ]
    }
   ],
   "source": [
    "df6 = df5.select('JOB_TITLE_CASE_STATUS', 'CERTIFIED', col(\"((CERTIFIED-WITHDRAWN + WITHDRAWN) + DENIED)\").alias(\"NON-CERTIFIED\"))\n",
    "df6.show()"
   ]
  },
  {
   "cell_type": "markdown",
   "metadata": {},
   "source": [
    "**Find the total number of `CERTIFIED` and `NON-CERTIFIED` applications in your dataframe.**\n",
    "\n",
    "Hint: Use aggregation function like sum() to compute total number in each category."
   ]
  },
  {
   "cell_type": "code",
   "execution_count": 51,
   "metadata": {},
   "outputs": [
    {
     "data": {
      "text/plain": [
       "4273.0"
      ]
     },
     "execution_count": 51,
     "metadata": {},
     "output_type": "execute_result"
    }
   ],
   "source": [
    "total_certified = float(df6.groupBy().sum('CERTIFIED').collect()[0][0])\n",
    "total_certified\n"
   ]
  },
  {
   "cell_type": "code",
   "execution_count": 52,
   "metadata": {},
   "outputs": [],
   "source": [
    "# Similarly, calculate total number of NON-CERTIFIED applications.\n",
    "\n",
    "# total_noncertified = "
   ]
  },
  {
   "cell_type": "markdown",
   "metadata": {},
   "source": [
    "Here’s the problem: I have a Python function that iterates over my data, but going through each row in the dataframe takes several days. If I have a computing cluster with many nodes, how can I distribute this Python function in PySpark to speed up this process — maybe cut the total time down to less than a few hours — with the least amount of work?\n",
    "\n",
    "In other words, how do I turn a Python function into a Spark user defined function, or UDF?\n",
    "\n",
    "<img src = \"images/dataframe.png\">"
   ]
  },
  {
   "cell_type": "markdown",
   "metadata": {},
   "source": [
    "### How can we make use of User Defined Functions on our Dataframes?\n",
    "\n",
    "Recall, what was the use of `map()` and `flatMap()` methods when we were operating on our RDDs. Basically these help us to apply the user defined functions on each partition of our RDD.\n",
    "\n",
    "Similarly, spark allow us to operate on dataframe using our custom functions.\n",
    "\n",
    "**Steps:**\n",
    "\n",
    "1. Define your custom function\n",
    "2. Register UDF\n"
   ]
  },
  {
   "cell_type": "code",
   "execution_count": 53,
   "metadata": {},
   "outputs": [],
   "source": [
    "def share(s):\n",
    "  return (s / total_certified)"
   ]
  },
  {
   "cell_type": "markdown",
   "metadata": {},
   "source": [
    "### Registering a UDF\n",
    "\n",
    "- PySpark UDFs work in a similar way as the pandas .map() and .apply() methods for pandas series and dataframes. If I have a function that can use values from a row in the dataframe as input, then I can map it to the entire dataframe. The only difference is that with PySpark UDFs we have to specify the output data type.\n",
    "\n",
    "- As long as the python function’s output has a corresponding data type in Spark, it can be turned into a UDF. When registering UDFs, we have to specify the data type using the types from pyspark.sql.types. All the types supported by PySpark [can be found here](http://spark.apache.org/docs/latest/api/python/pyspark.sql.html?highlight=types#module-pyspark.sql.types).\n",
    "\n",
    "- udf(): Returns a **UDFRegistration** for UDF registration.\n",
    "\n",
    "- register(name, f, returnType=StringType): Registers a python function (including lambda function) as a **UDF** so it can be used in SQL statements.\n",
    "\n"
   ]
  },
  {
   "cell_type": "code",
   "execution_count": 55,
   "metadata": {},
   "outputs": [
    {
     "name": "stdout",
     "output_type": "stream",
     "text": [
      "4273.0\n"
     ]
    }
   ],
   "source": [
    "from pyspark.sql.functions import udf\n",
    "\n",
    "sqlContext.udf.register(\"Employershare\", share)\n",
    "\n",
    "print total_certified"
   ]
  },
  {
   "cell_type": "code",
   "execution_count": 56,
   "metadata": {},
   "outputs": [
    {
     "name": "stdout",
     "output_type": "stream",
     "text": [
      "+-------------------------+---------+\n",
      "|EMPLOYER_NAME_CASE_STATUS|CERTIFIED|\n",
      "+-------------------------+---------+\n",
      "|     CAPGEMINI FINANCI...|    112.0|\n",
      "|     CAPGEMINI FINANCI...|     80.0|\n",
      "|     SYNTEL CONSULTING...|     75.0|\n",
      "|     DELOITTE CONSULTI...|     66.0|\n",
      "|     TECH MAHINDRA (AM...|     57.0|\n",
      "|     AMAZON CORPORATE LLC|     46.0|\n",
      "|      VIRTUSA CORPORATION|     40.0|\n",
      "|     CAPGEMINI AMERICA...|     39.0|\n",
      "|     MANHATTAN ASSOCIA...|     38.0|\n",
      "|           FACEBOOK, INC.|     36.0|\n",
      "|            ACCENTURE LLP|     35.0|\n",
      "|            BLOOMBERG, LP|     29.0|\n",
      "|          EMC CORPORATION|     24.0|\n",
      "|               APPLE INC.|     22.0|\n",
      "|     LINKEDIN CORPORATION|     22.0|\n",
      "|     HITACHI CONSULTIN...|     21.0|\n",
      "|               SYNTEL INC|     20.0|\n",
      "|              YAHOO! INC.|     20.0|\n",
      "|              GOOGLE INC.|     19.0|\n",
      "|      DELL MARKETING L.P.|     17.0|\n",
      "+-------------------------+---------+\n",
      "only showing top 20 rows\n",
      "\n"
     ]
    }
   ],
   "source": [
    "df7 = df2.select(df2.EMPLOYER_NAME_CASE_STATUS, df2.CERTIFIED.cast(\"float\"))\n",
    "df7.show()"
   ]
  },
  {
   "cell_type": "code",
   "execution_count": 58,
   "metadata": {},
   "outputs": [
    {
     "name": "stdout",
     "output_type": "stream",
     "text": [
      "+-------------------------+------------+\n",
      "|EMPLOYER_NAME_CASE_STATUS|      %share|\n",
      "+-------------------------+------------+\n",
      "|     CAPGEMINI FINANCI...| 0.026211092|\n",
      "|     CAPGEMINI FINANCI...|  0.01872221|\n",
      "|     SYNTEL CONSULTING...|  0.01755207|\n",
      "|     DELOITTE CONSULTI...| 0.015445823|\n",
      "|     TECH MAHINDRA (AM...| 0.013339574|\n",
      "|     AMAZON CORPORATE LLC|  0.01076527|\n",
      "|      VIRTUSA CORPORATION| 0.009361105|\n",
      "|     CAPGEMINI AMERICA...| 0.009127077|\n",
      "|     MANHATTAN ASSOCIA...| 0.008893049|\n",
      "|           FACEBOOK, INC.| 0.008424995|\n",
      "|            ACCENTURE LLP| 0.008190966|\n",
      "|            BLOOMBERG, LP| 0.006786801|\n",
      "|          EMC CORPORATION|0.0056166626|\n",
      "|     LINKEDIN CORPORATION|0.0051486073|\n",
      "|               APPLE INC.|0.0051486073|\n",
      "|     HITACHI CONSULTIN...|  0.00491458|\n",
      "|              YAHOO! INC.|0.0046805525|\n",
      "|               SYNTEL INC|0.0046805525|\n",
      "|              GOOGLE INC.|0.0044465247|\n",
      "|      DELL MARKETING L.P.|0.0039784694|\n",
      "+-------------------------+------------+\n",
      "only showing top 20 rows\n",
      "\n"
     ]
    }
   ],
   "source": [
    "from pyspark.sql.types import FloatType\n",
    "share_udf = udf(share, FloatType())\n",
    "df8 = df7.select(\"EMPLOYER_NAME_CASE_STATUS\", share_udf(df7.CERTIFIED).alias(\"%share\"))\n",
    "df8.show()"
   ]
  },
  {
   "cell_type": "markdown",
   "metadata": {},
   "source": [
    "**Here’s a small gotcha** — because Spark UDF doesn’t convert integers to floats, unlike Python function which works for both integers and floats, a Spark UDF will return a column of NULLs if the input data type doesn’t match the output data type, as in the following example."
   ]
  },
  {
   "cell_type": "code",
   "execution_count": 62,
   "metadata": {},
   "outputs": [
    {
     "name": "stdout",
     "output_type": "stream",
     "text": [
      "+-------------------------+------+\n",
      "|EMPLOYER_NAME_CASE_STATUS|%share|\n",
      "+-------------------------+------+\n",
      "|     CAPGEMINI FINANCI...|  null|\n",
      "|     CAPGEMINI FINANCI...|  null|\n",
      "|     SYNTEL CONSULTING...|  null|\n",
      "|     DELOITTE CONSULTI...|  null|\n",
      "|     TECH MAHINDRA (AM...|  null|\n",
      "|     AMAZON CORPORATE LLC|  null|\n",
      "|      VIRTUSA CORPORATION|  null|\n",
      "|     CAPGEMINI AMERICA...|  null|\n",
      "|     MANHATTAN ASSOCIA...|  null|\n",
      "|           FACEBOOK, INC.|  null|\n",
      "|            ACCENTURE LLP|  null|\n",
      "|            BLOOMBERG, LP|  null|\n",
      "|          EMC CORPORATION|  null|\n",
      "|               APPLE INC.|  null|\n",
      "|     LINKEDIN CORPORATION|  null|\n",
      "|     HITACHI CONSULTIN...|  null|\n",
      "|               SYNTEL INC|  null|\n",
      "|              YAHOO! INC.|  null|\n",
      "|              GOOGLE INC.|  null|\n",
      "|      DELL MARKETING L.P.|  null|\n",
      "+-------------------------+------+\n",
      "only showing top 20 rows\n",
      "\n"
     ]
    }
   ],
   "source": [
    "from pyspark.sql.types import IntegerType\n",
    "share_integer_udf = udf(share, IntegerType())\n",
    "df9 = df7.select(\"EMPLOYER_NAME_CASE_STATUS\", share_integer_udf(df7.CERTIFIED).alias(\"%share\"))\n",
    "\n",
    "df9.show()"
   ]
  },
  {
   "cell_type": "markdown",
   "metadata": {},
   "source": [
    "## Convert Spark Dataframe to Pandas"
   ]
  },
  {
   "cell_type": "code",
   "execution_count": 63,
   "metadata": {},
   "outputs": [
    {
     "data": {
      "text/plain": [
       "Index([u'EMPLOYER_NAME_CASE_STATUS', u'%share'], dtype='object')"
      ]
     },
     "execution_count": 63,
     "metadata": {},
     "output_type": "execute_result"
    }
   ],
   "source": [
    "pandas_df = df9.toPandas()\n",
    "pandas_df.columns"
   ]
  },
  {
   "cell_type": "markdown",
   "metadata": {},
   "source": [
    "# 7.8 QUIZ \n",
    "\n",
    "**Q.1 Which of the following are common feature of RDD and DataFrame?**\n",
    "\n",
    "A. immutability\n",
    "\n",
    "B. in-memory\n",
    "\n",
    "C. resilient\n",
    "\n",
    "D. All of the above\n",
    "\n",
    "Answer - D\n",
    "\n",
    "**Q. 2. With the help of Spark SQL, we can query structured data as a distributed dataset (RDD).**\n",
    "\n",
    "A. TRUE\n",
    "\n",
    "B. FALSE\n",
    "\n",
    "Answer - A\n",
    "\n",
    "**Q.3 Can we change a particular row entry in a Dataframe?**\n",
    "\n",
    "A. TRUE\n",
    "\n",
    "B. FALSE\n",
    "\n",
    "Answer - B, Dataframes are immutable in nature"
   ]
  },
  {
   "cell_type": "markdown",
   "metadata": {},
   "source": [
    "# Part 2: SQL Queries"
   ]
  },
  {
   "cell_type": "markdown",
   "metadata": {},
   "source": [
    "We can create a temproary table view from a Dataframe, which can be further used to perform SQL queries on the data. In part 1, we saw operations using Dataframes. We will pick the same dataset and perform some basic SQL queries."
   ]
  },
  {
   "cell_type": "markdown",
   "metadata": {},
   "source": [
    "**Create a table out of `df2`**\n",
    "\n",
    "Hint: We can use `registerTempTable(name)` method on any dataframe to create a table out of it.\n",
    "\n",
    "**`registerTempTable(name)`**: Registers this RDD as a temporary table using the given name.\n",
    "\n",
    "- The lifetime of this temporary table is tied to the SQLContext that was used to create this DataFrame."
   ]
  },
  {
   "cell_type": "code",
   "execution_count": 64,
   "metadata": {},
   "outputs": [],
   "source": [
    "df.registerTempTable(\"visa_table\")"
   ]
  },
  {
   "cell_type": "markdown",
   "metadata": {},
   "source": [
    "## How to perform SQL queries through Spark?\n",
    "\n",
    "TO perform SQL Queries we can `SparkSession.sql(sqlQuery)` where `sqlQuery` can be any valid sql query.\n",
    "\n",
    "- **`SparkSession.sql(sqlQuery)`**: **Returns a DataFrame** representing the result of the given query."
   ]
  },
  {
   "cell_type": "code",
   "execution_count": 65,
   "metadata": {},
   "outputs": [],
   "source": [
    "df_visa = spark.sql(\"select * from visa_table\")"
   ]
  },
  {
   "cell_type": "markdown",
   "metadata": {},
   "source": [
    "**Let's check if the above query gave us the identical dataframe in the result!**"
   ]
  },
  {
   "cell_type": "code",
   "execution_count": 67,
   "metadata": {},
   "outputs": [
    {
     "data": {
      "text/plain": [
       "True"
      ]
     },
     "execution_count": 67,
     "metadata": {},
     "output_type": "execute_result"
    }
   ],
   "source": [
    "sorted(df_visa.collect()) == sorted(df.collect())"
   ]
  },
  {
   "cell_type": "code",
   "execution_count": 68,
   "metadata": {},
   "outputs": [
    {
     "name": "stdout",
     "output_type": "stream",
     "text": [
      "+--------------------+---------------+\n",
      "|       EMPLOYER_NAME|CERTIFIED_COUNT|\n",
      "+--------------------+---------------+\n",
      "|CAPGEMINI FINANCI...|            112|\n",
      "|CAPGEMINI FINANCI...|             80|\n",
      "|SYNTEL CONSULTING...|             75|\n",
      "|DELOITTE CONSULTI...|             66|\n",
      "|TECH MAHINDRA (AM...|             57|\n",
      "|AMAZON CORPORATE LLC|             46|\n",
      "| VIRTUSA CORPORATION|             40|\n",
      "|CAPGEMINI AMERICA...|             39|\n",
      "|MANHATTAN ASSOCIA...|             38|\n",
      "|      FACEBOOK, INC.|             36|\n",
      "+--------------------+---------------+\n",
      "only showing top 10 rows\n",
      "\n"
     ]
    }
   ],
   "source": [
    "#Top10 companies getting visa approval (for all the years)\n",
    "spark.sql(\"SELECT EMPLOYER_NAME, count(EMPLOYER_NAME) as CERTIFIED_COUNT FROM visa_table where CASE_STATUS = 'CERTIFIED' GROUP BY EMPLOYER_NAME order by CERTIFIED_COUNT desc\").show(10)"
   ]
  },
  {
   "cell_type": "code",
   "execution_count": 69,
   "metadata": {},
   "outputs": [
    {
     "name": "stdout",
     "output_type": "stream",
     "text": [
      "+-----------------+--------+\n",
      "|        JOB_TITLE|Approved|\n",
      "+-----------------+--------+\n",
      "|  PROJECT MANAGER|     215|\n",
      "|    SALES MANAGER|     146|\n",
      "|          MANAGER|     132|\n",
      "|  LEAD CONSULTANT|     121|\n",
      "|MARKETING MANAGER|      67|\n",
      "+-----------------+--------+\n",
      "only showing top 5 rows\n",
      "\n"
     ]
    }
   ],
   "source": [
    "spark.sql(\"SELECT JOB_TITLE, count(*) as Approved FROM visa_table where CASE_STATUS = 'CERTIFIED' GROUP BY JOB_TITLE order by Approved desc\").show(5)"
   ]
  },
  {
   "cell_type": "markdown",
   "metadata": {},
   "source": [
    "We can see that in our dataset the Job Title as `OPERATIONS MANAGER` has got highest number of approvals.\n",
    "\n",
    "**Let's find out the `EMPLOYER_NAME` having the highest number of operations manager getting visa approved.**"
   ]
  },
  {
   "cell_type": "code",
   "execution_count": 70,
   "metadata": {},
   "outputs": [
    {
     "name": "stdout",
     "output_type": "stream",
     "text": [
      "+--------------------+--------+\n",
      "|       EMPLOYER_NAME|Approved|\n",
      "+--------------------+--------+\n",
      "|BUILDING CLEANING...|       1|\n",
      "|DOW HEALTHCARE ST...|       1|\n",
      "+--------------------+--------+\n",
      "\n"
     ]
    }
   ],
   "source": [
    "spark.sql(\"SELECT EMPLOYER_NAME,count(*) as Approved FROM visa_table where CASE_STATUS = 'CERTIFIED' AND JOB_TITLE ='OPERATIONS MANAGER' GROUP BY EMPLOYER_NAME order by Approved desc\").show(5)"
   ]
  },
  {
   "cell_type": "markdown",
   "metadata": {},
   "source": [
    "**Next, find out the approved applications having the highest paid salaries.**"
   ]
  },
  {
   "cell_type": "code",
   "execution_count": 71,
   "metadata": {},
   "outputs": [
    {
     "name": "stdout",
     "output_type": "stream",
     "text": [
      "+--------------------+-------+--------------------+--------------------+----+------------------+-----------+\n",
      "|          businesses|   wage|            SOC_NAME|           JOB_TITLE|YEAR|FULL_TIME_POSITION|CASE_STATUS|\n",
      "+--------------------+-------+--------------------+--------------------+----+------------------+-----------+\n",
      "|AJINOMOTO WINDSOR...|99882.0|COMPUTER AND INFO...| ERP SYSTEMS MANAGER|2016|                 Y|  CERTIFIED|\n",
      "| OVERSTOCK.COM, INC.|99861.0|COMPUTER AND INFO...|SOFTWARE DEVELOPM...|2016|                 Y|  CERTIFIED|\n",
      "|TECH MAHINDRA (AM...|99861.0|COMPUTER AND INFO...|    DELIVERY MANAGER|2016|                 Y|  CERTIFIED|\n",
      "|SELECT PORTFOLIO ...|99861.0|COMPUTER AND INFO...| ENGINEERING MANAGER|2016|                 Y|  CERTIFIED|\n",
      "|           HZO, INC.|99861.0|COMPUTER AND INFO...|APPLICATIONS DIRE...|2016|                 Y|  CERTIFIED|\n",
      "| OVERSTOCK.COM, INC.|99861.0|COMPUTER AND INFO...|    DEVELOPMENT LEAD|2016|                 Y|  CERTIFIED|\n",
      "| OVERSTOCK.COM, INC.|99861.0|COMPUTER AND INFO...|    DEVELOPMENT LEAD|2016|                 Y|  CERTIFIED|\n",
      "| VIRTUSA CORPORATION|99861.0|COMPUTER AND INFO...|      SENIOR MANAGER|2016|                 Y|  CERTIFIED|\n",
      "|   EULER CAPITAL LLC|99840.0|PUBLIC RELATIONS ...|PUBLIC RELATIONS ...|2016|                 Y|  CERTIFIED|\n",
      "|  CAPGEMINI U.S. LLC|99800.0|COMPUTER AND INFO...|MANAGER/PROJECT M...|2016|                 Y|  CERTIFIED|\n",
      "+--------------------+-------+--------------------+--------------------+----+------------------+-----------+\n",
      "only showing top 10 rows\n",
      "\n"
     ]
    }
   ],
   "source": [
    "spark.sql(\"SELECT EMPLOYER_NAME as businesses, PREVAILING_WAGE as wage, SOC_NAME, JOB_TITLE, YEAR, FULL_TIME_POSITION, CASE_STATUS  FROM visa_table where CASE_STATUS ='CERTIFIED' order by PREVAILING_WAGE desc\").show(10)"
   ]
  },
  {
   "cell_type": "markdown",
   "metadata": {},
   "source": [
    "# Project"
   ]
  },
  {
   "cell_type": "markdown",
   "metadata": {},
   "source": [
    "# Spark DataFrame Exercise\n",
    "\n",
    "Given a stock market dataset come up with short analysis. Answer basic questions below."
   ]
  },
  {
   "cell_type": "markdown",
   "metadata": {},
   "source": [
    "#### Use the following file as a input:\n",
    "\n",
    "`data/appl_stock.csv`"
   ]
  },
  {
   "cell_type": "markdown",
   "metadata": {},
   "source": [
    "#### Start a simple Spark Session"
   ]
  },
  {
   "cell_type": "code",
   "execution_count": 2,
   "metadata": {},
   "outputs": [],
   "source": [
    "from pyspark.sql import SQLContext\n",
    "sqlContext = SQLContext(sc)"
   ]
  },
  {
   "cell_type": "markdown",
   "metadata": {},
   "source": [
    "#### Task 1 - Load the Apple Stock CSV File, make sure you infer the data types."
   ]
  },
  {
   "cell_type": "code",
   "execution_count": 4,
   "metadata": {},
   "outputs": [
    {
     "name": "stdout",
     "output_type": "stream",
     "text": [
      "+-------------------+----------+----------+------------------+----------+---------+------------------+\n",
      "|               Date|      Open|      High|               Low|     Close|   Volume|         Adj Close|\n",
      "+-------------------+----------+----------+------------------+----------+---------+------------------+\n",
      "|2010-01-04 00:00:00|213.429998|214.499996|212.38000099999996|214.009998|123432400|         27.727039|\n",
      "|2010-01-05 00:00:00|214.599998|215.589994|        213.249994|214.379993|150476200|27.774976000000002|\n",
      "|2010-01-06 00:00:00|214.379993|    215.23|        210.750004|210.969995|138040000|27.333178000000004|\n",
      "+-------------------+----------+----------+------------------+----------+---------+------------------+\n",
      "only showing top 3 rows\n",
      "\n"
     ]
    }
   ],
   "source": [
    "df = spark.read.csv('data/appl_stock.csv', inferSchema=True, header=True)\n",
    "df.show(3)"
   ]
  },
  {
   "cell_type": "markdown",
   "metadata": {},
   "source": [
    "#### Task 2 - What are the column names and Schema?\n",
    "\n",
    "Hint: use `columns` and `printSchema()` on your dataframe."
   ]
  },
  {
   "cell_type": "code",
   "execution_count": 5,
   "metadata": {},
   "outputs": [
    {
     "data": {
      "text/plain": [
       "['Date', 'Open', 'High', 'Low', 'Close', 'Volume', 'Adj Close']"
      ]
     },
     "execution_count": 5,
     "metadata": {},
     "output_type": "execute_result"
    }
   ],
   "source": [
    "df.columns"
   ]
  },
  {
   "cell_type": "code",
   "execution_count": 6,
   "metadata": {},
   "outputs": [
    {
     "name": "stdout",
     "output_type": "stream",
     "text": [
      "root\n",
      " |-- Date: timestamp (nullable = true)\n",
      " |-- Open: double (nullable = true)\n",
      " |-- High: double (nullable = true)\n",
      " |-- Low: double (nullable = true)\n",
      " |-- Close: double (nullable = true)\n",
      " |-- Volume: integer (nullable = true)\n",
      " |-- Adj Close: double (nullable = true)\n",
      "\n"
     ]
    }
   ],
   "source": [
    "df.printSchema()"
   ]
  },
  {
   "cell_type": "markdown",
   "metadata": {},
   "source": [
    "#### Task 3 - Print out the first 5 rows.\n",
    "\n",
    "Hint: `take(n)` helps in selectinh first n rows in your dataframe."
   ]
  },
  {
   "cell_type": "code",
   "execution_count": 7,
   "metadata": {},
   "outputs": [
    {
     "data": {
      "text/plain": [
       "[Row(Date=datetime.datetime(2010, 1, 4, 0, 0), Open=213.429998, High=214.499996, Low=212.38000099999996, Close=214.009998, Volume=123432400, Adj Close=27.727039),\n",
       " Row(Date=datetime.datetime(2010, 1, 5, 0, 0), Open=214.599998, High=215.589994, Low=213.249994, Close=214.379993, Volume=150476200, Adj Close=27.774976000000002),\n",
       " Row(Date=datetime.datetime(2010, 1, 6, 0, 0), Open=214.379993, High=215.23, Low=210.750004, Close=210.969995, Volume=138040000, Adj Close=27.333178000000004),\n",
       " Row(Date=datetime.datetime(2010, 1, 7, 0, 0), Open=211.75, High=212.000006, Low=209.050005, Close=210.58, Volume=119282800, Adj Close=27.28265),\n",
       " Row(Date=datetime.datetime(2010, 1, 8, 0, 0), Open=210.299994, High=212.000006, Low=209.06000500000002, Close=211.98000499999998, Volume=111902700, Adj Close=27.464034)]"
      ]
     },
     "execution_count": 7,
     "metadata": {},
     "output_type": "execute_result"
    }
   ],
   "source": [
    "df.take(5)"
   ]
  },
  {
   "cell_type": "markdown",
   "metadata": {},
   "source": [
    "#### Task 4\n",
    "Use `describe()` to learn about the Dataframe.\n",
    "There are too many decimal places for `mean` and `stddev` in the `describe()` dataframe.\n",
    "Format the numbers to just show up to two decimal places. Pay careful attention to the datatypes that `.describe()` returns, we didn't cover how to do this exact formatting, but we covered something very similar. [Check this link for a hint](http://spark.apache.org/docs/latest/api/python/pyspark.sql.html#pyspark.sql.Column.cast)\n",
    "\n",
    "\n",
    "Hint: Pyspark sql function `format_number` helps in casting a column of any Dataframe. "
   ]
  },
  {
   "cell_type": "code",
   "execution_count": 13,
   "metadata": {},
   "outputs": [
    {
     "name": "stdout",
     "output_type": "stream",
     "text": [
      "root\n",
      " |-- summary: string (nullable = true)\n",
      " |-- Open: string (nullable = true)\n",
      " |-- High: string (nullable = true)\n",
      " |-- Low: string (nullable = true)\n",
      " |-- Close: string (nullable = true)\n",
      " |-- Volume: string (nullable = true)\n",
      " |-- Adj Close: string (nullable = true)\n",
      "\n",
      "+-------+------------------+------------------+------------------+-----------------+-------------------+------------------+\n",
      "|summary|              Open|              High|               Low|            Close|             Volume|         Adj Close|\n",
      "+-------+------------------+------------------+------------------+-----------------+-------------------+------------------+\n",
      "|  count|              1762|              1762|              1762|             1762|               1762|              1762|\n",
      "|   mean| 313.0763111589103| 315.9112880164581| 309.8282405079457|312.9270656379113|9.422577587968218E7| 75.00174115607275|\n",
      "| stddev|185.29946803981522|186.89817686485767|183.38391664371008|185.1471036170943|6.020518776592709E7| 28.57492972179906|\n",
      "|    min|              90.0|         90.699997|         89.470001|        90.279999|           11475900|         24.881912|\n",
      "|    max|        702.409988|        705.070023|        699.569977|       702.100021|          470249500|127.96609099999999|\n",
      "+-------+------------------+------------------+------------------+-----------------+-------------------+------------------+\n",
      "\n"
     ]
    }
   ],
   "source": [
    "df.describe().printSchema()\n",
    "desc = df.describe()\n",
    "desc.show()"
   ]
  },
  {
   "cell_type": "code",
   "execution_count": 14,
   "metadata": {},
   "outputs": [
    {
     "name": "stdout",
     "output_type": "stream",
     "text": [
      "+-------+--------+--------+--------+--------+--------------+\n",
      "|summary|    Open|    High|     Low|   Close|     Adj Close|\n",
      "+-------+--------+--------+--------+--------+--------------+\n",
      "|  count|1,762.00|1,762.00|1,762.00|1,762.00|      1,762.00|\n",
      "|   mean|  313.08|  315.91|  309.83|  312.93| 94,225,776.00|\n",
      "| stddev|  185.30|  186.90|  183.38|  185.15| 60,205,188.00|\n",
      "|    min|   90.00|   90.70|   89.47|   90.28| 11,475,900.00|\n",
      "|    max|  702.41|  705.07|  699.57|  702.10|470,249,504.00|\n",
      "+-------+--------+--------+--------+--------+--------------+\n",
      "\n"
     ]
    }
   ],
   "source": [
    "from pyspark.sql.functions import format_number\n",
    "\n",
    "'''Formats numeric column x to a format like '#,###,###.##', \n",
    "rounded to d decimal places, and returns the result as a string column.'''\n",
    "\n",
    "\n",
    "desc.select(desc['summary'], format_number(desc['Open'].cast('float'), 2).alias('Open'), \n",
    "            format_number(desc['High'].cast('float'), 2).alias('High'),\n",
    "            format_number(desc['Low'].cast('float'), 2).alias('Low'), \n",
    "            format_number(desc['Close'].cast('float'), 2).alias('Close'),\n",
    "            format_number(desc['Volume'].cast('float'), 2).alias('Adj Close')).show()"
   ]
  },
  {
   "cell_type": "markdown",
   "metadata": {},
   "source": [
    "#### Task 5\n",
    "\n",
    "What day had the Peak High in Price?"
   ]
  },
  {
   "cell_type": "code",
   "execution_count": 15,
   "metadata": {},
   "outputs": [
    {
     "data": {
      "text/plain": [
       "datetime.datetime(2012, 9, 21, 0, 0)"
      ]
     },
     "execution_count": 15,
     "metadata": {},
     "output_type": "execute_result"
    }
   ],
   "source": [
    "df.orderBy(df['High'].desc()).take(1)[0][0]"
   ]
  },
  {
   "cell_type": "markdown",
   "metadata": {},
   "source": [
    "#### Task 6\n",
    "What is the mean of the Close column?\n",
    "\n",
    "Hint: Import and use avg/mean function of pyspak.sql.functions"
   ]
  },
  {
   "cell_type": "code",
   "execution_count": 16,
   "metadata": {},
   "outputs": [
    {
     "name": "stdout",
     "output_type": "stream",
     "text": [
      "+-----------------+\n",
      "|       avg(Close)|\n",
      "+-----------------+\n",
      "|312.9270656379113|\n",
      "+-----------------+\n",
      "\n"
     ]
    }
   ],
   "source": [
    "from pyspark.sql.functions import avg\n",
    "df.select(avg('Close')).show()"
   ]
  },
  {
   "cell_type": "code",
   "execution_count": 17,
   "metadata": {},
   "outputs": [
    {
     "name": "stdout",
     "output_type": "stream",
     "text": [
      "+-----------------+\n",
      "|       avg(Close)|\n",
      "+-----------------+\n",
      "|312.9270656379113|\n",
      "+-----------------+\n",
      "\n"
     ]
    }
   ],
   "source": [
    "# another way to do it\n",
    "from pyspark.sql.functions import mean\n",
    "df.select(mean('Close')).show()"
   ]
  },
  {
   "cell_type": "markdown",
   "metadata": {},
   "source": [
    "#### Task 7\n",
    "What is the max and min of the Volume column?\n",
    "\n",
    "Hint: Import and use min/max function of pyspak.sql.functions"
   ]
  },
  {
   "cell_type": "code",
   "execution_count": 19,
   "metadata": {},
   "outputs": [
    {
     "name": "stdout",
     "output_type": "stream",
     "text": [
      "+-----------+-----------+\n",
      "|max(Volume)|min(Volume)|\n",
      "+-----------+-----------+\n",
      "|  470249500|   11475900|\n",
      "+-----------+-----------+\n",
      "\n"
     ]
    }
   ],
   "source": [
    "from pyspark.sql.functions import min, max\n",
    "df.select(max(df['Volume']), min(df['Volume'])).show()"
   ]
  },
  {
   "cell_type": "markdown",
   "metadata": {},
   "source": [
    "#### Task 8\n",
    "What percentage of the time was the High greater than 150 dollars ?\n",
    "#### In other words, \n",
    "\n",
    "> (Number of Days High > 150) / (Total Days in the dataset)\n",
    "\n",
    "Hint: Remeber to take a distinct count of dates to calculate number of Days. Filter `High` column for `values>150` and then apply countDistinct(`date_column`) and similary calculate total number of days."
   ]
  },
  {
   "cell_type": "code",
   "execution_count": 20,
   "metadata": {},
   "outputs": [
    {
     "data": {
      "text/plain": [
       "63.223609534619754"
      ]
     },
     "execution_count": 20,
     "metadata": {},
     "output_type": "execute_result"
    }
   ],
   "source": [
    "from pyspark.sql.functions import countDistinct\n",
    "float(df.filter(df['High'] > 150).select(countDistinct(df['Date'])).collect()[0][0]) / df.select(countDistinct(df['Date'])).collect()[0][0] * 100"
   ]
  },
  {
   "cell_type": "code",
   "execution_count": 21,
   "metadata": {},
   "outputs": [
    {
     "data": {
      "text/plain": [
       "63.223609534619754"
      ]
     },
     "execution_count": 21,
     "metadata": {},
     "output_type": "execute_result"
    }
   ],
   "source": [
    "# another simple way to do it\n",
    "float(df.filter(df['High'] > 150).count()) / df.count() * 100"
   ]
  },
  {
   "cell_type": "markdown",
   "metadata": {},
   "source": [
    "#### Task 9\n",
    "\n",
    "What is the max High per year?\n",
    "\n",
    "Hint - Import `year` from pyspark.sql.functions to generate year column for each date and then call groupBy('Year') and finally find max value out of it."
   ]
  },
  {
   "cell_type": "code",
   "execution_count": 23,
   "metadata": {},
   "outputs": [
    {
     "name": "stdout",
     "output_type": "stream",
     "text": [
      "+-------------------+----------+----------+------------------+----------+---------+------------------+----+\n",
      "|               Date|      Open|      High|               Low|     Close|   Volume|         Adj Close|Year|\n",
      "+-------------------+----------+----------+------------------+----------+---------+------------------+----+\n",
      "|2010-01-04 00:00:00|213.429998|214.499996|212.38000099999996|214.009998|123432400|         27.727039|2010|\n",
      "|2010-01-05 00:00:00|214.599998|215.589994|        213.249994|214.379993|150476200|27.774976000000002|2010|\n",
      "|2010-01-06 00:00:00|214.379993|    215.23|        210.750004|210.969995|138040000|27.333178000000004|2010|\n",
      "+-------------------+----------+----------+------------------+----------+---------+------------------+----+\n",
      "only showing top 3 rows\n",
      "\n"
     ]
    }
   ],
   "source": [
    "from pyspark.sql.functions import year\n",
    "\n",
    "year_df = df.withColumn('Year', year(df['Date']))\n",
    "year_df.show(3)"
   ]
  },
  {
   "cell_type": "code",
   "execution_count": 24,
   "metadata": {},
   "outputs": [
    {
     "name": "stdout",
     "output_type": "stream",
     "text": [
      "+----+------------------+\n",
      "|Year|         max(High)|\n",
      "+----+------------------+\n",
      "|2015|134.53999299999998|\n",
      "|2013|        575.139999|\n",
      "|2014|        651.259979|\n",
      "|2012|        705.070023|\n",
      "|2016|        118.690002|\n",
      "|2010|            326.66|\n",
      "|2011|426.69999299999995|\n",
      "+----+------------------+\n",
      "\n"
     ]
    }
   ],
   "source": [
    "year_df.groupBy('Year').max().select(['Year', 'max(High)']).show()"
   ]
  },
  {
   "cell_type": "markdown",
   "metadata": {},
   "source": [
    "# 8. Power of MLlib:Apache Spark\n",
    "\n",
    "# 8.1 Why Machine Learning with Spark?\n",
    "\n",
    "- One of the major attractions of Spark is the ability to **scale computation massively**, and that is exactly what you need for machine learning algorithms. But the **limitation is that all machine learning algorithms cannot be effectively parallelized**. Each algorithm has its own challenges for parallelization, whether it is task parallelism or data parallelism.\n",
    "\n",
    "- Having said that, Spark is becoming the de-facto platform for building machine learning algorithms and applications. The developers working on the Spark MLlib are implementing more and more machine algorithms in a scalable and concise manner in the Spark framework.\n",
    "\n",
    "## Companies making Buisness out of SparkMLlib\n",
    "\n",
    "Many compelling business scenarios and technical solutions are being solved today with Spark MLlib, including [Huawei on Frequent Pattern Mining](https://databricks.com/blog/2015/06/09/huawei-embraces-open-source-apache-spark.html), [OpenTable’s Dining Recommendations](https://www.slideshare.net/SparkSummit/using-data-science-to-transform-opentable-into-delgado-das). Some additional examples:\n",
    "\n",
    "- [NBC Universal](https://databricks.com/session/use-of-spark-mllib-for-predicting-the-offlining-of-digital-media) stores hundreds of terabytes of media for international cable TV. To save on costs, it takes the media offline when it is unlikely to be used soon. The company uses Spark MLlib Support Vector Machines to predict which files will not be used.\n",
    "\n",
    "- [The Toyota Customer](https://databricks.com/session/data-driven-toyota-customer-360-insights-on-apache-spark-and-mllib) 360 Insights Platform and Social Media Intelligence Center is powered by Spark MLlib. Toyota uses MLlib to categorize and prioritize social media interactions in real-time.\n",
    "\n",
    "- [Radius Intelligence](https://pages.databricks.com/CaseStudy-Raidus.html) uses Spark MLlib to process billions of data points from customers and external data sources, including 25 million canonical businesses and hundreds of millions of business listings from various sources.\n",
    "\n",
    "- [ING](https://databricks.com/session/real-time-anomaly-detection-with-spark-ml-and-akka) uses Spark in its data analytics pipeline for anomaly detection. The company’s machine learning pipeline uses Spark decision tree ensembles and k-means clustering.\n",
    "\n",
    "### Spark is there in every industry!!\n",
    "\n",
    "<img src=\"images/spark_usecases.jpeg\">\n"
   ]
  },
  {
   "cell_type": "markdown",
   "metadata": {},
   "source": [
    "## Let's do some Predictive Analysis with Spark MLlib\n",
    "\n",
    "**What Predictive analysis demands?**\n",
    "- Predictive analytics answers a question, but to accurately answer that question, you must have reliable historical data.\n",
    "\n",
    "**Why is this important?**\n",
    "- Because computers learn from historical data to make their predictions. Think of it like this — thinking of how we learned things (i.e. how we learned colors, animal names), a similar learning process is done in machine learning. Someone taught us color names, identifying animal with names. Similarly, in machine learning, we have to provide accurate examples via historical data so that the **machine learning process learns from the historical data to train a classification model**.\n",
    "\n",
    "\n",
    "\n",
    "<img src = \"images/ml.jpg\">"
   ]
  },
  {
   "cell_type": "markdown",
   "metadata": {},
   "source": [
    "## Introduction to the problem\n",
    "\n",
    "We will be solving a classification problem. Using Bank Marketing dataset, the classification goal is to predict whether the client will subscribe (Yes/No) to a term deposit depending on other client related details.\n",
    "\n",
    "## Introduction to the Dataset\n",
    "\n",
    "The data is related with direct marketing campaigns of a Portuguese banking institution. The marketing campaigns were based on phone calls. Often, more than one contact to the same client was required, in order to access if the product (bank term deposit) would be ('yes') or not ('no') subscribed. \n",
    "Attribute Information:\n",
    "\n",
    "**Input variables: Bank client data**\n",
    "\n",
    "1 - **age** (numeric)\n",
    "\n",
    "2 - **job** : type of job (categorical: 'admin.','blue-collar','entrepreneur','housemaid','management','retired','self-employed','services','student','technician','unemployed','unknown')\n",
    "\n",
    "3 - **marital** : marital status (categorical: 'divorced','married','single','unknown'; note: 'divorced' means divorced or widowed)\n",
    "\n",
    "4 - **education** (categorical: 'basic.4y','basic.6y','basic.9y','high.school','illiterate','professional.course','university.degree','unknown')\n",
    "\n",
    "5 - **default**: has credit in default? (categorical: 'no','yes','unknown')\n",
    "\n",
    "6 - **housing**: has housing loan? (categorical: 'no','yes','unknown')\n",
    "\n",
    "7 - **loan**: has personal loan? (categorical: 'no','yes','unknown')\n",
    "\n",
    "**related with the last contact of the current campaign:**\n",
    "\n",
    "8 - **contact**: contact communication type (categorical: 'cellular','telephone') \n",
    "\n",
    "9 - **month**: last contact month of year (categorical: 'jan', 'feb', 'mar', ..., 'nov', 'dec')\n",
    "\n",
    "10 - **day_of_week**: last contact day of the week (categorical: 'mon','tue','wed','thu','fri')\n",
    "\n",
    "11 - **duration**: last contact duration, in seconds (numeric). Important note: this attribute highly affects the \n",
    "output target (e.g., if duration=0 then y='no'). Yet, the duration is not known before a call is performed. Also, after the end of the call y is obviously known. Thus, this input should only be included for benchmark purposes and should be discarded if the intention is to have a realistic predictive model.\n",
    "\n",
    "**other attributes:**\n",
    "\n",
    "12 - **campaign**: number of contacts performed during this campaign and for this client (numeric, includes last contact)\n",
    "\n",
    "13 - **pdays**: number of days that passed by after the client was last contacted from a previous campaign (numeric; 999 means client was not previously contacted)\n",
    "\n",
    "14 - **previous**: number of contacts performed before this campaign and for this client (numeric)\n",
    "\n",
    "15 - **poutcome**: outcome of the previous marketing campaign (categorical: 'failure','nonexistent','success')\n",
    "\n",
    "**Output variable: deposit**"
   ]
  },
  {
   "cell_type": "code",
   "execution_count": 28,
   "metadata": {},
   "outputs": [
    {
     "name": "stdout",
     "output_type": "stream",
     "text": [
      "root\n",
      " |-- age: integer (nullable = true)\n",
      " |-- job: string (nullable = true)\n",
      " |-- marital: string (nullable = true)\n",
      " |-- education: string (nullable = true)\n",
      " |-- default: string (nullable = true)\n",
      " |-- balance: integer (nullable = true)\n",
      " |-- housing: string (nullable = true)\n",
      " |-- loan: string (nullable = true)\n",
      " |-- contact: string (nullable = true)\n",
      " |-- day: integer (nullable = true)\n",
      " |-- month: string (nullable = true)\n",
      " |-- duration: integer (nullable = true)\n",
      " |-- campaign: integer (nullable = true)\n",
      " |-- pdays: integer (nullable = true)\n",
      " |-- previous: integer (nullable = true)\n",
      " |-- poutcome: string (nullable = true)\n",
      " |-- deposit: string (nullable = true)\n",
      "\n"
     ]
    }
   ],
   "source": [
    "from pyspark.sql import SparkSession\n",
    "spark = SparkSession.builder.appName('ml-bank').getOrCreate()\n",
    "df = spark.read.csv('data/bank.csv', header = True, inferSchema = True)\n",
    "df.printSchema()"
   ]
  },
  {
   "cell_type": "code",
   "execution_count": 29,
   "metadata": {},
   "outputs": [
    {
     "name": "stdout",
     "output_type": "stream",
     "text": [
      "+---+----------+-------+---------+-------+-------+-------+----+-------+---+-----+--------+--------+-----+--------+--------+-------+\n",
      "|age|       job|marital|education|default|balance|housing|loan|contact|day|month|duration|campaign|pdays|previous|poutcome|deposit|\n",
      "+---+----------+-------+---------+-------+-------+-------+----+-------+---+-----+--------+--------+-----+--------+--------+-------+\n",
      "| 59|    admin.|married|secondary|     no|   2343|    yes|  no|unknown|  5|  may|    1042|       1|   -1|       0| unknown|    yes|\n",
      "| 56|    admin.|married|secondary|     no|     45|     no|  no|unknown|  5|  may|    1467|       1|   -1|       0| unknown|    yes|\n",
      "| 41|technician|married|secondary|     no|   1270|    yes|  no|unknown|  5|  may|    1389|       1|   -1|       0| unknown|    yes|\n",
      "| 55|  services|married|secondary|     no|   2476|    yes|  no|unknown|  5|  may|     579|       1|   -1|       0| unknown|    yes|\n",
      "| 54|    admin.|married| tertiary|     no|    184|     no|  no|unknown|  5|  may|     673|       2|   -1|       0| unknown|    yes|\n",
      "+---+----------+-------+---------+-------+-------+-------+----+-------+---+-----+--------+--------+-----+--------+--------+-------+\n",
      "only showing top 5 rows\n",
      "\n"
     ]
    }
   ],
   "source": [
    "df.show(5)"
   ]
  },
  {
   "cell_type": "markdown",
   "metadata": {},
   "source": [
    "### Want to see in a nice formatted table?\n",
    "Try it out with pandas!"
   ]
  },
  {
   "cell_type": "code",
   "execution_count": 31,
   "metadata": {},
   "outputs": [
    {
     "data": {
      "text/html": [
       "<div>\n",
       "<style scoped>\n",
       "    .dataframe tbody tr th:only-of-type {\n",
       "        vertical-align: middle;\n",
       "    }\n",
       "\n",
       "    .dataframe tbody tr th {\n",
       "        vertical-align: top;\n",
       "    }\n",
       "\n",
       "    .dataframe thead th {\n",
       "        text-align: right;\n",
       "    }\n",
       "</style>\n",
       "<table border=\"1\" class=\"dataframe\">\n",
       "  <thead>\n",
       "    <tr style=\"text-align: right;\">\n",
       "      <th></th>\n",
       "      <th>age</th>\n",
       "      <th>job</th>\n",
       "      <th>marital</th>\n",
       "      <th>education</th>\n",
       "      <th>default</th>\n",
       "      <th>balance</th>\n",
       "      <th>housing</th>\n",
       "      <th>loan</th>\n",
       "      <th>contact</th>\n",
       "      <th>day</th>\n",
       "      <th>month</th>\n",
       "      <th>duration</th>\n",
       "      <th>campaign</th>\n",
       "      <th>pdays</th>\n",
       "      <th>previous</th>\n",
       "      <th>poutcome</th>\n",
       "      <th>deposit</th>\n",
       "    </tr>\n",
       "  </thead>\n",
       "  <tbody>\n",
       "    <tr>\n",
       "      <th>0</th>\n",
       "      <td>59</td>\n",
       "      <td>admin.</td>\n",
       "      <td>married</td>\n",
       "      <td>secondary</td>\n",
       "      <td>no</td>\n",
       "      <td>2343</td>\n",
       "      <td>yes</td>\n",
       "      <td>no</td>\n",
       "      <td>unknown</td>\n",
       "      <td>5</td>\n",
       "      <td>may</td>\n",
       "      <td>1042</td>\n",
       "      <td>1</td>\n",
       "      <td>-1</td>\n",
       "      <td>0</td>\n",
       "      <td>unknown</td>\n",
       "      <td>yes</td>\n",
       "    </tr>\n",
       "    <tr>\n",
       "      <th>1</th>\n",
       "      <td>56</td>\n",
       "      <td>admin.</td>\n",
       "      <td>married</td>\n",
       "      <td>secondary</td>\n",
       "      <td>no</td>\n",
       "      <td>45</td>\n",
       "      <td>no</td>\n",
       "      <td>no</td>\n",
       "      <td>unknown</td>\n",
       "      <td>5</td>\n",
       "      <td>may</td>\n",
       "      <td>1467</td>\n",
       "      <td>1</td>\n",
       "      <td>-1</td>\n",
       "      <td>0</td>\n",
       "      <td>unknown</td>\n",
       "      <td>yes</td>\n",
       "    </tr>\n",
       "    <tr>\n",
       "      <th>2</th>\n",
       "      <td>41</td>\n",
       "      <td>technician</td>\n",
       "      <td>married</td>\n",
       "      <td>secondary</td>\n",
       "      <td>no</td>\n",
       "      <td>1270</td>\n",
       "      <td>yes</td>\n",
       "      <td>no</td>\n",
       "      <td>unknown</td>\n",
       "      <td>5</td>\n",
       "      <td>may</td>\n",
       "      <td>1389</td>\n",
       "      <td>1</td>\n",
       "      <td>-1</td>\n",
       "      <td>0</td>\n",
       "      <td>unknown</td>\n",
       "      <td>yes</td>\n",
       "    </tr>\n",
       "    <tr>\n",
       "      <th>3</th>\n",
       "      <td>55</td>\n",
       "      <td>services</td>\n",
       "      <td>married</td>\n",
       "      <td>secondary</td>\n",
       "      <td>no</td>\n",
       "      <td>2476</td>\n",
       "      <td>yes</td>\n",
       "      <td>no</td>\n",
       "      <td>unknown</td>\n",
       "      <td>5</td>\n",
       "      <td>may</td>\n",
       "      <td>579</td>\n",
       "      <td>1</td>\n",
       "      <td>-1</td>\n",
       "      <td>0</td>\n",
       "      <td>unknown</td>\n",
       "      <td>yes</td>\n",
       "    </tr>\n",
       "    <tr>\n",
       "      <th>4</th>\n",
       "      <td>54</td>\n",
       "      <td>admin.</td>\n",
       "      <td>married</td>\n",
       "      <td>tertiary</td>\n",
       "      <td>no</td>\n",
       "      <td>184</td>\n",
       "      <td>no</td>\n",
       "      <td>no</td>\n",
       "      <td>unknown</td>\n",
       "      <td>5</td>\n",
       "      <td>may</td>\n",
       "      <td>673</td>\n",
       "      <td>2</td>\n",
       "      <td>-1</td>\n",
       "      <td>0</td>\n",
       "      <td>unknown</td>\n",
       "      <td>yes</td>\n",
       "    </tr>\n",
       "  </tbody>\n",
       "</table>\n",
       "</div>"
      ],
      "text/plain": [
       "   age         job  marital  education default  balance housing loan  contact  \\\n",
       "0   59      admin.  married  secondary      no     2343     yes   no  unknown   \n",
       "1   56      admin.  married  secondary      no       45      no   no  unknown   \n",
       "2   41  technician  married  secondary      no     1270     yes   no  unknown   \n",
       "3   55    services  married  secondary      no     2476     yes   no  unknown   \n",
       "4   54      admin.  married   tertiary      no      184      no   no  unknown   \n",
       "\n",
       "   day month  duration  campaign  pdays  previous poutcome deposit  \n",
       "0    5   may      1042         1     -1         0  unknown     yes  \n",
       "1    5   may      1467         1     -1         0  unknown     yes  \n",
       "2    5   may      1389         1     -1         0  unknown     yes  \n",
       "3    5   may       579         1     -1         0  unknown     yes  \n",
       "4    5   may       673         2     -1         0  unknown     yes  "
      ]
     },
     "execution_count": 31,
     "metadata": {},
     "output_type": "execute_result"
    }
   ],
   "source": [
    "import pandas as pd\n",
    "pd.DataFrame(df.take(5), columns=df.columns)"
   ]
  },
  {
   "cell_type": "markdown",
   "metadata": {},
   "source": [
    "Let's check if our data is evenly distributed into these two categories i.e. `yes` and `no`\n",
    "\n",
    "**Count total clients subscribed with the deposit. In other words  calculate number of client with deposit value as `yes`**"
   ]
  },
  {
   "cell_type": "code",
   "execution_count": 32,
   "metadata": {},
   "outputs": [
    {
     "data": {
      "text/plain": [
       "5289"
      ]
     },
     "execution_count": 32,
     "metadata": {},
     "output_type": "execute_result"
    }
   ],
   "source": [
    "# Hint: Use filter on deposit column\n",
    "df.filter(df['deposit']=='yes').count()"
   ]
  },
  {
   "cell_type": "markdown",
   "metadata": {},
   "source": [
    "**Similarly calculate total number of clients who did not subscribed to deposit.**"
   ]
  },
  {
   "cell_type": "code",
   "execution_count": 34,
   "metadata": {},
   "outputs": [
    {
     "data": {
      "text/plain": [
       "5873"
      ]
     },
     "execution_count": 34,
     "metadata": {},
     "output_type": "execute_result"
    }
   ],
   "source": [
    "df.filter(df['deposit']=='no').count()"
   ]
  },
  {
   "cell_type": "markdown",
   "metadata": {},
   "source": [
    "So, with the counts you can see our data is quite evenly distributed which means the classes are balanced :)\n",
    "\n",
    "Let's start building model with this."
   ]
  },
  {
   "cell_type": "markdown",
   "metadata": {},
   "source": [
    "### Statistics of the dataset"
   ]
  },
  {
   "cell_type": "code",
   "execution_count": 35,
   "metadata": {},
   "outputs": [
    {
     "name": "stdout",
     "output_type": "stream",
     "text": [
      "+-------+------------------+-------+--------+---------+-------+------------------+-------+-----+--------+------------------+-----+------------------+------------------+------------------+------------------+--------+-------+\n",
      "|summary|               age|    job| marital|education|default|           balance|housing| loan| contact|               day|month|          duration|          campaign|             pdays|          previous|poutcome|deposit|\n",
      "+-------+------------------+-------+--------+---------+-------+------------------+-------+-----+--------+------------------+-----+------------------+------------------+------------------+------------------+--------+-------+\n",
      "|  count|             11162|  11162|   11162|    11162|  11162|             11162|  11162|11162|   11162|             11162|11162|             11162|             11162|             11162|             11162|   11162|  11162|\n",
      "|   mean|41.231947679627304|   null|    null|     null|   null|1528.5385235620856|   null| null|    null|15.658036194230425| null|371.99381831213043| 2.508421429851281| 51.33040673714388|0.8325568894463358|    null|   null|\n",
      "| stddev|11.913369192215518|   null|    null|     null|   null| 3225.413325946149|   null| null|    null| 8.420739541006462| null|347.12838571630687|2.7220771816614824|108.75828197197717| 2.292007218670508|    null|   null|\n",
      "|    min|                18| admin.|divorced|  primary|     no|             -6847|     no|   no|cellular|                 1|  apr|                 2|                 1|                -1|                 0| failure|     no|\n",
      "|    max|                95|unknown|  single|  unknown|    yes|             81204|    yes|  yes| unknown|                31|  sep|              3881|                63|               854|                58| unknown|    yes|\n",
      "+-------+------------------+-------+--------+---------+-------+------------------+-------+-----+--------+------------------+-----+------------------+------------------+------------------+------------------+--------+-------+\n",
      "\n"
     ]
    }
   ],
   "source": [
    "df.describe().show()"
   ]
  },
  {
   "cell_type": "markdown",
   "metadata": {},
   "source": [
    "With some observations done, Day and month columns are not really important in this classification problem. So, we will remove there two columns and create a new dataframe.\n",
    "\n"
   ]
  },
  {
   "cell_type": "code",
   "execution_count": 37,
   "metadata": {},
   "outputs": [],
   "source": [
    "df = df.select('age', 'job', 'marital', 'education', 'default', 'balance', 'housing', 'loan', 'contact', 'duration', 'campaign', 'pdays', 'previous', 'poutcome', 'deposit')\n",
    "cols = df.columns"
   ]
  },
  {
   "cell_type": "markdown",
   "metadata": {},
   "source": [
    "## Standard Workflow\n",
    "\n",
    "A typical standard machine learning workflow is as follows:\n",
    "\n",
    "1. Loading data (aka data ingestion)\n",
    "\n",
    "2. Extracting features (aka feature extraction)\n",
    "\n",
    "3. Training model (aka model training)\n",
    "\n",
    "4. Evaluate (or predictionize)"
   ]
  },
  {
   "cell_type": "markdown",
   "metadata": {},
   "source": [
    "## Preparing Data for Machine Learning\n",
    "\n",
    "The process includes Category Indexing, One-Hot Encoding and VectorAssembler — a feature transformer that merges multiple columns into a vector column."
   ]
  },
  {
   "cell_type": "markdown",
   "metadata": {},
   "source": [
    "**We will use OneHotEncoderEstimator, StringIndexer, VectorAssembler**\n",
    "\n",
    "**Need help?**\n",
    "\n",
    "**1. StringIndexer:** StringIndexer encodes a string column of labels to a column of label indices. The indices are in [0, numLabels], ordered by label frequencies, so the most frequent label gets index 0. If the input column is numeric, we cast it to string and index the string values. you must set the input column of the component to this string-indexed column name. In many cases, you can set the input column with setInputCol. \n",
    "\n",
    "**2. OneHotEncoder:** One-hot Encoding: One-hot encoding maps a column of label indices to a column of binary vectors, with at most a single one-value. This encoding allows algorithms which expect continuous features, such as Logistic Regression, to use categorical features. For example with 5 categories, an input value of 2.0 would map to an output vector of [0.0, 0.0, 1.0, 0.0]. The last category is not included by default because it makes the vector entries sum up to one so an input value of 4.0 maps to [0.0, 0.0, 0.0, 0.0].\n",
    "\n",
    "**3. VectorAssembler:** VectorAssembler is a transformer that combines a given list of columns into a single vector column. It is useful for combining raw features and features generated by different feature transformers into a single feature vector, in order to train ML models like logistic regression and decision trees.\n"
   ]
  },
  {
   "cell_type": "code",
   "execution_count": 38,
   "metadata": {},
   "outputs": [
    {
     "name": "stdout",
     "output_type": "stream",
     "text": [
      "+---+------+-----------+\n",
      "| id|gender|genderIndex|\n",
      "+---+------+-----------+\n",
      "|  0|     M|        0.0|\n",
      "|  1|     F|        1.0|\n",
      "|  2|     F|        1.0|\n",
      "|  3|     M|        0.0|\n",
      "|  4|     M|        0.0|\n",
      "|  5|     M|        0.0|\n",
      "+---+------+-----------+\n",
      "\n",
      "+---+-------------+\n",
      "| id|    genderVec|\n",
      "+---+-------------+\n",
      "|  0|(2,[0],[1.0])|\n",
      "|  1|(2,[1],[1.0])|\n",
      "|  2|(2,[1],[1.0])|\n",
      "|  3|(2,[0],[1.0])|\n",
      "|  4|(2,[0],[1.0])|\n",
      "|  5|(2,[0],[1.0])|\n",
      "+---+-------------+\n",
      "\n"
     ]
    }
   ],
   "source": [
    "#StringIndexer Example\n",
    "\n",
    "from pyspark.ml.feature import StringIndexer\n",
    "\n",
    "df1 = spark.createDataFrame([(0, \"M\"), (1, \"F\"), (2, \"F\"), (3, \"M\"), (4, \"M\"), (5, \"M\")],[\"id\", \"gender\"])\n",
    "\n",
    "indexer = StringIndexer(inputCol=\"gender\", outputCol=\"genderIndex\")\n",
    "\n",
    "indexed = indexer.fit(df1).transform(df1)\n",
    "\n",
    "indexed.show()\n",
    "\n",
    "#OneHotEncoderEstimator\n",
    "\n",
    "from pyspark.ml.feature import OneHotEncoder, StringIndexer\n",
    "\n",
    "df1 = spark.createDataFrame([(0, \"M\"), (1, \"F\"), (2, \"F\"), (3, \"M\"), (4, \"M\"), (5, \"M\")],[\"id\", \"gender\"])\n",
    "\n",
    "stringIndexer = StringIndexer(inputCol=\"gender\", outputCol=\"genderIndex\")\n",
    "\n",
    "model = stringIndexer.fit(df1)\n",
    "\n",
    "indexed = model.transform(df1)\n",
    "\n",
    "encoder = OneHotEncoder(dropLast=False, inputCol=\"genderIndex\", outputCol=\"genderVec\")\n",
    "\n",
    "encoded = encoder.transform(indexed)\n",
    "\n",
    "encoded.select(\"id\", \"genderVec\").show()\n",
    "\n"
   ]
  },
  {
   "cell_type": "code",
   "execution_count": 39,
   "metadata": {},
   "outputs": [],
   "source": [
    "from pyspark.ml.feature import OneHotEncoderEstimator, StringIndexer, VectorAssembler\n",
    "categoricalColumns = ['job', 'marital', 'education', 'default', 'housing', 'loan', 'contact', 'poutcome']\n",
    "stages = []\n",
    "for categoricalCol in categoricalColumns:\n",
    "    stringIndexer = StringIndexer(inputCol = categoricalCol, outputCol = categoricalCol + 'Index')\n",
    "    encoder = OneHotEncoderEstimator(inputCols=[stringIndexer.getOutputCol()], outputCols=[categoricalCol + \"classVec\"])\n",
    "    stages += [stringIndexer, encoder]\n",
    "label_stringIdx = StringIndexer(inputCol = 'deposit', outputCol = 'label')\n",
    "stages += [label_stringIdx]\n",
    "numericCols = ['age', 'balance', 'duration', 'campaign', 'pdays', 'previous']\n",
    "assemblerInputs = [c + \"classVec\" for c in categoricalColumns] + numericCols\n",
    "assembler = VectorAssembler(inputCols=assemblerInputs, outputCol=\"features\")\n",
    "stages += [assembler]"
   ]
  },
  {
   "cell_type": "markdown",
   "metadata": {},
   "source": [
    "**Let's look in detail what's happening**\n",
    "\n",
    "- It indexes each categorical column using the StringIndexer, then converts the indexed categories into one-hot encoded variables. \n",
    "\n",
    "- The resulting output has the binary vectors appended to the end of each row. We use the StringIndexer again to encode our labels to label indices.\n",
    "\n",
    "- Next, we use the VectorAssembler to combine all the feature columns into a single vector column.\n"
   ]
  },
  {
   "cell_type": "markdown",
   "metadata": {},
   "source": [
    "Want more help in understanding `OneHotEncoderEstimator`?\n",
    "\n",
    "**Excellent explanation given in below link:**\n",
    "\n",
    "-> **[OneHotEncoderEstimator](https://stackoverflow.com/questions/42295001/how-to-interpret-results-of-spark-onehotencoder)**\n"
   ]
  },
  {
   "cell_type": "markdown",
   "metadata": {},
   "source": [
    "## Introduction to ML Pipelines\n",
    "\n",
    "ML Pipeline API lets Spark users quickly and easily assemble and configure practical distributed Machine Learning pipelines by standardizing the APIs for different Machine Learning concepts. A ML pipeline (or a ML workflow) is a sequence of Transformers and Estimators to fit a PipelineModel to an input dataset.\n",
    "\n",
    "\n",
    "<img src = \"images/pipeline.png\">\n",
    "\n",
    "### Features of Pipeline API\n",
    "The features of the Pipeline API in Spark MLlib:\n",
    "- DataFrame as a dataset format\n",
    "- ML Pipelines API is similar to scikit-learn\n",
    "- Easy debugging (via inspecting columns added during execution)\n",
    "- Parameter tuning\n",
    "- Compositions (to build more complex pipelines out of existing ones)"
   ]
  },
  {
   "cell_type": "code",
   "execution_count": 40,
   "metadata": {},
   "outputs": [
    {
     "name": "stdout",
     "output_type": "stream",
     "text": [
      "root\n",
      " |-- label: double (nullable = false)\n",
      " |-- features: vector (nullable = true)\n",
      " |-- age: integer (nullable = true)\n",
      " |-- job: string (nullable = true)\n",
      " |-- marital: string (nullable = true)\n",
      " |-- education: string (nullable = true)\n",
      " |-- default: string (nullable = true)\n",
      " |-- balance: integer (nullable = true)\n",
      " |-- housing: string (nullable = true)\n",
      " |-- loan: string (nullable = true)\n",
      " |-- contact: string (nullable = true)\n",
      " |-- duration: integer (nullable = true)\n",
      " |-- campaign: integer (nullable = true)\n",
      " |-- pdays: integer (nullable = true)\n",
      " |-- previous: integer (nullable = true)\n",
      " |-- poutcome: string (nullable = true)\n",
      " |-- deposit: string (nullable = true)\n",
      "\n"
     ]
    }
   ],
   "source": [
    "from pyspark.ml import Pipeline\n",
    "pipeline = Pipeline(stages = stages)\n",
    "pipelineModel = pipeline.fit(df)\n",
    "df = pipelineModel.transform(df)\n",
    "selectedCols = ['label', 'features'] + cols\n",
    "df = df.select(selectedCols)\n",
    "df.printSchema()"
   ]
  },
  {
   "cell_type": "code",
   "execution_count": 41,
   "metadata": {},
   "outputs": [
    {
     "data": {
      "text/html": [
       "<div>\n",
       "<style scoped>\n",
       "    .dataframe tbody tr th:only-of-type {\n",
       "        vertical-align: middle;\n",
       "    }\n",
       "\n",
       "    .dataframe tbody tr th {\n",
       "        vertical-align: top;\n",
       "    }\n",
       "\n",
       "    .dataframe thead th {\n",
       "        text-align: right;\n",
       "    }\n",
       "</style>\n",
       "<table border=\"1\" class=\"dataframe\">\n",
       "  <thead>\n",
       "    <tr style=\"text-align: right;\">\n",
       "      <th></th>\n",
       "      <th>0</th>\n",
       "      <th>1</th>\n",
       "      <th>2</th>\n",
       "      <th>3</th>\n",
       "      <th>4</th>\n",
       "    </tr>\n",
       "  </thead>\n",
       "  <tbody>\n",
       "    <tr>\n",
       "      <th>label</th>\n",
       "      <td>1</td>\n",
       "      <td>1</td>\n",
       "      <td>1</td>\n",
       "      <td>1</td>\n",
       "      <td>1</td>\n",
       "    </tr>\n",
       "    <tr>\n",
       "      <th>features</th>\n",
       "      <td>(0.0, 0.0, 0.0, 1.0, 0.0, 0.0, 0.0, 0.0, 0.0, ...</td>\n",
       "      <td>(0.0, 0.0, 0.0, 1.0, 0.0, 0.0, 0.0, 0.0, 0.0, ...</td>\n",
       "      <td>(0.0, 0.0, 1.0, 0.0, 0.0, 0.0, 0.0, 0.0, 0.0, ...</td>\n",
       "      <td>(0.0, 0.0, 0.0, 0.0, 1.0, 0.0, 0.0, 0.0, 0.0, ...</td>\n",
       "      <td>(0.0, 0.0, 0.0, 1.0, 0.0, 0.0, 0.0, 0.0, 0.0, ...</td>\n",
       "    </tr>\n",
       "    <tr>\n",
       "      <th>age</th>\n",
       "      <td>59</td>\n",
       "      <td>56</td>\n",
       "      <td>41</td>\n",
       "      <td>55</td>\n",
       "      <td>54</td>\n",
       "    </tr>\n",
       "    <tr>\n",
       "      <th>job</th>\n",
       "      <td>admin.</td>\n",
       "      <td>admin.</td>\n",
       "      <td>technician</td>\n",
       "      <td>services</td>\n",
       "      <td>admin.</td>\n",
       "    </tr>\n",
       "    <tr>\n",
       "      <th>marital</th>\n",
       "      <td>married</td>\n",
       "      <td>married</td>\n",
       "      <td>married</td>\n",
       "      <td>married</td>\n",
       "      <td>married</td>\n",
       "    </tr>\n",
       "    <tr>\n",
       "      <th>education</th>\n",
       "      <td>secondary</td>\n",
       "      <td>secondary</td>\n",
       "      <td>secondary</td>\n",
       "      <td>secondary</td>\n",
       "      <td>tertiary</td>\n",
       "    </tr>\n",
       "    <tr>\n",
       "      <th>default</th>\n",
       "      <td>no</td>\n",
       "      <td>no</td>\n",
       "      <td>no</td>\n",
       "      <td>no</td>\n",
       "      <td>no</td>\n",
       "    </tr>\n",
       "    <tr>\n",
       "      <th>balance</th>\n",
       "      <td>2343</td>\n",
       "      <td>45</td>\n",
       "      <td>1270</td>\n",
       "      <td>2476</td>\n",
       "      <td>184</td>\n",
       "    </tr>\n",
       "    <tr>\n",
       "      <th>housing</th>\n",
       "      <td>yes</td>\n",
       "      <td>no</td>\n",
       "      <td>yes</td>\n",
       "      <td>yes</td>\n",
       "      <td>no</td>\n",
       "    </tr>\n",
       "    <tr>\n",
       "      <th>loan</th>\n",
       "      <td>no</td>\n",
       "      <td>no</td>\n",
       "      <td>no</td>\n",
       "      <td>no</td>\n",
       "      <td>no</td>\n",
       "    </tr>\n",
       "    <tr>\n",
       "      <th>contact</th>\n",
       "      <td>unknown</td>\n",
       "      <td>unknown</td>\n",
       "      <td>unknown</td>\n",
       "      <td>unknown</td>\n",
       "      <td>unknown</td>\n",
       "    </tr>\n",
       "    <tr>\n",
       "      <th>duration</th>\n",
       "      <td>1042</td>\n",
       "      <td>1467</td>\n",
       "      <td>1389</td>\n",
       "      <td>579</td>\n",
       "      <td>673</td>\n",
       "    </tr>\n",
       "    <tr>\n",
       "      <th>campaign</th>\n",
       "      <td>1</td>\n",
       "      <td>1</td>\n",
       "      <td>1</td>\n",
       "      <td>1</td>\n",
       "      <td>2</td>\n",
       "    </tr>\n",
       "    <tr>\n",
       "      <th>pdays</th>\n",
       "      <td>-1</td>\n",
       "      <td>-1</td>\n",
       "      <td>-1</td>\n",
       "      <td>-1</td>\n",
       "      <td>-1</td>\n",
       "    </tr>\n",
       "    <tr>\n",
       "      <th>previous</th>\n",
       "      <td>0</td>\n",
       "      <td>0</td>\n",
       "      <td>0</td>\n",
       "      <td>0</td>\n",
       "      <td>0</td>\n",
       "    </tr>\n",
       "    <tr>\n",
       "      <th>poutcome</th>\n",
       "      <td>unknown</td>\n",
       "      <td>unknown</td>\n",
       "      <td>unknown</td>\n",
       "      <td>unknown</td>\n",
       "      <td>unknown</td>\n",
       "    </tr>\n",
       "    <tr>\n",
       "      <th>deposit</th>\n",
       "      <td>yes</td>\n",
       "      <td>yes</td>\n",
       "      <td>yes</td>\n",
       "      <td>yes</td>\n",
       "      <td>yes</td>\n",
       "    </tr>\n",
       "  </tbody>\n",
       "</table>\n",
       "</div>"
      ],
      "text/plain": [
       "                                                           0  \\\n",
       "label                                                      1   \n",
       "features   (0.0, 0.0, 0.0, 1.0, 0.0, 0.0, 0.0, 0.0, 0.0, ...   \n",
       "age                                                       59   \n",
       "job                                                   admin.   \n",
       "marital                                              married   \n",
       "education                                          secondary   \n",
       "default                                                   no   \n",
       "balance                                                 2343   \n",
       "housing                                                  yes   \n",
       "loan                                                      no   \n",
       "contact                                              unknown   \n",
       "duration                                                1042   \n",
       "campaign                                                   1   \n",
       "pdays                                                     -1   \n",
       "previous                                                   0   \n",
       "poutcome                                             unknown   \n",
       "deposit                                                  yes   \n",
       "\n",
       "                                                           1  \\\n",
       "label                                                      1   \n",
       "features   (0.0, 0.0, 0.0, 1.0, 0.0, 0.0, 0.0, 0.0, 0.0, ...   \n",
       "age                                                       56   \n",
       "job                                                   admin.   \n",
       "marital                                              married   \n",
       "education                                          secondary   \n",
       "default                                                   no   \n",
       "balance                                                   45   \n",
       "housing                                                   no   \n",
       "loan                                                      no   \n",
       "contact                                              unknown   \n",
       "duration                                                1467   \n",
       "campaign                                                   1   \n",
       "pdays                                                     -1   \n",
       "previous                                                   0   \n",
       "poutcome                                             unknown   \n",
       "deposit                                                  yes   \n",
       "\n",
       "                                                           2  \\\n",
       "label                                                      1   \n",
       "features   (0.0, 0.0, 1.0, 0.0, 0.0, 0.0, 0.0, 0.0, 0.0, ...   \n",
       "age                                                       41   \n",
       "job                                               technician   \n",
       "marital                                              married   \n",
       "education                                          secondary   \n",
       "default                                                   no   \n",
       "balance                                                 1270   \n",
       "housing                                                  yes   \n",
       "loan                                                      no   \n",
       "contact                                              unknown   \n",
       "duration                                                1389   \n",
       "campaign                                                   1   \n",
       "pdays                                                     -1   \n",
       "previous                                                   0   \n",
       "poutcome                                             unknown   \n",
       "deposit                                                  yes   \n",
       "\n",
       "                                                           3  \\\n",
       "label                                                      1   \n",
       "features   (0.0, 0.0, 0.0, 0.0, 1.0, 0.0, 0.0, 0.0, 0.0, ...   \n",
       "age                                                       55   \n",
       "job                                                 services   \n",
       "marital                                              married   \n",
       "education                                          secondary   \n",
       "default                                                   no   \n",
       "balance                                                 2476   \n",
       "housing                                                  yes   \n",
       "loan                                                      no   \n",
       "contact                                              unknown   \n",
       "duration                                                 579   \n",
       "campaign                                                   1   \n",
       "pdays                                                     -1   \n",
       "previous                                                   0   \n",
       "poutcome                                             unknown   \n",
       "deposit                                                  yes   \n",
       "\n",
       "                                                           4  \n",
       "label                                                      1  \n",
       "features   (0.0, 0.0, 0.0, 1.0, 0.0, 0.0, 0.0, 0.0, 0.0, ...  \n",
       "age                                                       54  \n",
       "job                                                   admin.  \n",
       "marital                                              married  \n",
       "education                                           tertiary  \n",
       "default                                                   no  \n",
       "balance                                                  184  \n",
       "housing                                                   no  \n",
       "loan                                                      no  \n",
       "contact                                              unknown  \n",
       "duration                                                 673  \n",
       "campaign                                                   2  \n",
       "pdays                                                     -1  \n",
       "previous                                                   0  \n",
       "poutcome                                             unknown  \n",
       "deposit                                                  yes  "
      ]
     },
     "execution_count": 41,
     "metadata": {},
     "output_type": "execute_result"
    }
   ],
   "source": [
    "pd.DataFrame(df.take(5), columns=df.columns).transpose()"
   ]
  },
  {
   "cell_type": "markdown",
   "metadata": {},
   "source": [
    "As you can see, we now have features column and label column.\n",
    "\n",
    "**Let's randomly split data into train and test sets, and set seed for reproducibility.**"
   ]
  },
  {
   "cell_type": "code",
   "execution_count": 43,
   "metadata": {},
   "outputs": [
    {
     "name": "stdout",
     "output_type": "stream",
     "text": [
      "Training Dataset Count: 7764\n",
      "Test Dataset Count: 3398\n"
     ]
    }
   ],
   "source": [
    "train, test = df.randomSplit([0.7, 0.3], seed = 2018)\n",
    "print(\"Training Dataset Count: \" + str(train.count()))\n",
    "print(\"Test Dataset Count: \" + str(test.count()))"
   ]
  },
  {
   "cell_type": "markdown",
   "metadata": {},
   "source": [
    "## Logistic Regression Model"
   ]
  },
  {
   "cell_type": "code",
   "execution_count": 44,
   "metadata": {},
   "outputs": [],
   "source": [
    "from pyspark.ml.classification import LogisticRegression\n",
    "lr = LogisticRegression(featuresCol = 'features', labelCol = 'label', maxIter=10)\n",
    "lrModel = lr.fit(train)"
   ]
  },
  {
   "cell_type": "markdown",
   "metadata": {},
   "source": [
    "Summarize the model over the training set, we can also obtain the receiver-operating characteristic and areaUnderROC."
   ]
  },
  {
   "cell_type": "code",
   "execution_count": 47,
   "metadata": {},
   "outputs": [
    {
     "data": {
      "image/png": "[encoded data removed]",
      "text/plain": [
       "<Figure size 432x288 with 1 Axes>"
      ]
     },
     "metadata": {},
     "output_type": "display_data"
    },
    {
     "name": "stdout",
     "output_type": "stream",
     "text": [
      "Training set areaUnderROC: 0.884909242115\n"
     ]
    }
   ],
   "source": [
    "import matplotlib.pyplot as plt\n",
    "trainingSummary = lrModel.summary\n",
    "roc = trainingSummary.roc.toPandas()\n",
    "plt.plot(roc['FPR'],roc['TPR'])\n",
    "plt.ylabel('False Positive Rate')\n",
    "plt.xlabel('True Positive Rate')\n",
    "plt.title('ROC Curve')\n",
    "plt.show()\n",
    "print('Training set areaUnderROC: ' + str(trainingSummary.areaUnderROC))"
   ]
  },
  {
   "cell_type": "markdown",
   "metadata": {},
   "source": [
    "**Precision and recall.**"
   ]
  },
  {
   "cell_type": "code",
   "execution_count": 48,
   "metadata": {},
   "outputs": [
    {
     "data": {
      "image/png": "[encoded data removed]",
      "text/plain": [
       "<Figure size 432x288 with 1 Axes>"
      ]
     },
     "metadata": {},
     "output_type": "display_data"
    }
   ],
   "source": [
    "pr = trainingSummary.pr.toPandas()\n",
    "plt.plot(pr['recall'],pr['precision'])\n",
    "plt.ylabel('Precision')\n",
    "plt.xlabel('Recall')\n",
    "plt.show()"
   ]
  },
  {
   "cell_type": "markdown",
   "metadata": {},
   "source": [
    "**Make predictions on the test set.**"
   ]
  },
  {
   "cell_type": "code",
   "execution_count": 50,
   "metadata": {},
   "outputs": [
    {
     "name": "stdout",
     "output_type": "stream",
     "text": [
      "+---+----------+-----+--------------------+----------+--------------------+\n",
      "|age|       job|label|       rawPrediction|prediction|         probability|\n",
      "+---+----------+-----+--------------------+----------+--------------------+\n",
      "| 37|management|  0.0|[1.19871810716723...|       0.0|[0.76829666339830...|\n",
      "| 40|management|  0.0|[2.20534940465796...|       0.0|[0.90072886169926...|\n",
      "| 53|management|  0.0|[1.02590348276690...|       0.0|[0.73612093009497...|\n",
      "| 32|management|  0.0|[1.25795481657702...|       0.0|[0.77867383994058...|\n",
      "| 54|management|  0.0|[1.33232096924268...|       0.0|[0.79122429116078...|\n",
      "| 40|management|  0.0|[1.57095096412779...|       0.0|[0.82791913346617...|\n",
      "| 56|management|  0.0|[3.06095963426752...|       0.0|[0.95525333386804...|\n",
      "| 50|management|  0.0|[-0.8102603273804...|       1.0|[0.30783502428597...|\n",
      "| 47|management|  0.0|[0.67024288891379...|       0.0|[0.66155754396054...|\n",
      "| 44|management|  0.0|[1.29756265761715...|       0.0|[0.78542449653716...|\n",
      "+---+----------+-----+--------------------+----------+--------------------+\n",
      "only showing top 10 rows\n",
      "\n"
     ]
    }
   ],
   "source": [
    "predictions = lrModel.transform(test)\n",
    "predictions.select('age', 'job', 'label', 'rawPrediction', 'prediction', 'probability').show(10)"
   ]
  },
  {
   "cell_type": "markdown",
   "metadata": {},
   "source": [
    "## Evaluate our Logistic Regression model."
   ]
  },
  {
   "cell_type": "code",
   "execution_count": 51,
   "metadata": {},
   "outputs": [
    {
     "name": "stdout",
     "output_type": "stream",
     "text": [
      "('Test Area Under ROC', 0.8858324614449619)\n"
     ]
    }
   ],
   "source": [
    "from pyspark.ml.evaluation import BinaryClassificationEvaluator\n",
    "evaluator = BinaryClassificationEvaluator()\n",
    "print('Test Area Under ROC', evaluator.evaluate(predictions))"
   ]
  },
  {
   "cell_type": "markdown",
   "metadata": {},
   "source": [
    "## Decision Tree Classifier\n",
    "Decision trees are widely used since they are easy to interpret, handle categorical features, extend to the multi-class classification, do not require feature scaling, and are able to capture non-linearities and feature interactions."
   ]
  },
  {
   "cell_type": "code",
   "execution_count": 52,
   "metadata": {},
   "outputs": [
    {
     "name": "stdout",
     "output_type": "stream",
     "text": [
      "+---+----------+-----+--------------+----------+--------------------+\n",
      "|age|       job|label| rawPrediction|prediction|         probability|\n",
      "+---+----------+-----+--------------+----------+--------------------+\n",
      "| 37|management|  0.0|[1130.0,387.0]|       0.0|[0.74489123269611...|\n",
      "| 40|management|  0.0| [1333.0,86.0]|       0.0|[0.93939393939393...|\n",
      "| 53|management|  0.0|[1130.0,387.0]|       0.0|[0.74489123269611...|\n",
      "| 32|management|  0.0|[1130.0,387.0]|       0.0|[0.74489123269611...|\n",
      "| 54|management|  0.0| [1333.0,86.0]|       0.0|[0.93939393939393...|\n",
      "| 40|management|  0.0|  [373.0,30.0]|       0.0|[0.92555831265508...|\n",
      "| 56|management|  0.0| [1333.0,86.0]|       0.0|[0.93939393939393...|\n",
      "| 50|management|  0.0|[788.0,1230.0]|       1.0|[0.39048562933597...|\n",
      "| 47|management|  0.0|[788.0,1230.0]|       1.0|[0.39048562933597...|\n",
      "| 44|management|  0.0|[1130.0,387.0]|       0.0|[0.74489123269611...|\n",
      "+---+----------+-----+--------------+----------+--------------------+\n",
      "only showing top 10 rows\n",
      "\n"
     ]
    }
   ],
   "source": [
    "from pyspark.ml.classification import DecisionTreeClassifier\n",
    "dt = DecisionTreeClassifier(featuresCol = 'features', labelCol = 'label', maxDepth = 3)\n",
    "dtModel = dt.fit(train)\n",
    "predictions = dtModel.transform(test)\n",
    "predictions.select('age', 'job', 'label', 'rawPrediction', 'prediction', 'probability').show(10)"
   ]
  },
  {
   "cell_type": "markdown",
   "metadata": {},
   "source": [
    "#### Evaluate our Decision Tree model.\n"
   ]
  },
  {
   "cell_type": "code",
   "execution_count": 53,
   "metadata": {},
   "outputs": [
    {
     "name": "stdout",
     "output_type": "stream",
     "text": [
      "Test Area Under ROC: 0.780724005007\n"
     ]
    }
   ],
   "source": [
    "evaluator = BinaryClassificationEvaluator()\n",
    "print(\"Test Area Under ROC: \" + str(evaluator.evaluate(predictions, {evaluator.metricName: \"areaUnderROC\"})))"
   ]
  },
  {
   "cell_type": "markdown",
   "metadata": {},
   "source": [
    "One simple decision tree performed poorly because it is too weak given the range of different features. The prediction accuracy of decision trees can be improved by Ensemble methods, such as Random Forest and Gradient-Boosted Tree."
   ]
  },
  {
   "cell_type": "markdown",
   "metadata": {},
   "source": [
    "### Random Forest Classifier"
   ]
  },
  {
   "cell_type": "code",
   "execution_count": 54,
   "metadata": {},
   "outputs": [
    {
     "name": "stdout",
     "output_type": "stream",
     "text": [
      "+---+----------+-----+--------------------+----------+--------------------+\n",
      "|age|       job|label|       rawPrediction|prediction|         probability|\n",
      "+---+----------+-----+--------------------+----------+--------------------+\n",
      "| 37|management|  0.0|[13.7684085682463...|       0.0|[0.68842042841231...|\n",
      "| 40|management|  0.0|[15.8223745371936...|       0.0|[0.79111872685968...|\n",
      "| 53|management|  0.0|[13.1702598030275...|       0.0|[0.65851299015137...|\n",
      "| 32|management|  0.0|[14.1919959887199...|       0.0|[0.70959979943599...|\n",
      "| 54|management|  0.0|[14.6398539567788...|       0.0|[0.73199269783894...|\n",
      "| 40|management|  0.0|[14.0699607906075...|       0.0|[0.70349803953037...|\n",
      "| 56|management|  0.0|[18.2300150701502...|       0.0|[0.91150075350751...|\n",
      "| 50|management|  0.0|[5.87833809369094...|       1.0|[0.29391690468454...|\n",
      "| 47|management|  0.0|[9.42210757136227...|       1.0|[0.47110537856811...|\n",
      "| 44|management|  0.0|[11.9323409071916...|       0.0|[0.59661704535958...|\n",
      "+---+----------+-----+--------------------+----------+--------------------+\n",
      "only showing top 10 rows\n",
      "\n"
     ]
    }
   ],
   "source": [
    "from pyspark.ml.classification import RandomForestClassifier\n",
    "rf = RandomForestClassifier(featuresCol = 'features', labelCol = 'label')\n",
    "rfModel = rf.fit(train)\n",
    "predictions = rfModel.transform(test)\n",
    "predictions.select('age', 'job', 'label', 'rawPrediction', 'prediction', 'probability').show(10)"
   ]
  },
  {
   "cell_type": "markdown",
   "metadata": {},
   "source": [
    "#### Evaluate our Random Forest Classifier."
   ]
  },
  {
   "cell_type": "code",
   "execution_count": 55,
   "metadata": {},
   "outputs": [
    {
     "name": "stdout",
     "output_type": "stream",
     "text": [
      "Test Area Under ROC: 0.882371041465\n"
     ]
    }
   ],
   "source": [
    "evaluator = BinaryClassificationEvaluator()\n",
    "print(\"Test Area Under ROC: \" + str(evaluator.evaluate(predictions, {evaluator.metricName: \"areaUnderROC\"})))"
   ]
  },
  {
   "cell_type": "markdown",
   "metadata": {},
   "source": [
    "# Project"
   ]
  },
  {
   "cell_type": "markdown",
   "metadata": {},
   "source": [
    "## Introduction to the problem\n",
    "\n",
    "**Problem Satatement**\n",
    "\n",
    "Using a dataset of collection of SMS, predict whether a piece of text/sms is a Spam or not\n",
    "\n",
    "**Exploring Dataset**\n",
    "\n",
    "1. Read the dataset into a Spark Dataframe"
   ]
  },
  {
   "cell_type": "code",
   "execution_count": 57,
   "metadata": {},
   "outputs": [],
   "source": [
    "# from pyspark.sql import SQLContext\n",
    "# sqlContext = SQLContext(sc)\n",
    "\n",
    "# spark = SparkSession \\\n",
    "#     .builder \\\n",
    "#     .appName(\"Python Spark dataframe basic example\") \\\n",
    "#     .getOrCreate()\n",
    "from pyspark.sql import SparkSession\n",
    "\n",
    "data = spark.read.csv('data/SMSSpamCollection.csv', header='true')"
   ]
  },
  {
   "cell_type": "markdown",
   "metadata": {},
   "source": [
    "**Print out the column names**"
   ]
  },
  {
   "cell_type": "code",
   "execution_count": 58,
   "metadata": {},
   "outputs": [
    {
     "data": {
      "text/plain": [
       "['category', 'text']"
      ]
     },
     "execution_count": 58,
     "metadata": {},
     "output_type": "execute_result"
    }
   ],
   "source": [
    "data.columns"
   ]
  },
  {
   "cell_type": "markdown",
   "metadata": {},
   "source": [
    "**Let's have a look to our Dataframe**"
   ]
  },
  {
   "cell_type": "code",
   "execution_count": 60,
   "metadata": {},
   "outputs": [
    {
     "name": "stdout",
     "output_type": "stream",
     "text": [
      "+--------+--------------------+\n",
      "|category|                text|\n",
      "+--------+--------------------+\n",
      "|     ham|Go until jurong p...|\n",
      "|     ham|Ok lar... Joking ...|\n",
      "|    spam|Free entry in 2 a...|\n",
      "|     ham|U dun say so earl...|\n",
      "|     ham|Nah I don't think...|\n",
      "+--------+--------------------+\n",
      "only showing top 5 rows\n",
      "\n"
     ]
    }
   ],
   "source": [
    "data.show(5)"
   ]
  },
  {
   "cell_type": "markdown",
   "metadata": {},
   "source": [
    "**Task 1 - Print out the schema to see datatype of each column**"
   ]
  },
  {
   "cell_type": "code",
   "execution_count": 61,
   "metadata": {},
   "outputs": [
    {
     "name": "stdout",
     "output_type": "stream",
     "text": [
      "root\n",
      " |-- category: string (nullable = true)\n",
      " |-- text: string (nullable = true)\n",
      "\n"
     ]
    }
   ],
   "source": [
    "data.printSchema()"
   ]
  },
  {
   "cell_type": "markdown",
   "metadata": {},
   "source": [
    "**Task 2 - Count number of messages in each catergory present into our dataset**"
   ]
  },
  {
   "cell_type": "code",
   "execution_count": 62,
   "metadata": {},
   "outputs": [
    {
     "name": "stdout",
     "output_type": "stream",
     "text": [
      "+--------+-----+\n",
      "|category|count|\n",
      "+--------+-----+\n",
      "|     ham| 4827|\n",
      "|    spam|  747|\n",
      "+--------+-----+\n",
      "\n"
     ]
    }
   ],
   "source": [
    "from pyspark.sql.functions import col\n",
    "\n",
    "# by top 20 categories\n",
    "data.groupBy(\"category\") \\\n",
    "    .count() \\\n",
    "    .show()"
   ]
  },
  {
   "cell_type": "markdown",
   "metadata": {},
   "source": [
    "**TASK 3 - Next, perform three tasks:**\n",
    "\n",
    "- Prepare your data i.e. text column by tokenizing the words\n",
    "- Remove stop words from the tokenized column. You can use nltk `english` collection of stopwords to intializae a set of stopwords. For example: \n",
    "\n",
    "```python\n",
    "from nltk.corpus import stopwords\n",
    "add_stopwords = stopwords.words('english')\n",
    "StopWordsRemover(inputCol, outputCol).setStopWords(add_stopwords)\n",
    "```\n",
    "\n",
    "- Finally Bag of words i.e. CountVectorizer to get features\n",
    "\n",
    "Use official documentation guide Spark on MLlib to solve the exercise. Link:\n",
    "\n",
    "[Spark MLlib guide](http://spark.apache.org/docs/1.6.2/ml-guide.html)\n",
    "\n",
    "\n",
    "**Hint:**\n",
    "1.  From `pyspark.ml.feature import RegexTokenizer` and give `text` column as input to it, correspondinly save output in a new column.\n",
    "\n",
    "2. From `pyspark.ml.feature import StopWordsRemover` and give the tokenized set of words column as an input to it.\n",
    "\n",
    "3. from pyspark.ml.feature import CountVectorizer and give the stopwords filtered set of column as input to it and output column will be the feature column."
   ]
  },
  {
   "cell_type": "code",
   "execution_count": 63,
   "metadata": {},
   "outputs": [],
   "source": [
    "from pyspark.ml.feature import RegexTokenizer, StopWordsRemover, CountVectorizer\n",
    "from nltk.corpus import stopwords\n",
    "\n",
    "# regular expression tokenizer\n",
    "regexTokenizer = RegexTokenizer(inputCol=\"text\", outputCol=\"words\", pattern=\"\\\\W\")\n",
    "\n",
    "\n",
    "# stop words\n",
    "add_stopwords = stopwords.words('english')\n",
    "\n",
    "stopwordsRemover = StopWordsRemover(inputCol=\"words\", outputCol=\"filtered\").setStopWords(add_stopwords)\n",
    "\n",
    "# bag of words count\n",
    "countVectors = CountVectorizer(inputCol=\"filtered\", outputCol=\"features\", vocabSize=10000)"
   ]
  },
  {
   "cell_type": "markdown",
   "metadata": {},
   "source": [
    "**Task 4 - Next, Apply StringIndexer to the `category` column to get label indexing**\n",
    "\n",
    "Hint: Use `from pyspark.ml.feature import StringIndexer` by giving Input column as our target column which is `category` and name the output column as you like,, say `label`\n"
   ]
  },
  {
   "cell_type": "code",
   "execution_count": 101,
   "metadata": {},
   "outputs": [],
   "source": [
    "from pyspark.ml.feature import StringIndexer\n",
    "# String Indexer - A label indexer that maps a string column of labels to an ML column of label indices.\n",
    "\n",
    "label_stringIdx = StringIndexer(inputCol = \"category\", outputCol = \"label\")"
   ]
  },
  {
   "cell_type": "markdown",
   "metadata": {},
   "source": [
    "**Task 5 - Pipeline All the steps performed above using Spark Pipeline API**\n",
    "\n",
    "Hint: Use `from pyspark.ml import Pipeline` and give stages as set of operations we want to perform in ordered series. Stages list will look like, stages=[regexTokenizer, stopwordsRemover, countVectors, label_stringIdx].\n"
   ]
  },
  {
   "cell_type": "code",
   "execution_count": 66,
   "metadata": {},
   "outputs": [],
   "source": [
    "from pyspark.ml import Pipeline\n",
    "\n",
    "# A Pipeline chains multiple Transformers and Estimators together to specify an ML workflow.\n",
    "\n",
    "pipeline = Pipeline(stages=[regexTokenizer, stopwordsRemover, countVectors, label_stringIdx])\n",
    "\n",
    "# Fit the pipeline to training documents.\n",
    "pipelineFit = pipeline.fit(data)\n",
    "dataset = pipelineFit.transform(data)"
   ]
  },
  {
   "cell_type": "markdown",
   "metadata": {},
   "source": [
    "**Use `show()` to have a look to your transformed dataframe**"
   ]
  },
  {
   "cell_type": "code",
   "execution_count": 104,
   "metadata": {},
   "outputs": [
    {
     "name": "stdout",
     "output_type": "stream",
     "text": [
      "+--------+--------------------+--------------------+--------------------+--------------------+--------------------+-----+\n",
      "|category|                text|               words|            filtered|         rawFeatures|            features|label|\n",
      "+--------+--------------------+--------------------+--------------------+--------------------+--------------------+-----+\n",
      "|     ham|Go until jurong p...|[go, until, juron...|[go, jurong, poin...|(10000,[165,1150,...|(10000,[165,1150,...|  0.0|\n",
      "|     ham|Ok lar... Joking ...|[ok, lar, joking,...|[ok, lar, joking,...|(10000,[20,2484,5...|(10000,[20,2484,5...|  0.0|\n",
      "|    spam|Free entry in 2 a...|[free, entry, in,...|[free, entry, 2, ...|(10000,[253,1073,...|(10000,[253,1073,...|  1.0|\n",
      "|     ham|U dun say so earl...|[u, dun, say, so,...|[u, dun, say, ear...|(10000,[1535,3722...|(10000,[1535,3722...|  0.0|\n",
      "|     ham|Nah I don't think...|[nah, i, don, t, ...|[nah, think, goes...|(10000,[1210,1564...|(10000,[1210,1564...|  0.0|\n",
      "+--------+--------------------+--------------------+--------------------+--------------------+--------------------+-----+\n",
      "only showing top 5 rows\n",
      "\n"
     ]
    }
   ],
   "source": [
    "dataset.show(5)"
   ]
  },
  {
   "cell_type": "markdown",
   "metadata": {},
   "source": [
    "**Task 6 - Next, split the dataset into training and test data**\n",
    "\n",
    "**Also, count the number of rows into each dataset**"
   ]
  },
  {
   "cell_type": "code",
   "execution_count": 103,
   "metadata": {},
   "outputs": [
    {
     "name": "stdout",
     "output_type": "stream",
     "text": [
      "Training Dataset Count: 3964\n",
      "Test Dataset Count: 1610\n"
     ]
    }
   ],
   "source": [
    "### Randomly split data into training and test sets. set seed for reproducibility\n",
    "\n",
    "(trainingData, testData) = dataset.randomSplit([0.7, 0.3], seed = 100)\n",
    "print(\"Training Dataset Count: \" + str(trainingData.count()))\n",
    "print(\"Test Dataset Count: \" + str(testData.count()))"
   ]
  },
  {
   "cell_type": "markdown",
   "metadata": {},
   "source": [
    "## Logistic Regression using Count Vector Features"
   ]
  },
  {
   "cell_type": "markdown",
   "metadata": {},
   "source": [
    "**Task 7 - Apply Logisitic Regression using Count Vector Features generated and train the model**\n",
    "\n",
    "Hint: Use `from pyspark.ml.classification import LogisticRegression` to  build a model by fitting your training data."
   ]
  },
  {
   "cell_type": "code",
   "execution_count": 105,
   "metadata": {},
   "outputs": [],
   "source": [
    "# Build the model\n",
    "from pyspark.ml.classification import LogisticRegression\n",
    "\n",
    "lr = LogisticRegression(maxIter=20, regParam=0.3, elasticNetParam=0)\n",
    "\n",
    "# Train model with Training Data\n",
    "lrModel = lr.fit(trainingData)"
   ]
  },
  {
   "cell_type": "markdown",
   "metadata": {},
   "source": [
    "**Perform prediction using the test dataset**"
   ]
  },
  {
   "cell_type": "code",
   "execution_count": 70,
   "metadata": {},
   "outputs": [
    {
     "name": "stdout",
     "output_type": "stream",
     "text": [
      "+------------------------------+--------+------------------------------+-----+----------+\n",
      "|                          text|category|                   probability|label|prediction|\n",
      "+------------------------------+--------+------------------------------+-----+----------+\n",
      "|The last thing i ever wante...|     ham|[0.993800982052416,0.006199...|  0.0|       0.0|\n",
      "|He neva grumble but i sad l...|     ham|[0.9909979741380167,0.00900...|  0.0|       0.0|\n",
      "|Oh... Haha... Den we shld h...|     ham|[0.989072174498803,0.010927...|  0.0|       0.0|\n",
      "|THING R GOOD THANX GOT EXAM...|     ham|[0.9887591192856042,0.01124...|  0.0|       0.0|\n",
      "|\"And that is the problem. Y...|     ham|[0.988324409355555,0.011675...|  0.0|       0.0|\n",
      "|Wen ur lovable bcums angry ...|     ham|[0.9882426098634558,0.01175...|  0.0|       0.0|\n",
      "|No i'm not. I can't give yo...|     ham|[0.9881854921268145,0.01181...|  0.0|       0.0|\n",
      "|You are always putting your...|     ham|[0.9879443215569211,0.01205...|  0.0|       0.0|\n",
      "|Heart is empty without love...|     ham|[0.9879331628639672,0.01206...|  0.0|       0.0|\n",
      "|Havent planning to buy late...|     ham|[0.9878657603477324,0.01213...|  0.0|       0.0|\n",
      "+------------------------------+--------+------------------------------+-----+----------+\n",
      "only showing top 10 rows\n",
      "\n"
     ]
    }
   ],
   "source": [
    "predictions = lrModel.transform(testData)\n",
    "\n",
    "predictions.filter(predictions['prediction'] == 0) \\\n",
    "    .select(\"text\",\"category\",\"probability\",\"label\",\"prediction\") \\\n",
    "    .orderBy(\"probability\", ascending=False) \\\n",
    "    .show(n = 10, truncate = 30)"
   ]
  },
  {
   "cell_type": "markdown",
   "metadata": {},
   "source": [
    "**Perform evaluations using MulticlassClassificationEvaluator**\n",
    "\n",
    "Hint: Use MulticlassClassificationEvaluator\n",
    "`from pyspark.ml.evaluation import MulticlassClassificationEvaluator`"
   ]
  },
  {
   "cell_type": "code",
   "execution_count": 71,
   "metadata": {},
   "outputs": [
    {
     "data": {
      "text/plain": [
       "0.9494949494949494"
      ]
     },
     "execution_count": 71,
     "metadata": {},
     "output_type": "execute_result"
    }
   ],
   "source": [
    "from pyspark.ml.evaluation import MulticlassClassificationEvaluator\n",
    "\n",
    "evaluator = MulticlassClassificationEvaluator(predictionCol=\"prediction\")\n",
    "evaluator.evaluate(predictions)"
   ]
  },
  {
   "cell_type": "markdown",
   "metadata": {},
   "source": [
    "# Logistic Regression using TF-IDF Features\n",
    "\n",
    "**Task 8 - Now, Apply Logistic Regression using TF-IDF to see if we can improve the accuracy further**"
   ]
  },
  {
   "cell_type": "code",
   "execution_count": 72,
   "metadata": {},
   "outputs": [],
   "source": [
    "from pyspark.ml.feature import HashingTF, IDF\n",
    "\n",
    "# Add HashingTF and IDF to transformation\n",
    "hashingTF = HashingTF(inputCol=\"filtered\", outputCol=\"rawFeatures\", numFeatures=10000)\n",
    "idf = IDF(inputCol=\"rawFeatures\", outputCol=\"features\", minDocFreq=5) #minDocFreq: remove sparse terms\n",
    "\n",
    "# Redo Pipeline\n",
    "pipeline = Pipeline(stages=[regexTokenizer, stopwordsRemover, hashingTF, idf, label_stringIdx])"
   ]
  },
  {
   "cell_type": "code",
   "execution_count": 73,
   "metadata": {},
   "outputs": [],
   "source": [
    "pipelineFit = pipeline.fit(data)\n",
    "dataset = pipelineFit.transform(data)\n",
    "\n",
    "### Randomly split data into training and test sets. set seed for reproducibility\n",
    "(trainingData, testData) = dataset.randomSplit([0.7, 0.3], seed = 100)\n",
    "\n",
    "# Build the model\n",
    "lr = LogisticRegression(maxIter=20, regParam=0.3, elasticNetParam=0)\n",
    "\n",
    "# Train model with Training Data\n",
    "lrModel = lr.fit(trainingData)"
   ]
  },
  {
   "cell_type": "markdown",
   "metadata": {},
   "source": [
    "**Perform predictions on Testdata using this model**"
   ]
  },
  {
   "cell_type": "code",
   "execution_count": 75,
   "metadata": {},
   "outputs": [
    {
     "name": "stdout",
     "output_type": "stream",
     "text": [
      "+------------------------------+--------+------------------------------+-----+----------+\n",
      "|                          text|category|                   probability|label|prediction|\n",
      "+------------------------------+--------+------------------------------+-----+----------+\n",
      "|THING R GOOD THANX GOT EXAM...|     ham|[0.9894476412953456,0.01055...|  0.0|       0.0|\n",
      "|He neva grumble but i sad l...|     ham|[0.9887095930738091,0.01129...|  0.0|       0.0|\n",
      "|Although i told u dat i'm i...|     ham|[0.9877546446366153,0.01224...|  0.0|       0.0|\n",
      "|Wen ur lovable bcums angry ...|     ham|[0.9873871799731352,0.01261...|  0.0|       0.0|\n",
      "|\"And that is the problem. Y...|     ham|[0.9870440089341924,0.01295...|  0.0|       0.0|\n",
      "|U say leh... Of course noth...|     ham|[0.9870247728278815,0.01297...|  0.0|       0.0|\n",
      "|Honeybee Said: *I'm d Sweet...|     ham|[0.9865047862576719,0.01349...|  0.0|       0.0|\n",
      "|Cos i was out shopping wif ...|     ham|[0.986161453417046,0.013838...|  0.0|       0.0|\n",
      "|Hi neva worry bout da truth...|     ham|[0.9861233055662262,0.01387...|  0.0|       0.0|\n",
      "|Yar he quite clever but aft...|     ham|[0.9857146230961832,0.01428...|  0.0|       0.0|\n",
      "+------------------------------+--------+------------------------------+-----+----------+\n",
      "only showing top 10 rows\n",
      "\n"
     ]
    }
   ],
   "source": [
    "predictions = lrModel.transform(testData)\n",
    "\n",
    "predictions.filter(predictions['prediction'] == 0) \\\n",
    "    .select(\"text\",\"category\",\"probability\",\"label\",\"prediction\") \\\n",
    "    .orderBy(\"probability\", ascending=False) \\\n",
    "    .show(n = 10, truncate = 30)"
   ]
  },
  {
   "cell_type": "markdown",
   "metadata": {},
   "source": [
    "**Evaluate your model using MulticlassClassificationEvaluator**"
   ]
  },
  {
   "cell_type": "code",
   "execution_count": 76,
   "metadata": {},
   "outputs": [],
   "source": [
    "# evaluator = MulticlassClassificationEvaluator(predictionCol=\"\")\n",
    "# evaluator.evaluate(predictions)"
   ]
  },
  {
   "cell_type": "markdown",
   "metadata": {},
   "source": [
    "## Custom text"
   ]
  },
  {
   "cell_type": "markdown",
   "metadata": {},
   "source": [
    "**Give a custom message to your trained model and check results. Remember, feed your text in form of dataframe to the model.**"
   ]
  },
  {
   "cell_type": "markdown",
   "metadata": {},
   "source": [
    "#### Example of how to create a spark dataframe\n",
    "\n",
    "```python\n",
    "from pyspark.sql import Row\n",
    "l = [('Ankit',25),('Jalfaizy',22),('saurabh',20),('Bala',26)]\n",
    "rdd = sc.parallelize(l)\n",
    "people = rdd.map(lambda x: Row(name=x[0], age=int(x[1])))\n",
    "schemaPeople = sqlContext.createDataFrame(people)\n",
    "\n",
    "print(type(schemaPeople))\n",
    "#  pyspark.sql.dataframe.DataFrame\n",
    "```\n"
   ]
  },
  {
   "cell_type": "code",
   "execution_count": 78,
   "metadata": {},
   "outputs": [],
   "source": [
    "from pyspark.sql import Row\n",
    "ll = [('Hurry up! Answer simple questions and WINNER will get $900 prize reward! To claim call us. Valid 12 hours only.'),('Hey, How are you? Long time no see')]\n",
    "rdds = sc.parallelize(ll)\n",
    "tx = rdds.map(lambda x: Row(text=x))\n",
    "schematxt = sqlContext.createDataFrame(tx)"
   ]
  },
  {
   "cell_type": "code",
   "execution_count": 79,
   "metadata": {},
   "outputs": [
    {
     "name": "stdout",
     "output_type": "stream",
     "text": [
      "+--------------------+\n",
      "|                text|\n",
      "+--------------------+\n",
      "|Hurry up! Answer ...|\n",
      "|Hey, How are you?...|\n",
      "+--------------------+\n",
      "\n"
     ]
    }
   ],
   "source": [
    "schematxt.show()"
   ]
  },
  {
   "cell_type": "markdown",
   "metadata": {},
   "source": [
    "## Calculating features for test sample data"
   ]
  },
  {
   "cell_type": "code",
   "execution_count": 80,
   "metadata": {},
   "outputs": [
    {
     "name": "stdout",
     "output_type": "stream",
     "text": [
      "+--------------------+--------------------+--------------------+--------------------+--------------------+\n",
      "|                text|               words|            filtered|         rawFeatures|            features|\n",
      "+--------------------+--------------------+--------------------+--------------------+--------------------+\n",
      "|Hurry up! Answer ...|[hurry, up, answe...|[hurry, answer, s...|(10000,[1,721,727...|(10000,[1,721,727...|\n",
      "|Hey, How are you?...|[hey, how, are, y...|[hey, long, time,...|(10000,[7515,8157...|(10000,[7515,8157...|\n",
      "+--------------------+--------------------+--------------------+--------------------+--------------------+\n",
      "\n"
     ]
    }
   ],
   "source": [
    "test_new_dataset = pipelineFit.transform(schematxt)\n",
    "test_new_dataset.show()"
   ]
  },
  {
   "cell_type": "markdown",
   "metadata": {},
   "source": [
    "## Predicting on calculated features of test sample data"
   ]
  },
  {
   "cell_type": "code",
   "execution_count": 81,
   "metadata": {},
   "outputs": [],
   "source": [
    "test_pred = lrModel.transform(test_new_dataset)\n",
    "# test_pred.filter(test_pred['prediction'] == 0) \\\n",
    "#     .select(\"text\",\"probability\",\"prediction\") \\\n",
    "#     .orderBy(\"probability\", ascending=False)"
   ]
  },
  {
   "cell_type": "code",
   "execution_count": 82,
   "metadata": {},
   "outputs": [
    {
     "name": "stdout",
     "output_type": "stream",
     "text": [
      "+--------------------+--------------------+----------+\n",
      "|                text|         probability|prediction|\n",
      "+--------------------+--------------------+----------+\n",
      "|Hurry up! Answer ...|[0.40530136808716...|       1.0|\n",
      "|Hey, How are you?...|[0.96833775344934...|       0.0|\n",
      "+--------------------+--------------------+----------+\n",
      "\n"
     ]
    }
   ],
   "source": [
    "test_pred.select(\"text\",\"probability\",\"prediction\").show()"
   ]
  },
  {
   "cell_type": "markdown",
   "metadata": {},
   "source": [
    "## Task 9 - Build Model using Naive Bayes algorithm\n",
    "\n",
    "### Predict on sample text"
   ]
  },
  {
   "cell_type": "code",
   "execution_count": 83,
   "metadata": {},
   "outputs": [],
   "source": [
    "from pyspark.ml.classification import NaiveBayes\n",
    "nb = NaiveBayes(smoothing=1)\n",
    "model = nb.fit(trainingData)\n",
    "predictions = model.transform(testData)"
   ]
  },
  {
   "cell_type": "code",
   "execution_count": 84,
   "metadata": {},
   "outputs": [
    {
     "data": {
      "text/plain": [
       "0.9731847068395234"
      ]
     },
     "execution_count": 84,
     "metadata": {},
     "output_type": "execute_result"
    }
   ],
   "source": [
    "evaluator = MulticlassClassificationEvaluator(predictionCol=\"prediction\")\n",
    "evaluator.evaluate(predictions)"
   ]
  },
  {
   "cell_type": "markdown",
   "metadata": {},
   "source": [
    "### prediction on sample dataset"
   ]
  },
  {
   "cell_type": "code",
   "execution_count": 86,
   "metadata": {},
   "outputs": [
    {
     "name": "stdout",
     "output_type": "stream",
     "text": [
      "+--------------------+--------------------+----------+\n",
      "|                text|         probability|prediction|\n",
      "+--------------------+--------------------+----------+\n",
      "|Hurry up! Answer ...|[0.40530136808716...|       1.0|\n",
      "|Hey, How are you?...|[0.96833775344934...|       0.0|\n",
      "+--------------------+--------------------+----------+\n",
      "\n"
     ]
    }
   ],
   "source": [
    "test_pred.select(\"text\",\"probability\",\"prediction\").show()"
   ]
  },
  {
   "cell_type": "markdown",
   "metadata": {},
   "source": [
    "As you can see Naive Bayes performed well and it's able to identify message as spam! Congrats!"
   ]
  }
 ],
 "metadata": {
  "kernelspec": {
   "display_name": "Python 3",
   "language": "python",
   "name": "python3"
  },
  "language_info": {
   "codemirror_mode": {
    "name": "ipython",
    "version": 3
   },
   "file_extension": ".py",
   "mimetype": "text/x-python",
   "name": "python",
   "nbconvert_exporter": "python",
   "pygments_lexer": "ipython3",
   "version": "3.7.0"
  }
 },
 "nbformat": 4,
 "nbformat_minor": 2
}
